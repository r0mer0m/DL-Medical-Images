{
 "cells": [
  {
   "cell_type": "code",
   "execution_count": 1,
   "metadata": {
    "collapsed": true
   },
   "outputs": [],
   "source": [
    "# %reload_ext autoreload\n",
    "# %autoreload 2\n",
    "# %matplotlib inline\n",
    "\n",
    "# from __core__ import *\n",
    "# from __utils__ import *\n",
    "\n",
    "# from __models__ import *\n",
    "# from __train__ import *\n",
    "# from functools  import partial\n",
    "# import warnings; warnings.filterwarnings('ignore')"
   ]
  },
  {
   "cell_type": "code",
   "execution_count": 79,
   "metadata": {
    "collapsed": true
   },
   "outputs": [],
   "source": [
    "%reload_ext autoreload\n",
    "%autoreload 2\n",
    "%matplotlib inline\n",
    "\n",
    "import pandas as pd\n",
    "from torch import nn\n",
    "from torch.nn import functional as F\n",
    "from pathlib import Path\n",
    "from __dataBatches__ import *\n",
    "import warnings; warnings.filterwarnings('ignore')\n",
    "from sklearn.metrics import roc_auc_score"
   ]
  },
  {
   "cell_type": "markdown",
   "metadata": {},
   "source": [
    "# MURA Pretrained"
   ]
  },
  {
   "cell_type": "code",
   "execution_count": 35,
   "metadata": {
    "collapsed": true
   },
   "outputs": [],
   "source": [
    "pretrained = True\n",
    "batch_size = 16\n",
    "epochs = 8\n",
    "freeze = False\n",
    "\n",
    "random_states = [42]\n",
    "\n",
    "PATH = Path('../data')\n",
    "SAVE_DIRECTORY = Path('../latest_models/chest')\n",
    "SAVE_PLOT = Path('../latest_plots/chest')\n",
    "\n",
    "img_folder_path = PATH/'ChestXRay-250'\n",
    "data = 'chest'"
   ]
  },
  {
   "cell_type": "markdown",
   "metadata": {},
   "source": [
    "# Data Batch creation"
   ]
  },
  {
   "cell_type": "code",
   "execution_count": 36,
   "metadata": {
    "collapsed": true
   },
   "outputs": [],
   "source": [
    "train_df = pd.read_csv(PATH/\"train_df.csv\")\n",
    "valid_df = pd.read_csv(PATH/\"val_df.csv\")\n",
    "test_df = pd.read_csv(PATH/\"test_df.csv\")\n",
    "\n",
    "\n",
    "train_dl = DataBatches(train_df, img_folder_path=img_folder_path,\n",
    "                               transforms=True, shuffle=True, data=data,\n",
    "                               batch_size=batch_size, normalize=pretrained)\n",
    "\n",
    "valid_dl = DataBatches(valid_df,img_folder_path=img_folder_path,\n",
    "                     transforms = False, shuffle = False, data= data,\n",
    "                     batch_size = batch_size, normalize=pretrained)\n",
    "\n",
    "test_dl = DataBatches(test_df,img_folder_path=img_folder_path,\n",
    "                  transforms = True, shuffle = False, data=data,\n",
    "                  batch_size = batch_size, normalize=pretrained)\n"
   ]
  },
  {
   "cell_type": "code",
   "execution_count": 37,
   "metadata": {
    "collapsed": true
   },
   "outputs": [],
   "source": [
    "train_dl.set_random_choices()"
   ]
  },
  {
   "cell_type": "code",
   "execution_count": 38,
   "metadata": {
    "collapsed": true
   },
   "outputs": [],
   "source": [
    "x,y = next(iter(train_dl))"
   ]
  },
  {
   "cell_type": "code",
   "execution_count": 39,
   "metadata": {},
   "outputs": [
    {
     "data": {
      "text/plain": [
       "(torch.Size([16, 3, 234, 234]), torch.Size([16, 14]))"
      ]
     },
     "execution_count": 39,
     "metadata": {},
     "output_type": "execute_result"
    }
   ],
   "source": [
    "x.shape, y.shape"
   ]
  },
  {
   "cell_type": "code",
   "execution_count": 40,
   "metadata": {
    "collapsed": true
   },
   "outputs": [],
   "source": [
    "x,y = next(iter(valid_dl))"
   ]
  },
  {
   "cell_type": "code",
   "execution_count": 41,
   "metadata": {},
   "outputs": [
    {
     "data": {
      "text/plain": [
       "(torch.Size([16, 3, 234, 234]), torch.Size([16, 14]))"
      ]
     },
     "execution_count": 41,
     "metadata": {},
     "output_type": "execute_result"
    }
   ],
   "source": [
    "x.shape, y.shape"
   ]
  },
  {
   "cell_type": "markdown",
   "metadata": {},
   "source": [
    "# Architecture"
   ]
  },
  {
   "cell_type": "code",
   "execution_count": 42,
   "metadata": {
    "collapsed": true
   },
   "outputs": [],
   "source": [
    "def save_model(m, p): torch.save(m.state_dict(), p)\n",
    "\n",
    "\n",
    "def load_model(m, p): m.load_state_dict(torch.load(p))\n",
    "\n",
    "\n",
    "def get_top_layers(pretrained):\n",
    "    '''Return a list of the top groups of paramteres. \n",
    "    Handles cases when:\n",
    "    > Model structure is in sequential groups (MURA)\n",
    "    > Model structure is the default from densenet121 architecture\n",
    "    '''\n",
    "    if pretrained == 'MURA':\n",
    "        top = DenseNet(1, False)\n",
    "        load_model(top, '../latest_models/mura_2.pth')\n",
    "        out = list([group.children() for group in top.groups[:2]])\n",
    "    elif pretrained in (True, False):\n",
    "        top_model = models.densenet121(pretrained=pretrained)\n",
    "        top_layers = list(top_model.children())[0]\n",
    "        out = [top_layers[:7], top_layers[7:]]\n",
    "    else:\n",
    "        raise ValueError(\"Invalid pretrained value\")\n",
    "        \n",
    "    return out\n",
    "\n",
    "class DenseNet(nn.Module):\n",
    "    '''\n",
    "    DenseNet121 with quick iterations on:\n",
    "     > arbitrary finite out_size.\n",
    "     > pre-trained model between ImageNet and the medical image data-set MURA (all but last layer).\n",
    "     > half float precision (16)\n",
    "     > freeze layers\n",
    "    '''\n",
    "\n",
    "    def __init__(self, out_size: int = 14, pretrained: bool = False, freeze: str = False):\n",
    "        '''\n",
    "\n",
    "        :param out_size: (int) output size\n",
    "        :param pretrained: (bool/str) Kind of pre-train: Supports  'MURA', True and False.\n",
    "        :param freeze: (bool) freeze all layers but last one.\n",
    "        '''\n",
    "        super().__init__()\n",
    "\n",
    "        top_layers_groups = get_top_layers(pretrained)\n",
    "\n",
    "        self.groups = nn.ModuleList([nn.Sequential(*group) for group in top_layers_groups])\n",
    "        self.groups.append(nn.Linear(1024, out_size))\n",
    "\n",
    "        if freeze: self.freeze([0, 1])\n",
    "\n",
    "    def forward(self, x):\n",
    "\n",
    "        for group in self.groups[:-1]:\n",
    "            x = group(x)\n",
    "        x = F.relu(x)\n",
    "        x = nn.AdaptiveAvgPool2d((1, 1))(x)\n",
    "        x = x.view(x.shape[0], -1)\n",
    "        x = self.groups[-1](x)\n",
    "        return x\n",
    "\n",
    "    def freeze(self, group_idxs: (list,int,tuple)):\n",
    "        if not isinstance(group_idxs, (list, tuple)): group_idxs = [group_idxs]\n",
    "        for group_idx in group_idxs:\n",
    "            group = self.groups[group_idx]\n",
    "            parameters = filter(lambda x: x.requires_grad, group.parameters())\n",
    "            for p in parameters:\n",
    "                p.requires_grad = False\n",
    "\n",
    "    def unfreeze(self, group_idx: int):\n",
    "        if group_idx not in [0, 1, 2]: raise ValueError('group_idx must be between 0 and 2')\n",
    "        group = self.groups[group_idx]\n",
    "        parameters = filter(lambda x: hasattr(x, 'requires_grad'), group.parameters())\n",
    "        for p in parameters: p.requires_grad = True"
   ]
  },
  {
   "cell_type": "code",
   "execution_count": 43,
   "metadata": {
    "collapsed": true
   },
   "outputs": [],
   "source": [
    "# model = DenseNet(14, pretrained=pretrained, freeze=False).cuda()"
   ]
  },
  {
   "cell_type": "markdown",
   "metadata": {},
   "source": [
    "# LR Finder"
   ]
  },
  {
   "cell_type": "code",
   "execution_count": 44,
   "metadata": {},
   "outputs": [
    {
     "data": {
      "text/plain": [
       "[2, 1, 0]"
      ]
     },
     "execution_count": 44,
     "metadata": {},
     "output_type": "execute_result"
    }
   ],
   "source": [
    "list(range(2,-1,-1))"
   ]
  },
  {
   "cell_type": "code",
   "execution_count": 55,
   "metadata": {
    "collapsed": true
   },
   "outputs": [],
   "source": [
    "### Annealings ###\n",
    "\n",
    "def exp_annealing(start_lr, end_lr, n):\n",
    "    ptg = np.linspace(0, 1, n)\n",
    "    return start_lr * (end_lr / start_lr) ** ptg\n",
    "\n",
    "def cos_annealing(start_lr, end_lr, n_iterations):\n",
    "    i = np.arange(n_iterations)\n",
    "    c_i = 1 + np.cos(i * np.pi / n_iterations)\n",
    "    return end_lr + (start_lr - end_lr) / 2 * c_i\n",
    "\n",
    "### Diff lr ###\n",
    "\n",
    "def diff_range(val, alpha=1.3):\n",
    "    return [val*alpha**i for i in range(2,-1,-1)]\n",
    "\n",
    "##### LR finder : Plicy, Optimizer and \n",
    "class FinderPolicy:\n",
    "\n",
    "    def __init__(self, n_epochs, dl, min_lr=1e-7, max_lr=10):\n",
    "        '''\n",
    "        Implements exponential annealing policy from min_lr to max_lr\n",
    "        '''\n",
    "        total_iterations = n_epochs * len(dl)\n",
    "        self.lr_schedule = exp_annealing(min_lr, max_lr, total_iterations)\n",
    "        self.mom = .9 # constant momentum policy with default value\n",
    "        self.idx = -1\n",
    "\n",
    "    def step(self):\n",
    "        self.idx = self.idx + 1\n",
    "        return self.lr_schedule[self.idx], self.mom\n",
    "    \n",
    "    \n",
    "class TrainingPolicy:\n",
    "    '''Cretes the lr and momentum policy'''\n",
    "    \n",
    "    def __init__(self, n_epochs, dl, max_lr, pctg=.3, moms=(.95, .85),\n",
    "                 delta=1e-4, div_factor=25.):\n",
    "\n",
    "        total_iterations = n_epochs * len(dl)\n",
    "        \n",
    "        iter1 = int(total_iterations * pctg)\n",
    "        iter2 = total_iterations - int(total_iterations * pctg)\n",
    "        iterations = (iter1, iter2)\n",
    "        \n",
    "        \n",
    "        min_start = max_lr /div_factor\n",
    "        min_end = min_start*delta\n",
    "        \n",
    "        lr_segments = ((min_start, max_lr), (max_lr, min_end))\n",
    "        mom_segments = (moms, (moms[1], moms[0]))\n",
    "\n",
    "        self.lr_schedule = self._create_schedule(lr_segments, iterations)\n",
    "        self.mom_schedule = self._create_schedule(mom_segments, iterations)\n",
    "\n",
    "        self.idx = -1\n",
    "\n",
    "    def _create_schedule(self, segments, iterations):\n",
    "        '''\n",
    "        Creates a schedule given a function, behaviour and size\n",
    "        '''\n",
    "        stages = [cos_annealing(start, end, n) for ((start, end), n) in zip(segments, iterations)]\n",
    "        return np.concatenate(stages)\n",
    "\n",
    "    def step(self):\n",
    "        self.idx += 1\n",
    "        return self.lr_schedule[self.idx], self.mom_schedule[self.idx]\n",
    "        \n",
    "class OptimizerWrapper:\n",
    "    '''Without using the momentum policy'''\n",
    "    \n",
    "    def __init__(self, model, policy, wd=0, alpha=1./ 3):\n",
    "\n",
    "        self.policy = policy # TrainingPolicy(n_epochs=n_epochs, dl=dl, max_lr=max_lr)\n",
    "\n",
    "        self.model = model\n",
    "        self.alpha = alpha\n",
    "        self.wd = wd\n",
    "        \n",
    "        # This assumes the model is defined by groups.\n",
    "        param_groups = [group.parameters() for group in list(self.model.children())[0]]\n",
    "        lr_0 = self.policy.lr_schedule[0]\n",
    "        mom_0 = self.policy.mom_schedule[0] if hasattr(self.policy, 'mom_schedule') else .9\n",
    "        \n",
    "        groups = zip(param_groups, diff_range(lr_0, alpha=alpha), diff_range(mom_0, alpha=1))\n",
    "        \n",
    "        self.optimizer = optim.Adam(\n",
    "            [{'params': p, 'lr': lr, 'mom': (mom,.999)} for p, lr, mom in groups]\n",
    "        )\n",
    "\n",
    "    def _update_optimizer(self):\n",
    "        lr_i, mom_i = self.policy.step()\n",
    "        groups = zip(self.optimizer.param_groups, \n",
    "                     diff_range(lr_i, alpha=self.alpha), \n",
    "                     diff_range(mom_i, alpha=1))\n",
    "        \n",
    "        for param_group, lr, mom in groups:\n",
    "            param_group['lr'] = lr\n",
    "            param_group['mom'] = (mom,.999)\n",
    "        \n",
    "    def _weight_decay(self):\n",
    "        for group in self.optimizer.param_group:\n",
    "                for p in group['params']: p.data.mul_(group['lr'] * self.wd)\n",
    "        \n",
    "    def step(self):\n",
    "        self._update_optimizer()\n",
    "        if self.wd != 0: self._weight_decay()\n",
    "        self.optimizer.step()\n",
    "\n",
    "    def zero_grad(self):\n",
    "        self.optimizer.zero_grad()\n",
    "\n",
    "# LR finder loop\n",
    "def lr_finder(model, n_epochs, train_dl, min_lr=1e-7, max_lr=10, save_path=None,\n",
    "              mode='exponential', early_stopping=200):\n",
    "\n",
    "    if save_path: save_model(model, save_path)\n",
    "    model.train()\n",
    "    \n",
    "    policy = FinderPolicy(n_epochs=n_epochs, dl=train_dl, min_lr=min_lr, max_lr=max_lr)\n",
    "    optimizer = OptimizerWrapper(model, policy)\n",
    "\n",
    "    lrs = optimizer.policy.lr_schedule\n",
    "    \n",
    "    losses = []\n",
    "    cnt = 0\n",
    "\n",
    "    for _ in tqdm_notebook(range(n_epochs)):\n",
    "        train_dl.set_random_choices()\n",
    "        for it, (x, y) in enumerate(tqdm_notebook(train_dl)):\n",
    "\n",
    "            optimizer.zero_grad()\n",
    "\n",
    "            out = model(x)\n",
    "            loss = F.binary_cross_entropy_with_logits(input=out, target=y)\n",
    "\n",
    "            loss.backward()\n",
    "            optimizer.step()\n",
    "\n",
    "            losses.append(loss.item())\n",
    "\n",
    "            if it%200 == 199:\n",
    "                plt.plot(lrs[:len(losses)], losses)\n",
    "                plt.xticks(rotation=45)\n",
    "                plt.show()\n",
    "\n",
    "            if cnt==early_stopping: return lrs[:cnt], losses\n",
    "            cnt +=1\n",
    "\n",
    "    if save_path: load_model(model, p)\n",
    "\n",
    "    return lrs, losses"
   ]
  },
  {
   "cell_type": "code",
   "execution_count": null,
   "metadata": {
    "collapsed": true
   },
   "outputs": [],
   "source": [
    "def lr_finder(model, n_epochs, train_dl, min_lr=1e-7, max_lr=10, save_path=None,\n",
    "              mode='exponential', early_stopping=200):\n",
    "\n",
    "    if save_path: save_model(model, save_path)\n",
    "\n",
    "    optimizer = FinderOptimizerWrapper(model, n_epochs, train_dl, min_lr=min_lr, max_lr=max_lr, wd=0, mode=mode)\n",
    "\n",
    "    lrs = optimizer.policy.lr_schedule\n",
    "    losses = []\n",
    "    cnt = 0\n",
    "\n",
    "    for _ in tqdm_notebook(range(n_epochs)):\n",
    "        model.train()\n",
    "        train_dl.set_random_choices()\n",
    "        for it, (x, y) in enumerate(tqdm_notebook(train_dl)):\n",
    "\n",
    "            optimizer.zero_grad()\n",
    "\n",
    "            out = model(x)\n",
    "            loss = F.binary_cross_entropy_with_logits(input=out, target=y)\n",
    "\n",
    "            loss.backward()\n",
    "            optimizer.step()\n",
    "\n",
    "            losses.append(loss.item())\n",
    "\n",
    "            if it%200 == 199:\n",
    "                plt.plot(lrs[:len(losses)], losses)\n",
    "                plt.xticks(rotation=45)\n",
    "                plt.show()\n",
    "\n",
    "            if cnt==early_stopping: return lrs[:cnt], losses\n",
    "            cnt +=1\n",
    "\n",
    "    if save_path: load_model(model, p)\n",
    "\n",
    "    return lrs, losses"
   ]
  },
  {
   "cell_type": "code",
   "execution_count": 54,
   "metadata": {
    "scrolled": false
   },
   "outputs": [
    {
     "data": {
      "application/vnd.jupyter.widget-view+json": {
       "model_id": "ca25e8182f43488a8702402ae966a29a",
       "version_major": 2,
       "version_minor": 0
      },
      "text/plain": [
       "A Jupyter Widget"
      ]
     },
     "metadata": {},
     "output_type": "display_data"
    },
    {
     "data": {
      "application/vnd.jupyter.widget-view+json": {
       "model_id": "8f43b92f49444936a48bac92f16a397c",
       "version_major": 2,
       "version_minor": 0
      },
      "text/plain": [
       "A Jupyter Widget"
      ]
     },
     "metadata": {},
     "output_type": "display_data"
    },
    {
     "data": {
      "image/png": "[encoded data removed]",
      "text/plain": [
       "<Figure size 432x288 with 1 Axes>"
      ]
     },
     "metadata": {},
     "output_type": "display_data"
    }
   ],
   "source": [
    "model = DenseNet(14, pretrained=pretrained, freeze=False).cuda()\n",
    "lrs, losses  = lr_finder(model, 1, train_dl, min_lr=1e-4, max_lr=1e-1, early_stopping=200)"
   ]
  },
  {
   "cell_type": "markdown",
   "metadata": {},
   "source": [
    "# Training definitions"
   ]
  },
  {
   "cell_type": "code",
   "execution_count": 62,
   "metadata": {
    "collapsed": true
   },
   "outputs": [],
   "source": [
    "def compute_AUCs(y, pred):\n",
    "    AUROCs = []\n",
    "    for i in range(N_CLASSES):\n",
    "        auc_i = roc_auc_score(y[:, i].astype(int), pred[:, i])\n",
    "        AUROCs.append(auc_i)\n",
    "    return  np.mean(AUROCs)\n",
    "\n",
    "def ave_auc(probs, ys):\n",
    "    aucs = [roc_auc_score(ys[:,i], probs[:,i]) for i in range(probs.shape[1])]\n",
    "    return np.mean(aucs), aucs   \n",
    "\n",
    "\n",
    "def validate(model, valid_dl):\n",
    "    \n",
    "    model.eval()\n",
    "    total = 0\n",
    "    sum_loss = 0\n",
    "    ys = []\n",
    "    preds = []\n",
    "    \n",
    "    for x, y in valid_dl:\n",
    "        \n",
    "        out = model(x)\n",
    "        loss = F.binary_cross_entropy_with_logits(out, y)\n",
    "        \n",
    "        batch = y.shape[0]\n",
    "        sum_loss += batch * (loss.item())\n",
    "        total += batch\n",
    "        \n",
    "        preds.append( out.detach().cpu().numpy())\n",
    "        ys.append( y.long().cpu().numpy())\n",
    "\n",
    " \n",
    "        \n",
    "    preds = np.vstack(preds)\n",
    "    ys = np.vstack(ys)\n",
    "    mean_auc, aucs = ave_auc(preds, ys)\n",
    "    \n",
    "#     print('\\n'.join([f'{m:.3f}' for m in auc])+'\\n')\n",
    "    \n",
    "    return sum_loss / total, mean_auc, aucs\n",
    "\n",
    "def train(n_epochs, train_dl, valid_dl, model, div_factor=25., max_lr=.01, wd=0, alpha=1./ 3,\n",
    "          save_path=None, unfreeze_during_loop:tuple=None):\n",
    "    \n",
    "    if unfreeze_during_loop:\n",
    "        total_iter = n_epochs*len(train_dl)\n",
    "        first_unfreeze = int(total_iter*unfreeze_during_loop[0])\n",
    "        second_unfreeze = int(total_iter*unfreeze_during_loop[1])\n",
    "\n",
    "    best_loss = np.inf\n",
    "    \n",
    "    policy = TrainingPolicy(n_epochs=n_epochs, dl=train_dl, max_lr=max_lr)\n",
    "    optimizer = OptimizerWrapper(model, policy, wd=wd, alpha=alpha)\n",
    "\n",
    "    for epoch in tqdm_notebook(range(n_epochs), ):\n",
    "        model.train()\n",
    "        agg_div = 0\n",
    "        agg_loss = 0\n",
    "        train_dl.set_random_choices()\n",
    "        for i, (x, y) in enumerate(tqdm_notebook(train_dl, leave=False)):\n",
    "\n",
    "            if unfreeze_during_loop:\n",
    "                if i == first_unfreeze: model.unfreeze(1)\n",
    "                if i == second_unfreeze: model.unfreeze(0)\n",
    "\n",
    "            out = model(x)\n",
    "            loss = F.binary_cross_entropy_with_logits(input=out, target=y)\n",
    "            optimizer.zero_grad()\n",
    "            loss.backward()\n",
    "            optimizer.step()\n",
    "            \n",
    "            batch = y.shape[0]\n",
    "            agg_loss += batch*loss.item()\n",
    "            agg_div += batch\n",
    "\n",
    "\n",
    "        val_loss, measure, _ = validate(model, valid_dl)\n",
    "        print(f'Ep. {epoch+1} - train loss {agg_loss/agg_div:.4f} -  val loss {val_loss:.4f} AUC {measure:.4f}')\n",
    "\n",
    "        if save_path and val_loss < best_loss:\n",
    "            save_model(model, save_path)\n",
    "            best_loss = val_loss"
   ]
  },
  {
   "cell_type": "markdown",
   "metadata": {},
   "source": [
    "# Training"
   ]
  },
  {
   "cell_type": "code",
   "execution_count": 68,
   "metadata": {
    "collapsed": true
   },
   "outputs": [],
   "source": [
    "epochs = 8"
   ]
  },
  {
   "cell_type": "code",
   "execution_count": 67,
   "metadata": {},
   "outputs": [
    {
     "data": {
      "application/vnd.jupyter.widget-view+json": {
       "model_id": "fac2bdd365144e4287ac7361d2b484d3",
       "version_major": 2,
       "version_minor": 0
      },
      "text/plain": [
       "A Jupyter Widget"
      ]
     },
     "metadata": {},
     "output_type": "display_data"
    },
    {
     "data": {
      "application/vnd.jupyter.widget-view+json": {
       "model_id": "5b3f5bc934ee438686bd0630e7a36450",
       "version_major": 2,
       "version_minor": 0
      },
      "text/plain": [
       "A Jupyter Widget"
      ]
     },
     "metadata": {},
     "output_type": "display_data"
    },
    {
     "name": "stdout",
     "output_type": "stream",
     "text": [
      "Ep. 1 - train loss 0.2881 -  val loss 0.1628 AUC 0.6458\n"
     ]
    },
    {
     "data": {
      "application/vnd.jupyter.widget-view+json": {
       "model_id": "b7ec97f39a374bc496d8d966abafb07b",
       "version_major": 2,
       "version_minor": 0
      },
      "text/plain": [
       "A Jupyter Widget"
      ]
     },
     "metadata": {},
     "output_type": "display_data"
    },
    {
     "name": "stdout",
     "output_type": "stream",
     "text": [
      "Ep. 2 - train loss 0.1509 -  val loss 0.1610 AUC 0.6857\n"
     ]
    },
    {
     "data": {
      "application/vnd.jupyter.widget-view+json": {
       "model_id": "3b771be1ec6b448d8f40ebfb0743cb58",
       "version_major": 2,
       "version_minor": 0
      },
      "text/plain": [
       "A Jupyter Widget"
      ]
     },
     "metadata": {},
     "output_type": "display_data"
    },
    {
     "name": "stdout",
     "output_type": "stream",
     "text": [
      "Ep. 3 - train loss 0.1426 -  val loss 0.1681 AUC 0.6922\n"
     ]
    },
    {
     "data": {
      "application/vnd.jupyter.widget-view+json": {
       "model_id": "b257c052e65e48008ce074783c3e9f45",
       "version_major": 2,
       "version_minor": 0
      },
      "text/plain": [
       "A Jupyter Widget"
      ]
     },
     "metadata": {},
     "output_type": "display_data"
    },
    {
     "name": "stdout",
     "output_type": "stream",
     "text": [
      "Ep. 4 - train loss 0.1292 -  val loss 0.1663 AUC 0.7042\n"
     ]
    },
    {
     "data": {
      "application/vnd.jupyter.widget-view+json": {
       "model_id": "7d5849a1c94d45c69997381ae4af825f",
       "version_major": 2,
       "version_minor": 0
      },
      "text/plain": [
       "A Jupyter Widget"
      ]
     },
     "metadata": {},
     "output_type": "display_data"
    },
    {
     "name": "stdout",
     "output_type": "stream",
     "text": [
      "Ep. 5 - train loss 0.1141 -  val loss 0.1712 AUC 0.6959\n"
     ]
    },
    {
     "data": {
      "application/vnd.jupyter.widget-view+json": {
       "model_id": "aa734cf971284291a33ad9cd1649733b",
       "version_major": 2,
       "version_minor": 0
      },
      "text/plain": [
       "A Jupyter Widget"
      ]
     },
     "metadata": {},
     "output_type": "display_data"
    },
    {
     "name": "stdout",
     "output_type": "stream",
     "text": [
      "Ep. 6 - train loss 0.0938 -  val loss 0.1743 AUC 0.7089\n"
     ]
    },
    {
     "data": {
      "application/vnd.jupyter.widget-view+json": {
       "model_id": "af0cfca00bf341f6b40ab4587163d7a0",
       "version_major": 2,
       "version_minor": 0
      },
      "text/plain": [
       "A Jupyter Widget"
      ]
     },
     "metadata": {},
     "output_type": "display_data"
    },
    {
     "name": "stdout",
     "output_type": "stream",
     "text": [
      "Ep. 7 - train loss 0.0746 -  val loss 0.1814 AUC 0.7055\n"
     ]
    },
    {
     "data": {
      "application/vnd.jupyter.widget-view+json": {
       "model_id": "9d082f88399140b8801f50838f36eb9f",
       "version_major": 2,
       "version_minor": 0
      },
      "text/plain": [
       "A Jupyter Widget"
      ]
     },
     "metadata": {},
     "output_type": "display_data"
    },
    {
     "name": "stdout",
     "output_type": "stream",
     "text": [
      "Ep. 8 - train loss 0.0628 -  val loss 0.1810 AUC 0.7026\n"
     ]
    }
   ],
   "source": [
    "# tiny version\n",
    "\n",
    "N  = 2_000\n",
    "tiny_df = train_df[:N]\n",
    "transforms=[random_rotation(arc_width=20), filp(), random_crop(r_pix=8)]\n",
    "tiny_dl = DataBatches(tiny_df, img_folder_path=img_folder_path,\n",
    "                               transforms=transforms, shuffle=True, data=data,\n",
    "                               batch_size=batch_size, normalize=pretrained)\n",
    "\n",
    "model = DenseNet(14, pretrained=pretrained, freeze=freeze).cuda()\n",
    "\n",
    "train(epochs, tiny_dl, valid_dl, model, max_lr=.001, save_path=None, unfreeze_during_loop=(.1, .2) if freeze else None)"
   ]
  },
  {
   "cell_type": "code",
   "execution_count": 70,
   "metadata": {},
   "outputs": [
    {
     "data": {
      "application/vnd.jupyter.widget-view+json": {
       "model_id": "e6bed1429f9f4883aa6d8a273665a4eb",
       "version_major": 2,
       "version_minor": 0
      },
      "text/plain": [
       "A Jupyter Widget"
      ]
     },
     "metadata": {},
     "output_type": "display_data"
    },
    {
     "data": {
      "application/vnd.jupyter.widget-view+json": {
       "model_id": "9786e882d21645f596d8b6b09ac257cf",
       "version_major": 2,
       "version_minor": 0
      },
      "text/plain": [
       "A Jupyter Widget"
      ]
     },
     "metadata": {},
     "output_type": "display_data"
    },
    {
     "name": "stdout",
     "output_type": "stream",
     "text": [
      "Ep. 1 - train loss 0.3406 -  val loss 0.1666 AUC 0.6493\n"
     ]
    },
    {
     "data": {
      "application/vnd.jupyter.widget-view+json": {
       "model_id": "d7d2406b1f9f4b8d85445a9be40e78a6",
       "version_major": 2,
       "version_minor": 0
      },
      "text/plain": [
       "A Jupyter Widget"
      ]
     },
     "metadata": {},
     "output_type": "display_data"
    },
    {
     "name": "stdout",
     "output_type": "stream",
     "text": [
      "Ep. 2 - train loss 0.1556 -  val loss 0.1735 AUC 0.6702\n"
     ]
    },
    {
     "data": {
      "application/vnd.jupyter.widget-view+json": {
       "model_id": "c8ff7b0306924b71abccad1d972227a9",
       "version_major": 2,
       "version_minor": 0
      },
      "text/plain": [
       "A Jupyter Widget"
      ]
     },
     "metadata": {},
     "output_type": "display_data"
    },
    {
     "name": "stdout",
     "output_type": "stream",
     "text": [
      "Ep. 3 - train loss 0.1525 -  val loss 0.1693 AUC 0.6736\n"
     ]
    },
    {
     "data": {
      "application/vnd.jupyter.widget-view+json": {
       "model_id": "29b31632c62e47e1910f6b2593285fed",
       "version_major": 2,
       "version_minor": 0
      },
      "text/plain": [
       "A Jupyter Widget"
      ]
     },
     "metadata": {},
     "output_type": "display_data"
    },
    {
     "name": "stdout",
     "output_type": "stream",
     "text": [
      "Ep. 4 - train loss 0.1434 -  val loss 0.1644 AUC 0.6954\n"
     ]
    },
    {
     "data": {
      "application/vnd.jupyter.widget-view+json": {
       "model_id": "beea534b8c3d4a5cbedc8351119b53c9",
       "version_major": 2,
       "version_minor": 0
      },
      "text/plain": [
       "A Jupyter Widget"
      ]
     },
     "metadata": {},
     "output_type": "display_data"
    },
    {
     "name": "stdout",
     "output_type": "stream",
     "text": [
      "Ep. 5 - train loss 0.1352 -  val loss 0.1689 AUC 0.7035\n"
     ]
    },
    {
     "data": {
      "application/vnd.jupyter.widget-view+json": {
       "model_id": "3c6a7aa1a21b4e2593975ecdd48ffc42",
       "version_major": 2,
       "version_minor": 0
      },
      "text/plain": [
       "A Jupyter Widget"
      ]
     },
     "metadata": {},
     "output_type": "display_data"
    },
    {
     "name": "stdout",
     "output_type": "stream",
     "text": [
      "Ep. 6 - train loss 0.1261 -  val loss 0.1664 AUC 0.6972\n"
     ]
    },
    {
     "data": {
      "application/vnd.jupyter.widget-view+json": {
       "model_id": "842833ec85df455988cf9d4474b1a96c",
       "version_major": 2,
       "version_minor": 0
      },
      "text/plain": [
       "A Jupyter Widget"
      ]
     },
     "metadata": {},
     "output_type": "display_data"
    },
    {
     "name": "stdout",
     "output_type": "stream",
     "text": [
      "Ep. 7 - train loss 0.1152 -  val loss 0.1659 AUC 0.7107\n"
     ]
    },
    {
     "data": {
      "application/vnd.jupyter.widget-view+json": {
       "model_id": "85c540b94fbc4336926212945a8900d4",
       "version_major": 2,
       "version_minor": 0
      },
      "text/plain": [
       "A Jupyter Widget"
      ]
     },
     "metadata": {},
     "output_type": "display_data"
    },
    {
     "name": "stdout",
     "output_type": "stream",
     "text": [
      "Ep. 8 - train loss 0.1098 -  val loss 0.1655 AUC 0.7091\n"
     ]
    }
   ],
   "source": [
    "# tiny version\n",
    "\n",
    "class random_rotation_v2:\n",
    "    \"\"\" Rotates an image by deg degrees\n",
    "\n",
    "    Args: -\n",
    "    \"\"\"\n",
    "\n",
    "    def __init__(self): pass\n",
    "\n",
    "    def __call__(self, im, deg,\n",
    "                 mode=cv2.BORDER_REFLECT, interpolation=cv2.INTER_AREA):\n",
    "        r, c, *_ = im.shape\n",
    "        M = cv2.getRotationMatrix2D((c / 2, r / 2), deg, 1)\n",
    "        return cv2.warpAffine(im, M, (c, r), borderMode=mode,\n",
    "                              flags=cv2.WARP_FILL_OUTLIERS + interpolation)\n",
    "\n",
    "    def options(self, x_shape):\n",
    "        \"\"\"Specify the random arguments to be generated every epoch.\n",
    "        Images must be have same dimensions !\n",
    "        \"\"\"\n",
    "        return {\"deg\": -1}\n",
    "\n",
    "    def set_random_choices(self, N, x_shape):\n",
    "        return {k: np.random.choice([-90,0,90], size=N, replace=True)  for k, v in self.options(x_shape).items()}\n",
    "\n",
    "\n",
    "N  = 2_000\n",
    "tiny_df = train_df[:N]\n",
    "transforms=[random_rotation_v2(), random_rotation(arc_width=20), flip(), random_crop(r_pix=8)]\n",
    "tiny_dl = DataBatches(tiny_df, img_folder_path=img_folder_path,\n",
    "                               transforms=transforms, shuffle=True, data=data,\n",
    "                               batch_size=batch_size, normalize=pretrained)\n",
    "\n",
    "model = DenseNet(14, pretrained=pretrained, freeze=freeze).cuda()\n",
    "\n",
    "train(epochs, tiny_dl, valid_dl, model, max_lr=.001, save_path=None, unfreeze_during_loop=(.1, .2) if freeze else None)"
   ]
  },
  {
   "cell_type": "code",
   "execution_count": null,
   "metadata": {},
   "outputs": [
    {
     "data": {
      "application/vnd.jupyter.widget-view+json": {
       "model_id": "6b6fc538a7ff4111bcfa3b49bc2695af",
       "version_major": 2,
       "version_minor": 0
      },
      "text/plain": [
       "A Jupyter Widget"
      ]
     },
     "metadata": {},
     "output_type": "display_data"
    },
    {
     "data": {
      "application/vnd.jupyter.widget-view+json": {
       "model_id": "af4cf9ecb2a245c196d435a6d235b2ef",
       "version_major": 2,
       "version_minor": 0
      },
      "text/plain": [
       "A Jupyter Widget"
      ]
     },
     "metadata": {},
     "output_type": "display_data"
    },
    {
     "name": "stdout",
     "output_type": "stream",
     "text": [
      "Ep. 1 - train loss 0.1539 -  val loss 0.1467 AUC 0.7846\n"
     ]
    },
    {
     "data": {
      "application/vnd.jupyter.widget-view+json": {
       "model_id": "e701e04fe7a24bfdbc84a9d185a55420",
       "version_major": 2,
       "version_minor": 0
      },
      "text/plain": [
       "A Jupyter Widget"
      ]
     },
     "metadata": {},
     "output_type": "display_data"
    },
    {
     "name": "stdout",
     "output_type": "stream",
     "text": [
      "Ep. 2 - train loss 0.1402 -  val loss 0.1474 AUC 0.7900\n"
     ]
    },
    {
     "data": {
      "application/vnd.jupyter.widget-view+json": {
       "model_id": "f60c29511a1546cf975ab06090118632",
       "version_major": 2,
       "version_minor": 0
      },
      "text/plain": [
       "A Jupyter Widget"
      ]
     },
     "metadata": {},
     "output_type": "display_data"
    },
    {
     "name": "stdout",
     "output_type": "stream",
     "text": [
      "Ep. 3 - train loss 0.1379 -  val loss 0.1452 AUC 0.7984\n"
     ]
    },
    {
     "data": {
      "application/vnd.jupyter.widget-view+json": {
       "model_id": "5fefb90c210c4b09ae5e9884551765a0",
       "version_major": 2,
       "version_minor": 0
      },
      "text/plain": [
       "A Jupyter Widget"
      ]
     },
     "metadata": {},
     "output_type": "display_data"
    },
    {
     "name": "stdout",
     "output_type": "stream",
     "text": [
      "Ep. 4 - train loss 0.1339 -  val loss 0.1426 AUC 0.8193\n"
     ]
    },
    {
     "data": {
      "application/vnd.jupyter.widget-view+json": {
       "model_id": "42e6c6b8297242bb9428e8d700d0074e",
       "version_major": 2,
       "version_minor": 0
      },
      "text/plain": [
       "A Jupyter Widget"
      ]
     },
     "metadata": {},
     "output_type": "display_data"
    }
   ],
   "source": [
    "# Whole dataset\n",
    "\n",
    "transforms=[random_rotation(arc_width=20), flip(), random_crop(r_pix=8)]\n",
    "\n",
    "train_dl = DataBatches(train_df, img_folder_path=img_folder_path,transforms=transforms,\n",
    "                       shuffle=True, data=data, batch_size=batch_size, normalize=pretrained)\n",
    "\n",
    "model = DenseNet(14, pretrained=pretrained, freeze=freeze).cuda()\n",
    "\n",
    "train(epochs, train_dl, valid_dl, model, max_lr=.001, save_path=None, unfreeze_during_loop=(.1, .2) if freeze else None)"
   ]
  },
  {
   "cell_type": "code",
   "execution_count": null,
   "metadata": {},
   "outputs": [],
   "source": [
    "test_dl = DataBatches(test_df,img_folder_path=img_folder_path, transforms = True, \n",
    "                      shuffle = False, data=data, batch_size = batch_size, normalize=pretrained)\n",
    "TTA_multilabel(model, test_dl)"
   ]
  },
  {
   "cell_type": "code",
   "execution_count": null,
   "metadata": {
    "collapsed": true,
    "scrolled": false
   },
   "outputs": [],
   "source": [
    "train_df = train_df.sample(frac=1)\n",
    "\n",
    "for N in [50, 100, 5_000, 10_000, 20_000, 35_000, 50_000, 60_000, 77_880]:\n",
    "    \n",
    "    sampled_train_df = train_df[:N]\n",
    "    \n",
    "    train_dl = DataBatches(train_df, img_folder_path=img_folder_path,\n",
    "                           transforms=True, shuffle=True, data=data,\n",
    "                           batch_size=batch_size, half=False, normalize=pretrained)\n",
    "    \n",
    "    model = DenseNet(14, pretrained=pretrained, freeze=freeze).cuda()\n",
    "    save_path = SAVE_DIRECTORY/f\"{pretrained}-{N}.pth\"\n",
    "    # save_path = SAVE_DIRECTORY / f\"{pretrained}-{N}-{random_state}-unfreezing.pth\"\n",
    "    train(epochs, train_dl, valid_dl, model, max_lr=.001, save_path=save_path,unfreeze_during_loop=(.1, .2) if freeze else None)"
   ]
  },
  {
   "cell_type": "code",
   "execution_count": 20,
   "metadata": {},
   "outputs": [
    {
     "data": {
      "text/plain": [
       "(0.20191780040408833,\n",
       " 0.8164163548894331,\n",
       " [0.7777638937179043,\n",
       "  0.8882716944725164,\n",
       "  0.8331421478637311,\n",
       "  0.6839344107757633,\n",
       "  0.8366145269199207,\n",
       "  0.7661666072832656,\n",
       "  0.7252368098300768,\n",
       "  0.8640024568362074,\n",
       "  0.752993899915239,\n",
       "  0.8507316063175169,\n",
       "  0.9233914222053733,\n",
       "  0.8275160380939851,\n",
       "  0.7879706132917902,\n",
       "  0.9120928409287741])"
      ]
     },
     "execution_count": 20,
     "metadata": {},
     "output_type": "execute_result"
    }
   ],
   "source": [
    "test_dl = DataBatches(test_df,img_folder_path=img_folder_path,\n",
    "                  transforms = False, shuffle = False, data=data,\n",
    "                  batch_size = batch_size, normalize=pretrained)\n",
    "validate(model, test_dl)"
   ]
  },
  {
   "cell_type": "code",
   "execution_count": 22,
   "metadata": {},
   "outputs": [
    {
     "name": "stdout",
     "output_type": "stream",
     "text": [
      "val loss 0.2021 and auc 0.8210\n"
     ]
    },
    {
     "data": {
      "text/plain": [
       "(0.20208021653882324, 0.8209861720227334)"
      ]
     },
     "execution_count": 22,
     "metadata": {},
     "output_type": "execute_result"
    }
   ],
   "source": [
    "test_dl = DataBatches(test_df,img_folder_path=img_folder_path,\n",
    "                  transforms = True, shuffle = False, data=data,\n",
    "                  batch_size = batch_size, normalize=pretrained)\n",
    "TTA_test_metrics_chest(model, test_dl)"
   ]
  },
  {
   "cell_type": "code",
   "execution_count": 18,
   "metadata": {
    "scrolled": true
   },
   "outputs": [
    {
     "data": {
      "application/vnd.jupyter.widget-view+json": {
       "model_id": "71d59bdd3bd748b7a5b5be93075f3db2",
       "version_major": 2,
       "version_minor": 0
      },
      "text/plain": [
       "A Jupyter Widget"
      ]
     },
     "metadata": {},
     "output_type": "display_data"
    },
    {
     "data": {
      "application/vnd.jupyter.widget-view+json": {
       "model_id": "e318da8cf059411bab4fb4570493ec7e",
       "version_major": 2,
       "version_minor": 0
      },
      "text/plain": [
       "A Jupyter Widget"
      ]
     },
     "metadata": {},
     "output_type": "display_data"
    },
    {
     "name": "stdout",
     "output_type": "stream",
     "text": [
      "Ep. 1 - train loss 0.1535 -  val loss 0.1460 AUC 0.7735\n"
     ]
    },
    {
     "data": {
      "application/vnd.jupyter.widget-view+json": {
       "model_id": "c33d6b526dbc4a52953733c89ed0d7bd",
       "version_major": 2,
       "version_minor": 0
      },
      "text/plain": [
       "A Jupyter Widget"
      ]
     },
     "metadata": {},
     "output_type": "display_data"
    },
    {
     "name": "stdout",
     "output_type": "stream",
     "text": [
      "Ep. 2 - train loss 0.1403 -  val loss 0.1490 AUC 0.7919\n"
     ]
    },
    {
     "data": {
      "application/vnd.jupyter.widget-view+json": {
       "model_id": "958ad7d2cc65463190076328affb91a1",
       "version_major": 2,
       "version_minor": 0
      },
      "text/plain": [
       "A Jupyter Widget"
      ]
     },
     "metadata": {},
     "output_type": "display_data"
    },
    {
     "name": "stdout",
     "output_type": "stream",
     "text": [
      "Ep. 3 - train loss 0.1379 -  val loss 0.1473 AUC 0.8027\n"
     ]
    },
    {
     "data": {
      "application/vnd.jupyter.widget-view+json": {
       "model_id": "4460556e0dde4ad492b31361ec16b139",
       "version_major": 2,
       "version_minor": 0
      },
      "text/plain": [
       "A Jupyter Widget"
      ]
     },
     "metadata": {},
     "output_type": "display_data"
    },
    {
     "name": "stdout",
     "output_type": "stream",
     "text": [
      "Ep. 4 - train loss 0.1337 -  val loss 0.1427 AUC 0.8155\n"
     ]
    },
    {
     "data": {
      "application/vnd.jupyter.widget-view+json": {
       "model_id": "f299f3e060f54abbb40fe274b28e7ab7",
       "version_major": 2,
       "version_minor": 0
      },
      "text/plain": [
       "A Jupyter Widget"
      ]
     },
     "metadata": {},
     "output_type": "display_data"
    },
    {
     "name": "stdout",
     "output_type": "stream",
     "text": [
      "Ep. 5 - train loss 0.1295 -  val loss 0.1388 AUC 0.8338\n"
     ]
    },
    {
     "data": {
      "application/vnd.jupyter.widget-view+json": {
       "model_id": "f72631ddb5d34cde93fdbd38cf1358ec",
       "version_major": 2,
       "version_minor": 0
      },
      "text/plain": [
       "A Jupyter Widget"
      ]
     },
     "metadata": {},
     "output_type": "display_data"
    },
    {
     "name": "stdout",
     "output_type": "stream",
     "text": [
      "Ep. 6 - train loss 0.1251 -  val loss 0.1369 AUC 0.8358\n"
     ]
    },
    {
     "data": {
      "application/vnd.jupyter.widget-view+json": {
       "model_id": "f662b10fdb2849b18f2ed4e0a0eed2bf",
       "version_major": 2,
       "version_minor": 0
      },
      "text/plain": [
       "A Jupyter Widget"
      ]
     },
     "metadata": {},
     "output_type": "display_data"
    },
    {
     "name": "stdout",
     "output_type": "stream",
     "text": [
      "Ep. 7 - train loss 0.1200 -  val loss 0.1369 AUC 0.8411\n"
     ]
    },
    {
     "data": {
      "application/vnd.jupyter.widget-view+json": {
       "model_id": "c83d2495e4394ad7bb0928883b010729",
       "version_major": 2,
       "version_minor": 0
      },
      "text/plain": [
       "A Jupyter Widget"
      ]
     },
     "metadata": {},
     "output_type": "display_data"
    },
    {
     "ename": "IndexError",
     "evalue": "index 38728 is out of bounds for axis 0 with size 38728",
     "output_type": "error",
     "traceback": [
      "\u001b[0;31m---------------------------------------------------------------------------\u001b[0m",
      "\u001b[0;31mIndexError\u001b[0m                                Traceback (most recent call last)",
      "\u001b[0;32m<ipython-input-18-95249fe8f649>\u001b[0m in \u001b[0;36m<module>\u001b[0;34m()\u001b[0m\n\u001b[1;32m      4\u001b[0m \u001b[0;31m# save_path = SAVE_DIRECTORY / f\"{pretrained}-{N}-{random_state}-unfreezing.pth\"\u001b[0m\u001b[0;34m\u001b[0m\u001b[0;34m\u001b[0m\u001b[0;34m\u001b[0m\u001b[0m\n\u001b[1;32m      5\u001b[0m \u001b[0;34m\u001b[0m\u001b[0m\n\u001b[0;32m----> 6\u001b[0;31m \u001b[0mtrain\u001b[0m\u001b[0;34m(\u001b[0m\u001b[0mepochs\u001b[0m\u001b[0;34m,\u001b[0m \u001b[0mtrain_dl\u001b[0m\u001b[0;34m,\u001b[0m \u001b[0mvalid_dl\u001b[0m\u001b[0;34m,\u001b[0m \u001b[0mmodel\u001b[0m\u001b[0;34m,\u001b[0m \u001b[0mmax_lr\u001b[0m\u001b[0;34m=\u001b[0m\u001b[0;36m.001\u001b[0m\u001b[0;34m,\u001b[0m \u001b[0msave_path\u001b[0m\u001b[0;34m=\u001b[0m\u001b[0msave_path\u001b[0m\u001b[0;34m,\u001b[0m\u001b[0munfreeze_during_loop\u001b[0m\u001b[0;34m=\u001b[0m\u001b[0;34m(\u001b[0m\u001b[0;36m.1\u001b[0m\u001b[0;34m,\u001b[0m \u001b[0;36m.2\u001b[0m\u001b[0;34m)\u001b[0m \u001b[0;32mif\u001b[0m \u001b[0mfreeze\u001b[0m \u001b[0;32melse\u001b[0m \u001b[0;32mNone\u001b[0m\u001b[0;34m)\u001b[0m\u001b[0;34m\u001b[0m\u001b[0;34m\u001b[0m\u001b[0m\n\u001b[0m",
      "\u001b[0;32m<ipython-input-17-a357c34d05eb>\u001b[0m in \u001b[0;36mtrain\u001b[0;34m(n_epochs, train_dl, valid_dl, model, div_factor, max_lr, wd, alpha, save_path, unfreeze_during_loop)\u001b[0m\n\u001b[1;32m    162\u001b[0m             \u001b[0mloss\u001b[0m \u001b[0;34m=\u001b[0m \u001b[0mF\u001b[0m\u001b[0;34m.\u001b[0m\u001b[0mbinary_cross_entropy_with_logits\u001b[0m\u001b[0;34m(\u001b[0m\u001b[0minput\u001b[0m\u001b[0;34m=\u001b[0m\u001b[0mout\u001b[0m\u001b[0;34m,\u001b[0m \u001b[0mtarget\u001b[0m\u001b[0;34m=\u001b[0m\u001b[0my\u001b[0m\u001b[0;34m)\u001b[0m\u001b[0;34m\u001b[0m\u001b[0;34m\u001b[0m\u001b[0m\n\u001b[1;32m    163\u001b[0m             \u001b[0mloss\u001b[0m\u001b[0;34m.\u001b[0m\u001b[0mbackward\u001b[0m\u001b[0;34m(\u001b[0m\u001b[0;34m)\u001b[0m\u001b[0;34m\u001b[0m\u001b[0;34m\u001b[0m\u001b[0m\n\u001b[0;32m--> 164\u001b[0;31m             \u001b[0moptimizer\u001b[0m\u001b[0;34m.\u001b[0m\u001b[0mstep\u001b[0m\u001b[0;34m(\u001b[0m\u001b[0;34m)\u001b[0m\u001b[0;34m\u001b[0m\u001b[0;34m\u001b[0m\u001b[0m\n\u001b[0m\u001b[1;32m    165\u001b[0m \u001b[0;34m\u001b[0m\u001b[0m\n\u001b[1;32m    166\u001b[0m             \u001b[0mbatch\u001b[0m \u001b[0;34m=\u001b[0m \u001b[0my\u001b[0m\u001b[0;34m.\u001b[0m\u001b[0mshape\u001b[0m\u001b[0;34m[\u001b[0m\u001b[0;36m0\u001b[0m\u001b[0;34m]\u001b[0m\u001b[0;34m\u001b[0m\u001b[0;34m\u001b[0m\u001b[0m\n",
      "\u001b[0;32m<ipython-input-17-a357c34d05eb>\u001b[0m in \u001b[0;36mstep\u001b[0;34m(self)\u001b[0m\n\u001b[1;32m    125\u001b[0m \u001b[0;34m\u001b[0m\u001b[0m\n\u001b[1;32m    126\u001b[0m     \u001b[0;32mdef\u001b[0m \u001b[0mstep\u001b[0m\u001b[0;34m(\u001b[0m\u001b[0mself\u001b[0m\u001b[0;34m)\u001b[0m\u001b[0;34m:\u001b[0m\u001b[0;34m\u001b[0m\u001b[0;34m\u001b[0m\u001b[0m\n\u001b[0;32m--> 127\u001b[0;31m         \u001b[0mself\u001b[0m\u001b[0;34m.\u001b[0m\u001b[0m_update_optimizer\u001b[0m\u001b[0;34m(\u001b[0m\u001b[0;34m)\u001b[0m\u001b[0;34m\u001b[0m\u001b[0;34m\u001b[0m\u001b[0m\n\u001b[0m\u001b[1;32m    128\u001b[0m         \u001b[0;32mif\u001b[0m \u001b[0mself\u001b[0m\u001b[0;34m.\u001b[0m\u001b[0m_wd\u001b[0m \u001b[0;34m!=\u001b[0m \u001b[0;36m0\u001b[0m\u001b[0;34m:\u001b[0m \u001b[0mself\u001b[0m\u001b[0;34m.\u001b[0m\u001b[0m_weight_decay\u001b[0m\u001b[0;34m(\u001b[0m\u001b[0;34m)\u001b[0m\u001b[0;34m\u001b[0m\u001b[0;34m\u001b[0m\u001b[0m\n\u001b[1;32m    129\u001b[0m         \u001b[0mself\u001b[0m\u001b[0;34m.\u001b[0m\u001b[0moptimizer\u001b[0m\u001b[0;34m.\u001b[0m\u001b[0mstep\u001b[0m\u001b[0;34m(\u001b[0m\u001b[0;34m)\u001b[0m\u001b[0;34m\u001b[0m\u001b[0;34m\u001b[0m\u001b[0m\n",
      "\u001b[0;32m<ipython-input-17-a357c34d05eb>\u001b[0m in \u001b[0;36m_update_optimizer\u001b[0;34m(self)\u001b[0m\n\u001b[1;32m    116\u001b[0m \u001b[0;34m\u001b[0m\u001b[0m\n\u001b[1;32m    117\u001b[0m     \u001b[0;32mdef\u001b[0m \u001b[0m_update_optimizer\u001b[0m\u001b[0;34m(\u001b[0m\u001b[0mself\u001b[0m\u001b[0;34m)\u001b[0m\u001b[0;34m:\u001b[0m\u001b[0;34m\u001b[0m\u001b[0;34m\u001b[0m\u001b[0m\n\u001b[0;32m--> 118\u001b[0;31m         \u001b[0mlr_i\u001b[0m\u001b[0;34m,\u001b[0m \u001b[0m_\u001b[0m \u001b[0;34m=\u001b[0m \u001b[0mself\u001b[0m\u001b[0;34m.\u001b[0m\u001b[0mpolicy\u001b[0m\u001b[0;34m.\u001b[0m\u001b[0mstep\u001b[0m\u001b[0;34m(\u001b[0m\u001b[0;34m)\u001b[0m\u001b[0;34m\u001b[0m\u001b[0;34m\u001b[0m\u001b[0m\n\u001b[0m\u001b[1;32m    119\u001b[0m         \u001b[0;32mfor\u001b[0m \u001b[0mparam_group\u001b[0m\u001b[0;34m,\u001b[0m \u001b[0mlr\u001b[0m\u001b[0;34m,\u001b[0m \u001b[0;32min\u001b[0m \u001b[0mzip\u001b[0m\u001b[0;34m(\u001b[0m\u001b[0mself\u001b[0m\u001b[0;34m.\u001b[0m\u001b[0moptimizer\u001b[0m\u001b[0;34m.\u001b[0m\u001b[0mparam_groups\u001b[0m\u001b[0;34m,\u001b[0m \u001b[0mself\u001b[0m\u001b[0;34m.\u001b[0m\u001b[0m_lr_range\u001b[0m\u001b[0;34m(\u001b[0m\u001b[0mlr_i\u001b[0m\u001b[0;34m)\u001b[0m\u001b[0;34m)\u001b[0m\u001b[0;34m:\u001b[0m\u001b[0;34m\u001b[0m\u001b[0;34m\u001b[0m\u001b[0m\n\u001b[1;32m    120\u001b[0m             \u001b[0mparam_group\u001b[0m\u001b[0;34m[\u001b[0m\u001b[0;34m'lr'\u001b[0m\u001b[0;34m]\u001b[0m \u001b[0;34m=\u001b[0m \u001b[0mlr\u001b[0m\u001b[0;34m\u001b[0m\u001b[0;34m\u001b[0m\u001b[0m\n",
      "\u001b[0;32m<ipython-input-17-a357c34d05eb>\u001b[0m in \u001b[0;36mstep\u001b[0;34m(self)\u001b[0m\n\u001b[1;32m     83\u001b[0m     \u001b[0;32mdef\u001b[0m \u001b[0mstep\u001b[0m\u001b[0;34m(\u001b[0m\u001b[0mself\u001b[0m\u001b[0;34m)\u001b[0m\u001b[0;34m:\u001b[0m\u001b[0;34m\u001b[0m\u001b[0;34m\u001b[0m\u001b[0m\n\u001b[1;32m     84\u001b[0m         \u001b[0mself\u001b[0m\u001b[0;34m.\u001b[0m\u001b[0midx\u001b[0m \u001b[0;34m+=\u001b[0m \u001b[0;36m1\u001b[0m\u001b[0;34m\u001b[0m\u001b[0;34m\u001b[0m\u001b[0m\n\u001b[0;32m---> 85\u001b[0;31m         \u001b[0;32mreturn\u001b[0m \u001b[0mself\u001b[0m\u001b[0;34m.\u001b[0m\u001b[0mlr_schedule\u001b[0m\u001b[0;34m[\u001b[0m\u001b[0mself\u001b[0m\u001b[0;34m.\u001b[0m\u001b[0midx\u001b[0m\u001b[0;34m]\u001b[0m\u001b[0;34m,\u001b[0m \u001b[0mself\u001b[0m\u001b[0;34m.\u001b[0m\u001b[0mmom_schedule\u001b[0m\u001b[0;34m[\u001b[0m\u001b[0mself\u001b[0m\u001b[0;34m.\u001b[0m\u001b[0midx\u001b[0m\u001b[0;34m]\u001b[0m\u001b[0;34m\u001b[0m\u001b[0;34m\u001b[0m\u001b[0m\n\u001b[0m\u001b[1;32m     86\u001b[0m \u001b[0;34m\u001b[0m\u001b[0m\n\u001b[1;32m     87\u001b[0m     \u001b[0;32mdef\u001b[0m \u001b[0mreset\u001b[0m\u001b[0;34m(\u001b[0m\u001b[0mself\u001b[0m\u001b[0;34m)\u001b[0m\u001b[0;34m:\u001b[0m\u001b[0;34m\u001b[0m\u001b[0;34m\u001b[0m\u001b[0m\n",
      "\u001b[0;31mIndexError\u001b[0m: index 38728 is out of bounds for axis 0 with size 38728"
     ]
    }
   ],
   "source": [
    "model = DenseNet(14, pretrained=pretrained, freeze=freeze).cuda()\n",
    "save_path = SAVE_DIRECTORY/f\"{pretrained}-77800.pth\"\n",
    "# save_path = SAVE_DIRECTORY / f\"{pretrained}-{N}-{random_state}-unfreezing.pth\"\n",
    "train(epochs, train_dl, valid_dl, model, max_lr=.001, save_path=save_path,unfreeze_during_loop=(.1, .2) if freeze else None)"
   ]
  },
  {
   "cell_type": "code",
   "execution_count": 215,
   "metadata": {
    "scrolled": true
   },
   "outputs": [
    {
     "data": {
      "application/vnd.jupyter.widget-view+json": {
       "model_id": "00d6fd4d43d747e6be558351c687e190",
       "version_major": 2,
       "version_minor": 0
      },
      "text/plain": [
       "A Jupyter Widget"
      ]
     },
     "metadata": {},
     "output_type": "display_data"
    },
    {
     "name": "stdout",
     "output_type": "stream",
     "text": [
      "Ep. 1 - train loss 0.1529 -  val loss 0.1456 AUC 0.7908\n",
      "Ep. 2 - train loss 0.1445 -  val loss 0.1478 AUC 0.7804\n",
      "Ep. 3 - train loss 0.1399 -  val loss 0.1457 AUC 0.7900\n",
      "Ep. 4 - train loss 0.1356 -  val loss 0.1409 AUC 0.8095\n",
      "Ep. 5 - train loss 0.1315 -  val loss 0.1398 AUC 0.8125\n",
      "Ep. 6 - train loss 0.1269 -  val loss 0.1382 AUC 0.8219\n",
      "Ep. 7 - train loss 0.1218 -  val loss 0.1373 AUC 0.8233\n",
      "Ep. 8 - train loss 0.1178 -  val loss 0.1374 AUC 0.8250\n"
     ]
    }
   ],
   "source": [
    "model = DenseNet(14, pretrained=pretrained, freeze=freeze).cuda()\n",
    "save_path = SAVE_DIRECTORY/f\"{pretrained}-77800-{random_state}.pth\"\n",
    "# save_path = SAVE_DIRECTORY / f\"{pretrained}-{N}-{random_state}-unfreezing.pth\"\n",
    "train(epochs, train_dl, valid_dl, model, max_lr=.001, save_path=save_path, bar=tqdm_notebook,\n",
    "      unfreeze_during_loop=(.1, .2) if freeze else None)"
   ]
  }
 ],
 "metadata": {
  "kernelspec": {
   "display_name": "Python 3",
   "language": "python",
   "name": "python3"
  },
  "language_info": {
   "codemirror_mode": {
    "name": "ipython",
    "version": 3
   },
   "file_extension": ".py",
   "mimetype": "text/x-python",
   "name": "python",
   "nbconvert_exporter": "python",
   "pygments_lexer": "ipython3",
   "version": "3.6.7"
  },
  "nav_menu": {},
  "toc": {
   "navigate_menu": true,
   "number_sections": true,
   "sideBar": true,
   "threshold": 6,
   "toc_cell": false,
   "toc_section_display": "block",
   "toc_window_display": false
  }
 },
 "nbformat": 4,
 "nbformat_minor": 2
}
