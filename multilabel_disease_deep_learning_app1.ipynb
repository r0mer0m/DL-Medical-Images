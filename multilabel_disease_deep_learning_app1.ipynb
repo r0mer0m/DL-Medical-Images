{
 "cells": [
  {
   "cell_type": "markdown",
   "metadata": {},
   "source": [
    "# Approach 1"
   ]
  },
  {
   "cell_type": "code",
   "execution_count": 37,
   "metadata": {
    "collapsed": true
   },
   "outputs": [],
   "source": [
    "%reload_ext autoreload\n",
    "%autoreload 2\n",
    "%matplotlib inline\n",
    "\n",
    "from core import * # basic imports\n",
    "from data_manipulation import DataBatches, RandomRotation, Flip, RandomCrop\n",
    "from utils import save_model, load_model, lr_loss_plot\n",
    "from architectures import DenseNet121\n",
    "from train_functions import get_optimizer, FinderPolicy, OptimizerWrapper, validate_multilabel\n",
    "import warnings; warnings.filterwarnings('ignore')"
   ]
  },
  {
   "cell_type": "code",
   "execution_count": 2,
   "metadata": {
    "collapsed": true
   },
   "outputs": [],
   "source": [
    "pretrained = True\n",
    "batch_size = 16\n",
    "epochs = 8\n",
    "freeze = False\n",
    "\n",
    "random_states = [42]\n",
    "\n",
    "PATH = Path('../data')\n",
    "SAVE_DIRECTORY = Path('../latest_models/14diseases-app1')\n",
    "SAVE_PLOT = Path('../latest_plots/14diseases-app1')\n",
    "\n",
    "img_folder_path = PATH/'ChestXRay-250'\n",
    "data = '14diseases'"
   ]
  },
  {
   "cell_type": "markdown",
   "metadata": {},
   "source": [
    "# Data Batch creation"
   ]
  },
  {
   "cell_type": "code",
   "execution_count": 3,
   "metadata": {
    "collapsed": true
   },
   "outputs": [],
   "source": [
    "train_df = pd.read_csv(PATH/\"train_df.csv\")\n",
    "valid_df = pd.read_csv(PATH/\"val_df.csv\")\n",
    "test_df = pd.read_csv(PATH/\"test_df.csv\")\n",
    "\n",
    "\n",
    "train_dl = DataBatches(train_df, img_folder_path=img_folder_path,\n",
    "                               transforms=True, shuffle=True, data=data,\n",
    "                               batch_size=batch_size, normalize=pretrained)\n",
    "\n",
    "valid_dl = DataBatches(valid_df,img_folder_path=img_folder_path,\n",
    "                     transforms = False, shuffle = False, data= data,\n",
    "                     batch_size = batch_size, normalize=pretrained)\n",
    "\n",
    "test_dl = DataBatches(test_df,img_folder_path=img_folder_path,\n",
    "                  transforms = True, shuffle = False, data=data,\n",
    "                  batch_size = batch_size, normalize=pretrained)\n"
   ]
  },
  {
   "cell_type": "code",
   "execution_count": 4,
   "metadata": {
    "collapsed": true
   },
   "outputs": [],
   "source": [
    "# train_dl.set_random_choices()\n",
    "\n",
    "# x,y = next(iter(train_dl))\n",
    "# x.shape, y.shape"
   ]
  },
  {
   "cell_type": "markdown",
   "metadata": {},
   "source": [
    "# Architecture"
   ]
  },
  {
   "cell_type": "code",
   "execution_count": 9,
   "metadata": {
    "collapsed": true
   },
   "outputs": [],
   "source": [
    "model = DenseNet121(14, pretrained=pretrained, freeze=False).cuda()"
   ]
  },
  {
   "cell_type": "markdown",
   "metadata": {},
   "source": [
    "# LR Finder"
   ]
  },
  {
   "cell_type": "markdown",
   "metadata": {},
   "source": [
    "We use the same learning rate finder but specifying `alpha=1` to don't use differential learning rates."
   ]
  },
  {
   "cell_type": "code",
   "execution_count": 11,
   "metadata": {
    "collapsed": true
   },
   "outputs": [],
   "source": [
    "# LR finder loop\n",
    "def lr_finder(model, n_epochs, train_dl, min_lr=1e-7, max_lr=10, save_path=None,\n",
    "              alpha=1./3, early_stopping=200):\n",
    "\n",
    "    if save_path: save_model(model, save_path)\n",
    "    model.train()\n",
    "    \n",
    "    policy = FinderPolicy(n_epochs=n_epochs, dl=train_dl, min_lr=min_lr, max_lr=max_lr)\n",
    "    optimizer = OptimizerWrapper(model, policy, alpha=alpha)\n",
    "\n",
    "    lrs = optimizer.policy.lr_schedule\n",
    "    \n",
    "    losses = []\n",
    "    cnt = 0\n",
    "\n",
    "    for _ in tqdm_notebook(range(n_epochs)):\n",
    "        train_dl.set_random_choices()\n",
    "        for it, (x, y) in enumerate(tqdm_notebook(train_dl)):\n",
    "\n",
    "            optimizer.zero_grad()\n",
    "\n",
    "            out = model(x)\n",
    "            loss = F.binary_cross_entropy_with_logits(input=out, target=y)\n",
    "\n",
    "            loss.backward()\n",
    "            optimizer.step()\n",
    "\n",
    "            losses.append(loss.item())\n",
    "\n",
    "            if it%200 == 199: lr_loss_plot(lrs, losses)\n",
    "            if cnt==early_stopping: return lrs[:cnt], losses\n",
    "            cnt +=1\n",
    "\n",
    "    if save_path: load_model(model, p)\n",
    "\n",
    "    return lrs, losses"
   ]
  },
  {
   "cell_type": "code",
   "execution_count": 12,
   "metadata": {
    "scrolled": false
   },
   "outputs": [
    {
     "data": {
      "application/vnd.jupyter.widget-view+json": {
       "model_id": "06474d576d144f75bed391f18f469f18",
       "version_major": 2,
       "version_minor": 0
      },
      "text/plain": [
       "A Jupyter Widget"
      ]
     },
     "metadata": {},
     "output_type": "display_data"
    },
    {
     "data": {
      "application/vnd.jupyter.widget-view+json": {
       "model_id": "1e26f41df70b485e82def9ddc7506a49",
       "version_major": 2,
       "version_minor": 0
      },
      "text/plain": [
       "A Jupyter Widget"
      ]
     },
     "metadata": {},
     "output_type": "display_data"
    },
    {
     "data": {
      "image/png": "[encoded data removed]",
      "text/plain": [
       "<Figure size 432x288 with 1 Axes>"
      ]
     },
     "metadata": {},
     "output_type": "display_data"
    }
   ],
   "source": [
    "model = DenseNet121(14, pretrained=pretrained, freeze=False).cuda()\n",
    "lrs, losses  = lr_finder(model, 1, train_dl, min_lr=1e-4, max_lr=1e-1, alpha=1, early_stopping=200)"
   ]
  },
  {
   "cell_type": "markdown",
   "metadata": {},
   "source": [
    "# Training definitions"
   ]
  },
  {
   "cell_type": "markdown",
   "metadata": {},
   "source": [
    "Train function for **regular policy**:"
   ]
  },
  {
   "cell_type": "code",
   "execution_count": 46,
   "metadata": {
    "collapsed": true
   },
   "outputs": [],
   "source": [
    "def train(epochs, train_dl, valid_dl, model, save_path=None,\n",
    "          min_lr=1e-6, max_lr=0.001, epsilon=.01, unfreeze_during_loop:tuple=None):\n",
    "    lr = max_lr\n",
    "    prev_loss, min_loss = np.inf, np.inf\n",
    "    cnt = 0\n",
    "    \n",
    "    if unfreeze_during_loop:\n",
    "        total_iter = n_epochs*len(train_dl)\n",
    "        first_unfreeze = int(total_iter*unfreeze_during_loop[0])\n",
    "        second_unfreeze = int(total_iter*unfreeze_during_loop[1])\n",
    "        \n",
    "    \n",
    "    for epoch in tqdm_notebook(range(epochs)):\n",
    "        model.train()\n",
    "        train_dl.set_random_choices()\n",
    "        total = 0\n",
    "        sum_loss = 0\n",
    "        optim = get_optimizer(model, lr=lr, wd=0)\n",
    "        for x, y in tqdm_notebook(train_dl, leave=False):\n",
    "            \n",
    "            if unfreeze_during_loop:\n",
    "                if cnt == first_unfreeze: model.unfreeze(1)\n",
    "                if cnt == second_unfreeze: model.unfreeze(0)\n",
    "            \n",
    "            batch = y.shape[0]\n",
    "            out = model(x)\n",
    "            loss = F.binary_cross_entropy_with_logits(out, y)\n",
    "            optim.zero_grad()\n",
    "            loss.backward()\n",
    "            optim.step()\n",
    "            total += batch\n",
    "            sum_loss += batch * (loss.item())\n",
    "            \n",
    "            cnt += 1\n",
    "                \n",
    "        val_loss, measure, _ = validate_multilabel(model, valid_dl)\n",
    "        print(f'Ep. {epoch+1} - lr {lr:.7f} train loss {sum_loss/total:.4f} -  val loss {val_loss:.4f} AUC {measure:.4f}')\n",
    "\n",
    "        if val_loss - prev_loss > epsilon:\n",
    "            lr = lr / 10.0\n",
    "        if val_loss < min_loss:\n",
    "            if save_path: save_model(model, save_path)\n",
    "            min_loss = val_loss\n",
    "        prev_loss = val_loss\n",
    "        if lr < min_lr:\n",
    "            break"
   ]
  },
  {
   "cell_type": "markdown",
   "metadata": {},
   "source": [
    "# Training"
   ]
  },
  {
   "cell_type": "code",
   "execution_count": 44,
   "metadata": {
    "collapsed": true
   },
   "outputs": [],
   "source": [
    "epochs = 8"
   ]
  },
  {
   "cell_type": "code",
   "execution_count": 47,
   "metadata": {},
   "outputs": [
    {
     "data": {
      "application/vnd.jupyter.widget-view+json": {
       "model_id": "04a5e42cac164401ba3a283934021be2",
       "version_major": 2,
       "version_minor": 0
      },
      "text/plain": [
       "A Jupyter Widget"
      ]
     },
     "metadata": {},
     "output_type": "display_data"
    },
    {
     "data": {
      "application/vnd.jupyter.widget-view+json": {
       "model_id": "a102544d963149e2824b584c8520c717",
       "version_major": 2,
       "version_minor": 0
      },
      "text/plain": [
       "A Jupyter Widget"
      ]
     },
     "metadata": {},
     "output_type": "display_data"
    },
    {
     "name": "stdout",
     "output_type": "stream",
     "text": [
      "Ep. 1 - lr 0.0000010 train loss 0.4021 -  val loss 0.2240 AUC 0.6184\n"
     ]
    },
    {
     "data": {
      "application/vnd.jupyter.widget-view+json": {
       "model_id": "980794155bfa49f8a84d84c818249aa2",
       "version_major": 2,
       "version_minor": 0
      },
      "text/plain": [
       "A Jupyter Widget"
      ]
     },
     "metadata": {},
     "output_type": "display_data"
    },
    {
     "name": "stdout",
     "output_type": "stream",
     "text": [
      "Ep. 2 - lr 0.0000010 train loss 0.1765 -  val loss 0.1603 AUC 0.6911\n"
     ]
    },
    {
     "data": {
      "application/vnd.jupyter.widget-view+json": {
       "model_id": "8f45f21dcd604f34aa5bec5644f8b575",
       "version_major": 2,
       "version_minor": 0
      },
      "text/plain": [
       "A Jupyter Widget"
      ]
     },
     "metadata": {},
     "output_type": "display_data"
    },
    {
     "name": "stdout",
     "output_type": "stream",
     "text": [
      "Ep. 3 - lr 0.0000010 train loss 0.1518 -  val loss 0.1544 AUC 0.7178\n"
     ]
    },
    {
     "data": {
      "application/vnd.jupyter.widget-view+json": {
       "model_id": "917c0f1cc144478a8b12929d02d1515d",
       "version_major": 2,
       "version_minor": 0
      },
      "text/plain": [
       "A Jupyter Widget"
      ]
     },
     "metadata": {},
     "output_type": "display_data"
    },
    {
     "name": "stdout",
     "output_type": "stream",
     "text": [
      "Ep. 4 - lr 0.0000010 train loss 0.1480 -  val loss 0.1520 AUC 0.7329\n"
     ]
    },
    {
     "data": {
      "application/vnd.jupyter.widget-view+json": {
       "model_id": "dbffb80752b6413dbcd1710e6db05635",
       "version_major": 2,
       "version_minor": 0
      },
      "text/plain": [
       "A Jupyter Widget"
      ]
     },
     "metadata": {},
     "output_type": "display_data"
    },
    {
     "name": "stdout",
     "output_type": "stream",
     "text": [
      "Ep. 5 - lr 0.0000010 train loss 0.1461 -  val loss 0.1507 AUC 0.7428\n"
     ]
    },
    {
     "data": {
      "application/vnd.jupyter.widget-view+json": {
       "model_id": "121d3f4c4feb46f08f4edbb217109cf0",
       "version_major": 2,
       "version_minor": 0
      },
      "text/plain": [
       "A Jupyter Widget"
      ]
     },
     "metadata": {},
     "output_type": "display_data"
    },
    {
     "name": "stdout",
     "output_type": "stream",
     "text": [
      "Ep. 6 - lr 0.0000010 train loss 0.1446 -  val loss 0.1493 AUC 0.7504\n"
     ]
    },
    {
     "data": {
      "application/vnd.jupyter.widget-view+json": {
       "model_id": "fd60ec3aff8a45078cb136f14c8fbaf0",
       "version_major": 2,
       "version_minor": 0
      },
      "text/plain": [
       "A Jupyter Widget"
      ]
     },
     "metadata": {},
     "output_type": "display_data"
    },
    {
     "name": "stdout",
     "output_type": "stream",
     "text": [
      "Ep. 7 - lr 0.0000010 train loss 0.1433 -  val loss 0.1485 AUC 0.7573\n"
     ]
    },
    {
     "data": {
      "application/vnd.jupyter.widget-view+json": {
       "model_id": "32695a393fd0427c81b9cdfcfb02975e",
       "version_major": 2,
       "version_minor": 0
      },
      "text/plain": [
       "A Jupyter Widget"
      ]
     },
     "metadata": {},
     "output_type": "display_data"
    },
    {
     "name": "stdout",
     "output_type": "stream",
     "text": [
      "Ep. 8 - lr 0.0000010 train loss 0.1425 -  val loss 0.1478 AUC 0.7604\n"
     ]
    }
   ],
   "source": [
    "# tiny version\n",
    "\n",
    "transforms=[RandomRotation(arc_width=20), Flip(), RandomCrop(r_pix=8)]\n",
    "train_dl = DataBatches(train_df, img_folder_path=img_folder_path,\n",
    "                               transforms=transforms, shuffle=True, data=data,\n",
    "                               batch_size=batch_size, normalize=pretrained)\n",
    "\n",
    "model = DenseNet121(14, pretrained=pretrained, freeze=freeze).cuda()\n",
    "\n",
    "train(epochs, train_dl, valid_dl, model, max_lr=.001, save_path=None)"
   ]
  },
  {
   "cell_type": "code",
   "execution_count": 70,
   "metadata": {},
   "outputs": [
    {
     "data": {
      "application/vnd.jupyter.widget-view+json": {
       "model_id": "e6bed1429f9f4883aa6d8a273665a4eb",
       "version_major": 2,
       "version_minor": 0
      },
      "text/plain": [
       "A Jupyter Widget"
      ]
     },
     "metadata": {},
     "output_type": "display_data"
    },
    {
     "data": {
      "application/vnd.jupyter.widget-view+json": {
       "model_id": "9786e882d21645f596d8b6b09ac257cf",
       "version_major": 2,
       "version_minor": 0
      },
      "text/plain": [
       "A Jupyter Widget"
      ]
     },
     "metadata": {},
     "output_type": "display_data"
    },
    {
     "name": "stdout",
     "output_type": "stream",
     "text": [
      "Ep. 1 - train loss 0.3406 -  val loss 0.1666 AUC 0.6493\n"
     ]
    },
    {
     "data": {
      "application/vnd.jupyter.widget-view+json": {
       "model_id": "d7d2406b1f9f4b8d85445a9be40e78a6",
       "version_major": 2,
       "version_minor": 0
      },
      "text/plain": [
       "A Jupyter Widget"
      ]
     },
     "metadata": {},
     "output_type": "display_data"
    },
    {
     "name": "stdout",
     "output_type": "stream",
     "text": [
      "Ep. 2 - train loss 0.1556 -  val loss 0.1735 AUC 0.6702\n"
     ]
    },
    {
     "data": {
      "application/vnd.jupyter.widget-view+json": {
       "model_id": "c8ff7b0306924b71abccad1d972227a9",
       "version_major": 2,
       "version_minor": 0
      },
      "text/plain": [
       "A Jupyter Widget"
      ]
     },
     "metadata": {},
     "output_type": "display_data"
    },
    {
     "name": "stdout",
     "output_type": "stream",
     "text": [
      "Ep. 3 - train loss 0.1525 -  val loss 0.1693 AUC 0.6736\n"
     ]
    },
    {
     "data": {
      "application/vnd.jupyter.widget-view+json": {
       "model_id": "29b31632c62e47e1910f6b2593285fed",
       "version_major": 2,
       "version_minor": 0
      },
      "text/plain": [
       "A Jupyter Widget"
      ]
     },
     "metadata": {},
     "output_type": "display_data"
    },
    {
     "name": "stdout",
     "output_type": "stream",
     "text": [
      "Ep. 4 - train loss 0.1434 -  val loss 0.1644 AUC 0.6954\n"
     ]
    },
    {
     "data": {
      "application/vnd.jupyter.widget-view+json": {
       "model_id": "beea534b8c3d4a5cbedc8351119b53c9",
       "version_major": 2,
       "version_minor": 0
      },
      "text/plain": [
       "A Jupyter Widget"
      ]
     },
     "metadata": {},
     "output_type": "display_data"
    },
    {
     "name": "stdout",
     "output_type": "stream",
     "text": [
      "Ep. 5 - train loss 0.1352 -  val loss 0.1689 AUC 0.7035\n"
     ]
    },
    {
     "data": {
      "application/vnd.jupyter.widget-view+json": {
       "model_id": "3c6a7aa1a21b4e2593975ecdd48ffc42",
       "version_major": 2,
       "version_minor": 0
      },
      "text/plain": [
       "A Jupyter Widget"
      ]
     },
     "metadata": {},
     "output_type": "display_data"
    },
    {
     "name": "stdout",
     "output_type": "stream",
     "text": [
      "Ep. 6 - train loss 0.1261 -  val loss 0.1664 AUC 0.6972\n"
     ]
    },
    {
     "data": {
      "application/vnd.jupyter.widget-view+json": {
       "model_id": "842833ec85df455988cf9d4474b1a96c",
       "version_major": 2,
       "version_minor": 0
      },
      "text/plain": [
       "A Jupyter Widget"
      ]
     },
     "metadata": {},
     "output_type": "display_data"
    },
    {
     "name": "stdout",
     "output_type": "stream",
     "text": [
      "Ep. 7 - train loss 0.1152 -  val loss 0.1659 AUC 0.7107\n"
     ]
    },
    {
     "data": {
      "application/vnd.jupyter.widget-view+json": {
       "model_id": "85c540b94fbc4336926212945a8900d4",
       "version_major": 2,
       "version_minor": 0
      },
      "text/plain": [
       "A Jupyter Widget"
      ]
     },
     "metadata": {},
     "output_type": "display_data"
    },
    {
     "name": "stdout",
     "output_type": "stream",
     "text": [
      "Ep. 8 - train loss 0.1098 -  val loss 0.1655 AUC 0.7091\n"
     ]
    }
   ],
   "source": [
    "# tiny version\n",
    "\n",
    "class random_rotation_v2:\n",
    "    \"\"\" Rotates an image by deg degrees\n",
    "\n",
    "    Args: -\n",
    "    \"\"\"\n",
    "\n",
    "    def __init__(self): pass\n",
    "\n",
    "    def __call__(self, im, deg,\n",
    "                 mode=cv2.BORDER_REFLECT, interpolation=cv2.INTER_AREA):\n",
    "        r, c, *_ = im.shape\n",
    "        M = cv2.getRotationMatrix2D((c / 2, r / 2), deg, 1)\n",
    "        return cv2.warpAffine(im, M, (c, r), borderMode=mode,\n",
    "                              flags=cv2.WARP_FILL_OUTLIERS + interpolation)\n",
    "\n",
    "    def options(self, x_shape):\n",
    "        \"\"\"Specify the random arguments to be generated every epoch.\n",
    "        Images must be have same dimensions !\n",
    "        \"\"\"\n",
    "        return {\"deg\": -1}\n",
    "\n",
    "    def set_random_choices(self, N, x_shape):\n",
    "        return {k: np.random.choice([-90,0,90], size=N, replace=True)  for k, v in self.options(x_shape).items()}\n",
    "\n",
    "\n",
    "N  = 2_000\n",
    "tiny_df = train_df[:N]\n",
    "transforms=[random_rotation_v2(), random_rotation(arc_width=20), flip(), random_crop(r_pix=8)]\n",
    "tiny_dl = DataBatches(tiny_df, img_folder_path=img_folder_path,\n",
    "                               transforms=transforms, shuffle=True, data=data,\n",
    "                               batch_size=batch_size, normalize=pretrained)\n",
    "\n",
    "model = DenseNet(14, pretrained=pretrained, freeze=freeze).cuda()\n",
    "\n",
    "train(epochs, tiny_dl, valid_dl, model, max_lr=.001, save_path=None, unfreeze_during_loop=(.1, .2) if freeze else None)"
   ]
  },
  {
   "cell_type": "code",
   "execution_count": null,
   "metadata": {},
   "outputs": [
    {
     "data": {
      "application/vnd.jupyter.widget-view+json": {
       "model_id": "6b6fc538a7ff4111bcfa3b49bc2695af",
       "version_major": 2,
       "version_minor": 0
      },
      "text/plain": [
       "A Jupyter Widget"
      ]
     },
     "metadata": {},
     "output_type": "display_data"
    },
    {
     "data": {
      "application/vnd.jupyter.widget-view+json": {
       "model_id": "af4cf9ecb2a245c196d435a6d235b2ef",
       "version_major": 2,
       "version_minor": 0
      },
      "text/plain": [
       "A Jupyter Widget"
      ]
     },
     "metadata": {},
     "output_type": "display_data"
    },
    {
     "name": "stdout",
     "output_type": "stream",
     "text": [
      "Ep. 1 - train loss 0.1539 -  val loss 0.1467 AUC 0.7846\n"
     ]
    },
    {
     "data": {
      "application/vnd.jupyter.widget-view+json": {
       "model_id": "e701e04fe7a24bfdbc84a9d185a55420",
       "version_major": 2,
       "version_minor": 0
      },
      "text/plain": [
       "A Jupyter Widget"
      ]
     },
     "metadata": {},
     "output_type": "display_data"
    },
    {
     "name": "stdout",
     "output_type": "stream",
     "text": [
      "Ep. 2 - train loss 0.1402 -  val loss 0.1474 AUC 0.7900\n"
     ]
    },
    {
     "data": {
      "application/vnd.jupyter.widget-view+json": {
       "model_id": "f60c29511a1546cf975ab06090118632",
       "version_major": 2,
       "version_minor": 0
      },
      "text/plain": [
       "A Jupyter Widget"
      ]
     },
     "metadata": {},
     "output_type": "display_data"
    },
    {
     "name": "stdout",
     "output_type": "stream",
     "text": [
      "Ep. 3 - train loss 0.1379 -  val loss 0.1452 AUC 0.7984\n"
     ]
    },
    {
     "data": {
      "application/vnd.jupyter.widget-view+json": {
       "model_id": "5fefb90c210c4b09ae5e9884551765a0",
       "version_major": 2,
       "version_minor": 0
      },
      "text/plain": [
       "A Jupyter Widget"
      ]
     },
     "metadata": {},
     "output_type": "display_data"
    },
    {
     "name": "stdout",
     "output_type": "stream",
     "text": [
      "Ep. 4 - train loss 0.1339 -  val loss 0.1426 AUC 0.8193\n"
     ]
    },
    {
     "data": {
      "application/vnd.jupyter.widget-view+json": {
       "model_id": "42e6c6b8297242bb9428e8d700d0074e",
       "version_major": 2,
       "version_minor": 0
      },
      "text/plain": [
       "A Jupyter Widget"
      ]
     },
     "metadata": {},
     "output_type": "display_data"
    }
   ],
   "source": [
    "# Whole dataset\n",
    "\n",
    "transforms=[random_rotation(arc_width=20), flip(), random_crop(r_pix=8)]\n",
    "\n",
    "train_dl = DataBatches(train_df, img_folder_path=img_folder_path,transforms=transforms,\n",
    "                       shuffle=True, data=data, batch_size=batch_size, normalize=pretrained)\n",
    "\n",
    "model = DenseNet(14, pretrained=pretrained, freeze=freeze).cuda()\n",
    "\n",
    "train(epochs, train_dl, valid_dl, model, max_lr=.001, save_path=None, unfreeze_during_loop=(.1, .2) if freeze else None)"
   ]
  },
  {
   "cell_type": "code",
   "execution_count": null,
   "metadata": {
    "collapsed": true
   },
   "outputs": [],
   "source": [
    "test_dl = DataBatches(test_df,img_folder_path=img_folder_path, transforms = True, \n",
    "                      shuffle = False, data=data, batch_size = batch_size, normalize=pretrained)\n",
    "TTA_multilabel(model, test_dl)"
   ]
  },
  {
   "cell_type": "code",
   "execution_count": null,
   "metadata": {
    "collapsed": true,
    "scrolled": false
   },
   "outputs": [],
   "source": [
    "train_df = train_df.sample(frac=1)\n",
    "\n",
    "for N in [50, 100, 5_000, 10_000, 20_000, 35_000, 50_000, 60_000, 77_880]:\n",
    "    \n",
    "    sampled_train_df = train_df[:N]\n",
    "    \n",
    "    train_dl = DataBatches(train_df, img_folder_path=img_folder_path,\n",
    "                           transforms=True, shuffle=True, data=data,\n",
    "                           batch_size=batch_size, half=False, normalize=pretrained)\n",
    "    \n",
    "    model = DenseNet(14, pretrained=pretrained, freeze=freeze).cuda()\n",
    "    save_path = SAVE_DIRECTORY/f\"{pretrained}-{N}.pth\"\n",
    "    # save_path = SAVE_DIRECTORY / f\"{pretrained}-{N}-{random_state}-unfreezing.pth\"\n",
    "    train(epochs, train_dl, valid_dl, model, max_lr=.001, save_path=save_path,unfreeze_during_loop=(.1, .2) if freeze else None)"
   ]
  },
  {
   "cell_type": "code",
   "execution_count": 20,
   "metadata": {},
   "outputs": [
    {
     "data": {
      "text/plain": [
       "(0.20191780040408833,\n",
       " 0.8164163548894331,\n",
       " [0.7777638937179043,\n",
       "  0.8882716944725164,\n",
       "  0.8331421478637311,\n",
       "  0.6839344107757633,\n",
       "  0.8366145269199207,\n",
       "  0.7661666072832656,\n",
       "  0.7252368098300768,\n",
       "  0.8640024568362074,\n",
       "  0.752993899915239,\n",
       "  0.8507316063175169,\n",
       "  0.9233914222053733,\n",
       "  0.8275160380939851,\n",
       "  0.7879706132917902,\n",
       "  0.9120928409287741])"
      ]
     },
     "execution_count": 20,
     "metadata": {},
     "output_type": "execute_result"
    }
   ],
   "source": [
    "test_dl = DataBatches(test_df,img_folder_path=img_folder_path,\n",
    "                  transforms = False, shuffle = False, data=data,\n",
    "                  batch_size = batch_size, normalize=pretrained)\n",
    "validate(model, test_dl)"
   ]
  },
  {
   "cell_type": "code",
   "execution_count": 22,
   "metadata": {},
   "outputs": [
    {
     "name": "stdout",
     "output_type": "stream",
     "text": [
      "val loss 0.2021 and auc 0.8210\n"
     ]
    },
    {
     "data": {
      "text/plain": [
       "(0.20208021653882324, 0.8209861720227334)"
      ]
     },
     "execution_count": 22,
     "metadata": {},
     "output_type": "execute_result"
    }
   ],
   "source": [
    "test_dl = DataBatches(test_df,img_folder_path=img_folder_path,\n",
    "                  transforms = True, shuffle = False, data=data,\n",
    "                  batch_size = batch_size, normalize=pretrained)\n",
    "TTA_test_metrics_chest(model, test_dl)"
   ]
  },
  {
   "cell_type": "code",
   "execution_count": 18,
   "metadata": {
    "scrolled": true
   },
   "outputs": [
    {
     "data": {
      "application/vnd.jupyter.widget-view+json": {
       "model_id": "71d59bdd3bd748b7a5b5be93075f3db2",
       "version_major": 2,
       "version_minor": 0
      },
      "text/plain": [
       "A Jupyter Widget"
      ]
     },
     "metadata": {},
     "output_type": "display_data"
    },
    {
     "data": {
      "application/vnd.jupyter.widget-view+json": {
       "model_id": "e318da8cf059411bab4fb4570493ec7e",
       "version_major": 2,
       "version_minor": 0
      },
      "text/plain": [
       "A Jupyter Widget"
      ]
     },
     "metadata": {},
     "output_type": "display_data"
    },
    {
     "name": "stdout",
     "output_type": "stream",
     "text": [
      "Ep. 1 - train loss 0.1535 -  val loss 0.1460 AUC 0.7735\n"
     ]
    },
    {
     "data": {
      "application/vnd.jupyter.widget-view+json": {
       "model_id": "c33d6b526dbc4a52953733c89ed0d7bd",
       "version_major": 2,
       "version_minor": 0
      },
      "text/plain": [
       "A Jupyter Widget"
      ]
     },
     "metadata": {},
     "output_type": "display_data"
    },
    {
     "name": "stdout",
     "output_type": "stream",
     "text": [
      "Ep. 2 - train loss 0.1403 -  val loss 0.1490 AUC 0.7919\n"
     ]
    },
    {
     "data": {
      "application/vnd.jupyter.widget-view+json": {
       "model_id": "958ad7d2cc65463190076328affb91a1",
       "version_major": 2,
       "version_minor": 0
      },
      "text/plain": [
       "A Jupyter Widget"
      ]
     },
     "metadata": {},
     "output_type": "display_data"
    },
    {
     "name": "stdout",
     "output_type": "stream",
     "text": [
      "Ep. 3 - train loss 0.1379 -  val loss 0.1473 AUC 0.8027\n"
     ]
    },
    {
     "data": {
      "application/vnd.jupyter.widget-view+json": {
       "model_id": "4460556e0dde4ad492b31361ec16b139",
       "version_major": 2,
       "version_minor": 0
      },
      "text/plain": [
       "A Jupyter Widget"
      ]
     },
     "metadata": {},
     "output_type": "display_data"
    },
    {
     "name": "stdout",
     "output_type": "stream",
     "text": [
      "Ep. 4 - train loss 0.1337 -  val loss 0.1427 AUC 0.8155\n"
     ]
    },
    {
     "data": {
      "application/vnd.jupyter.widget-view+json": {
       "model_id": "f299f3e060f54abbb40fe274b28e7ab7",
       "version_major": 2,
       "version_minor": 0
      },
      "text/plain": [
       "A Jupyter Widget"
      ]
     },
     "metadata": {},
     "output_type": "display_data"
    },
    {
     "name": "stdout",
     "output_type": "stream",
     "text": [
      "Ep. 5 - train loss 0.1295 -  val loss 0.1388 AUC 0.8338\n"
     ]
    },
    {
     "data": {
      "application/vnd.jupyter.widget-view+json": {
       "model_id": "f72631ddb5d34cde93fdbd38cf1358ec",
       "version_major": 2,
       "version_minor": 0
      },
      "text/plain": [
       "A Jupyter Widget"
      ]
     },
     "metadata": {},
     "output_type": "display_data"
    },
    {
     "name": "stdout",
     "output_type": "stream",
     "text": [
      "Ep. 6 - train loss 0.1251 -  val loss 0.1369 AUC 0.8358\n"
     ]
    },
    {
     "data": {
      "application/vnd.jupyter.widget-view+json": {
       "model_id": "f662b10fdb2849b18f2ed4e0a0eed2bf",
       "version_major": 2,
       "version_minor": 0
      },
      "text/plain": [
       "A Jupyter Widget"
      ]
     },
     "metadata": {},
     "output_type": "display_data"
    },
    {
     "name": "stdout",
     "output_type": "stream",
     "text": [
      "Ep. 7 - train loss 0.1200 -  val loss 0.1369 AUC 0.8411\n"
     ]
    },
    {
     "data": {
      "application/vnd.jupyter.widget-view+json": {
       "model_id": "c83d2495e4394ad7bb0928883b010729",
       "version_major": 2,
       "version_minor": 0
      },
      "text/plain": [
       "A Jupyter Widget"
      ]
     },
     "metadata": {},
     "output_type": "display_data"
    },
    {
     "ename": "IndexError",
     "evalue": "index 38728 is out of bounds for axis 0 with size 38728",
     "output_type": "error",
     "traceback": [
      "\u001b[0;31m---------------------------------------------------------------------------\u001b[0m",
      "\u001b[0;31mIndexError\u001b[0m                                Traceback (most recent call last)",
      "\u001b[0;32m<ipython-input-18-95249fe8f649>\u001b[0m in \u001b[0;36m<module>\u001b[0;34m()\u001b[0m\n\u001b[1;32m      4\u001b[0m \u001b[0;31m# save_path = SAVE_DIRECTORY / f\"{pretrained}-{N}-{random_state}-unfreezing.pth\"\u001b[0m\u001b[0;34m\u001b[0m\u001b[0;34m\u001b[0m\u001b[0;34m\u001b[0m\u001b[0m\n\u001b[1;32m      5\u001b[0m \u001b[0;34m\u001b[0m\u001b[0m\n\u001b[0;32m----> 6\u001b[0;31m \u001b[0mtrain\u001b[0m\u001b[0;34m(\u001b[0m\u001b[0mepochs\u001b[0m\u001b[0;34m,\u001b[0m \u001b[0mtrain_dl\u001b[0m\u001b[0;34m,\u001b[0m \u001b[0mvalid_dl\u001b[0m\u001b[0;34m,\u001b[0m \u001b[0mmodel\u001b[0m\u001b[0;34m,\u001b[0m \u001b[0mmax_lr\u001b[0m\u001b[0;34m=\u001b[0m\u001b[0;36m.001\u001b[0m\u001b[0;34m,\u001b[0m \u001b[0msave_path\u001b[0m\u001b[0;34m=\u001b[0m\u001b[0msave_path\u001b[0m\u001b[0;34m,\u001b[0m\u001b[0munfreeze_during_loop\u001b[0m\u001b[0;34m=\u001b[0m\u001b[0;34m(\u001b[0m\u001b[0;36m.1\u001b[0m\u001b[0;34m,\u001b[0m \u001b[0;36m.2\u001b[0m\u001b[0;34m)\u001b[0m \u001b[0;32mif\u001b[0m \u001b[0mfreeze\u001b[0m \u001b[0;32melse\u001b[0m \u001b[0;32mNone\u001b[0m\u001b[0;34m)\u001b[0m\u001b[0;34m\u001b[0m\u001b[0;34m\u001b[0m\u001b[0m\n\u001b[0m",
      "\u001b[0;32m<ipython-input-17-a357c34d05eb>\u001b[0m in \u001b[0;36mtrain\u001b[0;34m(n_epochs, train_dl, valid_dl, model, div_factor, max_lr, wd, alpha, save_path, unfreeze_during_loop)\u001b[0m\n\u001b[1;32m    162\u001b[0m             \u001b[0mloss\u001b[0m \u001b[0;34m=\u001b[0m \u001b[0mF\u001b[0m\u001b[0;34m.\u001b[0m\u001b[0mbinary_cross_entropy_with_logits\u001b[0m\u001b[0;34m(\u001b[0m\u001b[0minput\u001b[0m\u001b[0;34m=\u001b[0m\u001b[0mout\u001b[0m\u001b[0;34m,\u001b[0m \u001b[0mtarget\u001b[0m\u001b[0;34m=\u001b[0m\u001b[0my\u001b[0m\u001b[0;34m)\u001b[0m\u001b[0;34m\u001b[0m\u001b[0;34m\u001b[0m\u001b[0m\n\u001b[1;32m    163\u001b[0m             \u001b[0mloss\u001b[0m\u001b[0;34m.\u001b[0m\u001b[0mbackward\u001b[0m\u001b[0;34m(\u001b[0m\u001b[0;34m)\u001b[0m\u001b[0;34m\u001b[0m\u001b[0;34m\u001b[0m\u001b[0m\n\u001b[0;32m--> 164\u001b[0;31m             \u001b[0moptimizer\u001b[0m\u001b[0;34m.\u001b[0m\u001b[0mstep\u001b[0m\u001b[0;34m(\u001b[0m\u001b[0;34m)\u001b[0m\u001b[0;34m\u001b[0m\u001b[0;34m\u001b[0m\u001b[0m\n\u001b[0m\u001b[1;32m    165\u001b[0m \u001b[0;34m\u001b[0m\u001b[0m\n\u001b[1;32m    166\u001b[0m             \u001b[0mbatch\u001b[0m \u001b[0;34m=\u001b[0m \u001b[0my\u001b[0m\u001b[0;34m.\u001b[0m\u001b[0mshape\u001b[0m\u001b[0;34m[\u001b[0m\u001b[0;36m0\u001b[0m\u001b[0;34m]\u001b[0m\u001b[0;34m\u001b[0m\u001b[0;34m\u001b[0m\u001b[0m\n",
      "\u001b[0;32m<ipython-input-17-a357c34d05eb>\u001b[0m in \u001b[0;36mstep\u001b[0;34m(self)\u001b[0m\n\u001b[1;32m    125\u001b[0m \u001b[0;34m\u001b[0m\u001b[0m\n\u001b[1;32m    126\u001b[0m     \u001b[0;32mdef\u001b[0m \u001b[0mstep\u001b[0m\u001b[0;34m(\u001b[0m\u001b[0mself\u001b[0m\u001b[0;34m)\u001b[0m\u001b[0;34m:\u001b[0m\u001b[0;34m\u001b[0m\u001b[0;34m\u001b[0m\u001b[0m\n\u001b[0;32m--> 127\u001b[0;31m         \u001b[0mself\u001b[0m\u001b[0;34m.\u001b[0m\u001b[0m_update_optimizer\u001b[0m\u001b[0;34m(\u001b[0m\u001b[0;34m)\u001b[0m\u001b[0;34m\u001b[0m\u001b[0;34m\u001b[0m\u001b[0m\n\u001b[0m\u001b[1;32m    128\u001b[0m         \u001b[0;32mif\u001b[0m \u001b[0mself\u001b[0m\u001b[0;34m.\u001b[0m\u001b[0m_wd\u001b[0m \u001b[0;34m!=\u001b[0m \u001b[0;36m0\u001b[0m\u001b[0;34m:\u001b[0m \u001b[0mself\u001b[0m\u001b[0;34m.\u001b[0m\u001b[0m_weight_decay\u001b[0m\u001b[0;34m(\u001b[0m\u001b[0;34m)\u001b[0m\u001b[0;34m\u001b[0m\u001b[0;34m\u001b[0m\u001b[0m\n\u001b[1;32m    129\u001b[0m         \u001b[0mself\u001b[0m\u001b[0;34m.\u001b[0m\u001b[0moptimizer\u001b[0m\u001b[0;34m.\u001b[0m\u001b[0mstep\u001b[0m\u001b[0;34m(\u001b[0m\u001b[0;34m)\u001b[0m\u001b[0;34m\u001b[0m\u001b[0;34m\u001b[0m\u001b[0m\n",
      "\u001b[0;32m<ipython-input-17-a357c34d05eb>\u001b[0m in \u001b[0;36m_update_optimizer\u001b[0;34m(self)\u001b[0m\n\u001b[1;32m    116\u001b[0m \u001b[0;34m\u001b[0m\u001b[0m\n\u001b[1;32m    117\u001b[0m     \u001b[0;32mdef\u001b[0m \u001b[0m_update_optimizer\u001b[0m\u001b[0;34m(\u001b[0m\u001b[0mself\u001b[0m\u001b[0;34m)\u001b[0m\u001b[0;34m:\u001b[0m\u001b[0;34m\u001b[0m\u001b[0;34m\u001b[0m\u001b[0m\n\u001b[0;32m--> 118\u001b[0;31m         \u001b[0mlr_i\u001b[0m\u001b[0;34m,\u001b[0m \u001b[0m_\u001b[0m \u001b[0;34m=\u001b[0m \u001b[0mself\u001b[0m\u001b[0;34m.\u001b[0m\u001b[0mpolicy\u001b[0m\u001b[0;34m.\u001b[0m\u001b[0mstep\u001b[0m\u001b[0;34m(\u001b[0m\u001b[0;34m)\u001b[0m\u001b[0;34m\u001b[0m\u001b[0;34m\u001b[0m\u001b[0m\n\u001b[0m\u001b[1;32m    119\u001b[0m         \u001b[0;32mfor\u001b[0m \u001b[0mparam_group\u001b[0m\u001b[0;34m,\u001b[0m \u001b[0mlr\u001b[0m\u001b[0;34m,\u001b[0m \u001b[0;32min\u001b[0m \u001b[0mzip\u001b[0m\u001b[0;34m(\u001b[0m\u001b[0mself\u001b[0m\u001b[0;34m.\u001b[0m\u001b[0moptimizer\u001b[0m\u001b[0;34m.\u001b[0m\u001b[0mparam_groups\u001b[0m\u001b[0;34m,\u001b[0m \u001b[0mself\u001b[0m\u001b[0;34m.\u001b[0m\u001b[0m_lr_range\u001b[0m\u001b[0;34m(\u001b[0m\u001b[0mlr_i\u001b[0m\u001b[0;34m)\u001b[0m\u001b[0;34m)\u001b[0m\u001b[0;34m:\u001b[0m\u001b[0;34m\u001b[0m\u001b[0;34m\u001b[0m\u001b[0m\n\u001b[1;32m    120\u001b[0m             \u001b[0mparam_group\u001b[0m\u001b[0;34m[\u001b[0m\u001b[0;34m'lr'\u001b[0m\u001b[0;34m]\u001b[0m \u001b[0;34m=\u001b[0m \u001b[0mlr\u001b[0m\u001b[0;34m\u001b[0m\u001b[0;34m\u001b[0m\u001b[0m\n",
      "\u001b[0;32m<ipython-input-17-a357c34d05eb>\u001b[0m in \u001b[0;36mstep\u001b[0;34m(self)\u001b[0m\n\u001b[1;32m     83\u001b[0m     \u001b[0;32mdef\u001b[0m \u001b[0mstep\u001b[0m\u001b[0;34m(\u001b[0m\u001b[0mself\u001b[0m\u001b[0;34m)\u001b[0m\u001b[0;34m:\u001b[0m\u001b[0;34m\u001b[0m\u001b[0;34m\u001b[0m\u001b[0m\n\u001b[1;32m     84\u001b[0m         \u001b[0mself\u001b[0m\u001b[0;34m.\u001b[0m\u001b[0midx\u001b[0m \u001b[0;34m+=\u001b[0m \u001b[0;36m1\u001b[0m\u001b[0;34m\u001b[0m\u001b[0;34m\u001b[0m\u001b[0m\n\u001b[0;32m---> 85\u001b[0;31m         \u001b[0;32mreturn\u001b[0m \u001b[0mself\u001b[0m\u001b[0;34m.\u001b[0m\u001b[0mlr_schedule\u001b[0m\u001b[0;34m[\u001b[0m\u001b[0mself\u001b[0m\u001b[0;34m.\u001b[0m\u001b[0midx\u001b[0m\u001b[0;34m]\u001b[0m\u001b[0;34m,\u001b[0m \u001b[0mself\u001b[0m\u001b[0;34m.\u001b[0m\u001b[0mmom_schedule\u001b[0m\u001b[0;34m[\u001b[0m\u001b[0mself\u001b[0m\u001b[0;34m.\u001b[0m\u001b[0midx\u001b[0m\u001b[0;34m]\u001b[0m\u001b[0;34m\u001b[0m\u001b[0;34m\u001b[0m\u001b[0m\n\u001b[0m\u001b[1;32m     86\u001b[0m \u001b[0;34m\u001b[0m\u001b[0m\n\u001b[1;32m     87\u001b[0m     \u001b[0;32mdef\u001b[0m \u001b[0mreset\u001b[0m\u001b[0;34m(\u001b[0m\u001b[0mself\u001b[0m\u001b[0;34m)\u001b[0m\u001b[0;34m:\u001b[0m\u001b[0;34m\u001b[0m\u001b[0;34m\u001b[0m\u001b[0m\n",
      "\u001b[0;31mIndexError\u001b[0m: index 38728 is out of bounds for axis 0 with size 38728"
     ]
    }
   ],
   "source": [
    "model = DenseNet(14, pretrained=pretrained, freeze=freeze).cuda()\n",
    "save_path = SAVE_DIRECTORY/f\"{pretrained}-77800.pth\"\n",
    "# save_path = SAVE_DIRECTORY / f\"{pretrained}-{N}-{random_state}-unfreezing.pth\"\n",
    "train(epochs, train_dl, valid_dl, model, max_lr=.001, save_path=save_path,unfreeze_during_loop=(.1, .2) if freeze else None)"
   ]
  },
  {
   "cell_type": "markdown",
   "metadata": {},
   "source": [
    "# Training script"
   ]
  },
  {
   "cell_type": "markdown",
   "metadata": {},
   "source": [
    "We will train the different combinations on a script. Observe that we have constructed the training function "
   ]
  },
  {
   "cell_type": "code",
   "execution_count": 11,
   "metadata": {},
   "outputs": [
    {
     "name": "stdout",
     "output_type": "stream",
     "text": [
      "Overwriting disease14_aprx1.py\n"
     ]
    }
   ],
   "source": [
    "%%writefile disease14_aprx1.py\n",
    "\n",
    "from core import * # basic imports\n",
    "from data_manipulation import DataBatches, RandomRotation, Flip, RandomCrop\n",
    "from utils import save_model, load_model, lr_loss_plot\n",
    "from architectures import DenseNet121\n",
    "from train_functions import get_optimizer, FinderPolicy, OptimizerWrapper, validate_multilabel\n",
    "import warnings; warnings.filterwarnings('ignore')\n",
    "\n",
    "batch_size = 16\n",
    "epochs = 50\n",
    "transforms=[RandomRotation(arc_width=20), Flip(), RandomCrop(r_pix=8)]\n",
    "data = '14diseases'\n",
    "\n",
    "methods = [(False, False, False),\n",
    "           (True, True, False),\n",
    "           (True, False, False),\n",
    "           (True, True, True),\n",
    "           ('MURA', True, False),\n",
    "           ('MURA', False, False),\n",
    "           ('MURA', True, True)] # pretrained / freeze first blocks / prog_unfreezing\n",
    "random_states = range(10)\n",
    "n_samples = [50,100,200,400,600,800,1000,1200,1400,1600,1800, 2000]\n",
    "\n",
    "PATH = Path('../data')\n",
    "SAVE_DIRECTORY = Path('../latest_models/14diseases-app1')\n",
    "SAVE_DATA = Path('../latest_data/14diseases-app1')   \n",
    "img_folder_path = PATH/'ChestXRay-250'\n",
    "\n",
    "\n",
    "def train(epochs, train_dl, valid_dl, model, save_path=None,min_lr=1e-6,\n",
    "          max_lr=0.001, epsilon=.01, unfreeze_during_loop:tuple=None):\n",
    "    \n",
    "    lr = max_lr\n",
    "    prev_loss, min_loss = np.inf, np.inf\n",
    "    cnt = 0\n",
    "    \n",
    "    if unfreeze_during_loop:\n",
    "        total_iter = n_epochs*len(train_dl)\n",
    "        first_unfreeze = int(total_iter*unfreeze_during_loop[0])\n",
    "        second_unfreeze = int(total_iter*unfreeze_during_loop[1])\n",
    "    \n",
    "    for epoch in range(epochs):\n",
    "        model.train()\n",
    "        train_dl.set_random_choices()\n",
    "        total = 0\n",
    "        sum_loss = 0\n",
    "        optim = get_optimizer(model, lr=lr, wd=0)\n",
    "        for x, y in train_dl:\n",
    "            \n",
    "            if unfreeze_during_loop:\n",
    "                if cnt == first_unfreeze: model.unfreeze(1)\n",
    "                if cnt == second_unfreeze: model.unfreeze(0)\n",
    "            \n",
    "            batch = y.shape[0]\n",
    "            out = model(x)\n",
    "            loss = F.binary_cross_entropy_with_logits(out, y)\n",
    "            optim.zero_grad()\n",
    "            loss.backward()\n",
    "            optim.step()\n",
    "            total += batch\n",
    "            sum_loss += batch * (loss.item())\n",
    "            \n",
    "            cnt += 1\n",
    "                \n",
    "        val_loss, measure, _ = validate_multilabel(model, valid_dl)\n",
    "        print(f'Ep. {epoch+1} - lr {lr:.7f} train loss {sum_loss/total:.4f} -  val loss {val_loss:.4f} AUC {measure:.4f}')\n",
    "\n",
    "        if val_loss - prev_loss > epsilon:\n",
    "            lr = lr / 10.0\n",
    "        if val_loss < min_loss:\n",
    "            if save_path: save_model(model, save_path)\n",
    "            min_loss = val_loss\n",
    "        \n",
    "        prev_loss = val_loss\n",
    "        if lr < min_lr:\n",
    "            break\n",
    "\n",
    "# Training            \n",
    "\n",
    "train_df = pd.read_csv(PATH/\"train_df.csv\")\n",
    "valid_df = pd.read_csv(PATH/\"val_df.csv\")\n",
    "\n",
    "\n",
    "for pretrained, freeze, grad_unfreez in methods:\n",
    "    \n",
    "    valid_dl = DataBatches(valid_df,img_folder_path=img_folder_path,\n",
    "                     transforms = False, shuffle = False, data= data,\n",
    "                     batch_size = batch_size, normalize=pretrained)\n",
    "\n",
    "    for rs in random_states:\n",
    "\n",
    "        train_df = train_df.sample(frac=1)\n",
    "\n",
    "        for N in n_samples:\n",
    "\n",
    "            df = train_df[:N]\n",
    "\n",
    "            train_dl = DataBatches(df, img_folder_path=img_folder_path, transforms=transforms, shuffle=True, data=data,\n",
    "                                   batch_size=batch_size, normalize=pretrained)\n",
    "\n",
    "            model = DenseNet121(14, pretrained=pretrained, freeze=freeze).cuda()\n",
    "\n",
    "            save_path = SAVE_DIRECTORY/f\"{pretrained}-{freeze}-{grad_unfreez}-{N}-{rs}.pth\"\n",
    "\n",
    "            train(epochs, train_dl, valid_dl, model, max_lr=.001, save_path=save_path, unfreeze_during_loop=(.1, .2) if grad_unfreez else None)\n",
    "\n",
    "# Evaluation\n",
    "\n",
    "test_df = pd.read_csv(PATH/\"test_df.csv\")\n",
    "\n",
    "for pretrained, freeze, grad_unfreeze in methods:\n",
    "    \n",
    "    test_dl = DataBatches(test_df,img_folder_path=img_folder_path,\n",
    "                  transforms = True, shuffle = False, data=data,\n",
    "                  batch_size = batch_size, normalize=pretrained)\n",
    "    \n",
    "    losses = [[] for _ in n_samples]\n",
    "    aucs = [[] for _ in n_samples]\n",
    "    \n",
    "    loss_path = SAVE_DATA/f\"losses_{pretrained}_{freeze}_{grad_unfreeze}\"\n",
    "    aucs_path = SAVE_DATA/f\"aucs_{pretrained}_{freeze}_{grad_unfreeze}\"\n",
    "    \n",
    "    for i, N in enumerate(n_samples):\n",
    "        \n",
    "        for rs in random_states:\n",
    "            \n",
    "            model = DenseNet121(14, pretrained=pretrained, freeze=freeze).cuda()\n",
    "\n",
    "            load_path = SAVE_DIRECTORY/f\"{pretrained}-{freeze}-{grad_unfreeze}-{N}-{rs}.pth\"\n",
    "            \n",
    "            load_model(model, load_path)\n",
    "            \n",
    "            loss, mean_auc, _ = TTA_multilabel(model, test_dl, ndl=4)\n",
    "            \n",
    "            losses[i].append(loss)\n",
    "            aucs[i].append(mean_auc)\n",
    "    \n",
    "    losses = np.array(losses)\n",
    "    aucs = np.array(aucs)\n",
    "    \n",
    "    numpy.save(loss_path, losses)\n",
    "    numpy.save(aucs_path, aucs)"
   ]
  },
  {
   "cell_type": "code",
   "execution_count": null,
   "metadata": {
    "collapsed": true
   },
   "outputs": [],
   "source": []
  }
 ],
 "metadata": {
  "kernelspec": {
   "display_name": "Python 3",
   "language": "python",
   "name": "python3"
  },
  "language_info": {
   "codemirror_mode": {
    "name": "ipython",
    "version": 3
   },
   "file_extension": ".py",
   "mimetype": "text/x-python",
   "name": "python",
   "nbconvert_exporter": "python",
   "pygments_lexer": "ipython3",
   "version": "3.6.7"
  },
  "nav_menu": {},
  "toc": {
   "navigate_menu": true,
   "number_sections": true,
   "sideBar": true,
   "threshold": 6,
   "toc_cell": false,
   "toc_section_display": "block",
   "toc_window_display": false
  }
 },
 "nbformat": 4,
 "nbformat_minor": 2
}
