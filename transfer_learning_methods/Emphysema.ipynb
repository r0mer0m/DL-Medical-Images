{
 "cells": [
  {
   "cell_type": "markdown",
   "metadata": {},
   "source": [
    "In this notebook we illustrate how **regular training** is performed in our experiments, write the script to train in a range of (small) training samples and plot the results of this script.\n",
    "\n",
    "## How is it organized?\n",
    "\n",
    "1. In the first section notebook we illustrate the scenario were ImageNet is used with gradual unfreezing for the whole dataset. This is useful to test how the model behaves when all the data is available. \n",
    "\n",
    "2. In the second section the script is written and we explore different alternatives in transfer learning for a range of training data. We do so by combining regular training with multiple alternatives in transfer learning:\n",
    "\n",
    "    * Is transfer learning used? If so, from what dataset?  We contemplate ImageNet and MURA (general and medical images respectively).\n",
    "    * How is transfer learning done? previous CNN as feature extractor, fine-tune CNN? If we fine-tune, do we use differential learning rates?\n",
    "    * Do we do progressive unfreezing?\n",
    "\n",
    " Some of those options are excluding and other are complementary. For instance, no transfer learning and using the previous CNN as feature extractor are excluding.\n",
    "\n",
    "3. In the last section we plot the results of running the script.\n",
    "\n",
    "## I want to dig deeper\n",
    "\n",
    "This notebook's main purpose is illustrating how **regular training** is used. All other aspects are imported from `data_manipulation`,`utils`, `architectures` and `train_functions`. If the reader wants to dig dipper in aspects such as how data augmentation is implemented, what policy we use for the learning rate or how the optimizer is used we point them to the modules mentioned above. \n",
    "\n"
   ]
  },
  {
   "cell_type": "markdown",
   "metadata": {},
   "source": [
    "# Using all the available data\n",
    "## Imports & global variables"
   ]
  },
  {
   "cell_type": "code",
   "execution_count": 1,
   "metadata": {
    "collapsed": true
   },
   "outputs": [],
   "source": [
    "%reload_ext autoreload\n",
    "%autoreload 2\n",
    "%matplotlib inline\n",
    "\n",
    "\n",
    "import sys; sys.path.append(\"/data/miguel/practicum/DL-Medical-Physics\")\n",
    "import warnings; warnings.filterwarnings('ignore')\n",
    "\n",
    "from core import *\n",
    "from data_manipulation import DataBatches, RandomRotation, Flip, RandomCrop\n",
    "from utils import save_model, load_model, lr_loss_plot\n",
    "from architectures import DenseNet121\n",
    "from train_functions import get_optimizer, FinderPolicy, OptimizerWrapper, validate_multilabel, lr_finder\n",
    "\n",
    "BATCH_SIZE = 16\n",
    "EPOCHS = 8\n",
    "TRANSFORMATIONS = [RandomRotation(arc_width=20), Flip(), RandomCrop(r_pix=8)]\n",
    "PRETRAINED = True # ImageNet\n",
    "FREEZE = True\n",
    "GRADUAL_UNFREEZING = True\n",
    "\n",
    "BASE_PATH = Path('/data/miguel/practicum/')\n",
    "PATH = BASE_PATH/'data'\n",
    "SAVE_DATA = BASE_PATH/'output/real_data_experiments/multilabel/results'\n",
    "SAVE_DIRECTORY = BASE_PATH/'output/real_data_experiments/multilabel/models'\n",
    "# SAVE_PLOT = Path('../latest_plots/14diseases-app1')\n",
    "\n",
    "IMG_FOLDER = PATH/'ChestXRay-250'\n",
    "DATA = '14diseases'"
   ]
  },
  {
   "cell_type": "markdown",
   "metadata": {},
   "source": [
    "## Data Batches"
   ]
  },
  {
   "cell_type": "code",
   "execution_count": 2,
   "metadata": {
    "collapsed": true
   },
   "outputs": [],
   "source": [
    "# data preparation\n",
    "train_df = pd.read_csv(PATH/\"train_df.csv\")\n",
    "valid_df = pd.read_csv(PATH/\"val_df.csv\")\n",
    "test_df = pd.read_csv(PATH/\"test_df.csv\")\n",
    "\n",
    "train_dl = DataBatches(train_df, img_folder_path=IMG_FOLDER,transforms=TRANSFORMATIONS, \n",
    "                       shuffle=True, data=DATA,batch_size=BATCH_SIZE, normalize=PRETRAINED)\n",
    "\n",
    "valid_dl = DataBatches(valid_df,img_folder_path=IMG_FOLDER, transforms = False,\n",
    "                       shuffle = False, data=DATA, batch_size = BATCH_SIZE, normalize=PRETRAINED)\n",
    "\n",
    "test_dl = DataBatches(test_df,img_folder_path=IMG_FOLDER, transforms = TRANSFORMATIONS, \n",
    "                      shuffle = False, data=DATA, batch_size = BATCH_SIZE, normalize=PRETRAINED)"
   ]
  },
  {
   "cell_type": "markdown",
   "metadata": {},
   "source": [
    "## LR Finder"
   ]
  },
  {
   "cell_type": "code",
   "execution_count": 4,
   "metadata": {
    "scrolled": false
   },
   "outputs": [
    {
     "data": {
      "application/vnd.jupyter.widget-view+json": {
       "model_id": "f7d38d4338a94f7ba43e45286a141fbc",
       "version_major": 2,
       "version_minor": 0
      },
      "text/plain": [
       "A Jupyter Widget"
      ]
     },
     "metadata": {},
     "output_type": "display_data"
    },
    {
     "data": {
      "application/vnd.jupyter.widget-view+json": {
       "model_id": "b50c08ee58f544269ef0f6f745150e22",
       "version_major": 2,
       "version_minor": 0
      },
      "text/plain": [
       "A Jupyter Widget"
      ]
     },
     "metadata": {},
     "output_type": "display_data"
    },
    {
     "data": {
      "image/png": "[encoded data removed]",
      "text/plain": [
       "<Figure size 432x288 with 1 Axes>"
      ]
     },
     "metadata": {},
     "output_type": "display_data"
    }
   ],
   "source": [
    "model = DenseNet121(14, pretrained=PRETRAINED, freeze=FREEZE).cuda()\n",
    "lrs, losses  = lr_finder(model, 1, train_dl)"
   ]
  },
  {
   "cell_type": "markdown",
   "metadata": {},
   "source": [
    "## Training & Testing"
   ]
  },
  {
   "cell_type": "code",
   "execution_count": 25,
   "metadata": {
    "collapsed": true
   },
   "outputs": [],
   "source": [
    "# training loop: definition\n",
    "def train(epochs, train_dl, valid_dl, model, save_path=None,\n",
    "          min_lr=1e-6, max_lr=0.001, epsilon=.001, unfreeze_during_loop:tuple=None):\n",
    "    lr = max_lr\n",
    "    prev_loss, min_loss = np.inf, np.inf\n",
    "    cnt = 0\n",
    "    \n",
    "    if unfreeze_during_loop:\n",
    "        total_iter = n_epochs*len(train_dl)\n",
    "        first_unfreeze = int(total_iter*unfreeze_during_loop[0])\n",
    "        second_unfreeze = int(total_iter*unfreeze_during_loop[1])\n",
    "        \n",
    "    \n",
    "    for epoch in tqdm_notebook(range(epochs)):\n",
    "        model.train()\n",
    "        train_dl.set_random_choices()\n",
    "        total = 0\n",
    "        sum_loss = 0\n",
    "        optim = get_optimizer(model, lr=lr, wd=0)\n",
    "        for x, y in tqdm_notebook(train_dl, leave=False):\n",
    "            \n",
    "            if unfreeze_during_loop:\n",
    "                if cnt == first_unfreeze: model.unfreeze(1)\n",
    "                if cnt == second_unfreeze: model.unfreeze(0)\n",
    "            \n",
    "            batch = y.shape[0]\n",
    "            out = model(x)\n",
    "            loss = F.binary_cross_entropy_with_logits(out, y)\n",
    "            optim.zero_grad()\n",
    "            loss.backward()\n",
    "            optim.step()\n",
    "            total += batch\n",
    "            sum_loss += batch * (loss.item())\n",
    "            \n",
    "            cnt += 1\n",
    "                \n",
    "        val_loss, measure, _ = validate_multilabel(model, valid_dl)\n",
    "        print(f'Ep. {epoch+1} - lr {lr:.7f} train loss {sum_loss/total:.4f} -  val loss {val_loss:.4f} AUC {measure:.4f}')\n",
    "\n",
    "        if val_loss - prev_loss > epsilon:\n",
    "            lr = lr / 10.0\n",
    "        if val_loss < min_loss:\n",
    "            if save_path: save_model(model, save_path)\n",
    "            min_loss = val_loss\n",
    "        prev_loss = val_loss\n",
    "        if lr < min_lr:\n",
    "            break"
   ]
  },
  {
   "cell_type": "code",
   "execution_count": 1,
   "metadata": {},
   "outputs": [],
   "source": [
    "# training loop: execution\n",
    "\n",
    "model = DenseNet121(14, pretrained=PRETRAINED, freeze=FREEZE).cuda()\n",
    "save_path = SAVE_DIRECTORY/'approach_1_all.pth'\n",
    "train(EPOCHS, train_dl, valid_dl, model, max_lr=.001, save_path=save_path)"
   ]
  },
  {
   "cell_type": "code",
   "execution_count": null,
   "metadata": {
    "collapsed": true
   },
   "outputs": [],
   "source": [
    "test_dl = DataBatches(test_df,img_folder_path=img_folder_path, transforms = True, \n",
    "                      shuffle = False, data=data, batch_size = batch_size, normalize=pretrained)\n",
    "TTA_multilabel(model, test_dl)"
   ]
  },
  {
   "cell_type": "markdown",
   "metadata": {},
   "source": [
    "# Sample range: Writing script"
   ]
  },
  {
   "cell_type": "markdown",
   "metadata": {},
   "source": [
    "We will train the different combinations on a script. Observe that we have constructed the training function "
   ]
  },
  {
   "cell_type": "code",
   "execution_count": 10,
   "metadata": {},
   "outputs": [
    {
     "name": "stdout",
     "output_type": "stream",
     "text": [
      "Writing ../scripts/dl_approach_1.py\n"
     ]
    }
   ],
   "source": [
    "%%writefile ../scripts/dl_approach_1.py\n",
    "\n",
    "import sys; sys.path.append(\"../../..\")\n",
    "\n",
    "from core import *\n",
    "from data_manipulation import DataBatches, RandomRotation, Flip, RandomCrop\n",
    "from utils import save_model, load_model, lr_loss_plot\n",
    "from architectures import DenseNet121\n",
    "from train_functions import get_optimizer, FinderPolicy, OptimizerWrapper, validate_multilabel\n",
    "\n",
    "BATCH_SIZE = 16\n",
    "EPOCHS = 50\n",
    "TRANSFORMATIONS = [RandomRotation(arc_width=20), Flip(), RandomCrop(r_pix=8)]\n",
    "DATA = '14diseases'\n",
    "\n",
    "# (pretrained, freeze first blocks, prog_unfreezing)\n",
    "METHODS = [(False, False, False), \n",
    "           (True, True, False), (True, False, False), (True, True, True),\n",
    "           ('MURA', True, False), ('MURA', False, False), ('MURA', True, True)] \n",
    "\n",
    "RANDOM_STATES = range(10)\n",
    "SAMPLE_AMOUNTS = [50,100,200,400,600,800,1000,1200,1400,1600,1800,2000]\n",
    "\n",
    "BASE_PATH = Path('../../../../')\n",
    "PATH = BASE_PATH/'data'\n",
    "SAVE_DIRECTORY = BASE_PATH/'output/real_data_experiments/multilabel/models'\n",
    "SAVE_DATA = BASE_PATH/'output/real_data_experiments/multilabel/results'\n",
    "IMG_FOLDER = PATH/'ChestXRay-250'\n",
    "\n",
    "\n",
    "def train(epochs, train_dl, valid_dl, model, save_path=None,min_lr=1e-6,\n",
    "          max_lr=0.001, epsilon=.001, unfreeze_during_loop:tuple=None):\n",
    "    \n",
    "    lr = max_lr\n",
    "    prev_loss, min_loss = np.inf, np.inf\n",
    "    cnt = 0\n",
    "    \n",
    "    if unfreeze_during_loop:\n",
    "        total_iter = n_epochs*len(train_dl)\n",
    "        first_unfreeze = int(total_iter*unfreeze_during_loop[0])\n",
    "        second_unfreeze = int(total_iter*unfreeze_during_loop[1])\n",
    "    \n",
    "    for epoch in range(epochs):\n",
    "        model.train()\n",
    "        train_dl.set_random_choices()\n",
    "        total = 0\n",
    "        sum_loss = 0\n",
    "        optim = get_optimizer(model, lr=lr, wd=0)\n",
    "        for x, y in train_dl:\n",
    "            \n",
    "            if unfreeze_during_loop:\n",
    "                if cnt == first_unfreeze: model.unfreeze(1)\n",
    "                if cnt == second_unfreeze: model.unfreeze(0)\n",
    "            \n",
    "            batch = y.shape[0]\n",
    "            out = model(x)\n",
    "            loss = F.binary_cross_entropy_with_logits(out, y)\n",
    "            optim.zero_grad()\n",
    "            loss.backward()\n",
    "            optim.step()\n",
    "            total += batch\n",
    "            sum_loss += batch * (loss.item())\n",
    "            \n",
    "            cnt += 1\n",
    "                \n",
    "        val_loss, measure, _ = validate_multilabel(model, valid_dl)\n",
    "        print(f'Ep. {epoch+1} - lr {lr:.7f} train loss {sum_loss/total:.4f} -  val loss {val_loss:.4f} AUC {measure:.4f}')\n",
    "\n",
    "        if val_loss - prev_loss > epsilon:\n",
    "            lr = lr / 10.0\n",
    "        if val_loss < min_loss:\n",
    "            if save_path: save_model(model, save_path)\n",
    "            min_loss = val_loss\n",
    "        \n",
    "        prev_loss = val_loss\n",
    "        if lr < min_lr:\n",
    "            break\n",
    "\n",
    "# Training            \n",
    "train_df = pd.read_csv(PATH/\"train_df.csv\")\n",
    "valid_df = pd.read_csv(PATH/\"val_df.csv\")\n",
    "\n",
    "for pretrained, freeze, grad_unfreez in METHODS:\n",
    "    \n",
    "    valid_dl = DataBatches(valid_df,img_folder_path=IMG_FOLDER,transforms=False, \n",
    "                           shuffle=False, data=DATA, batch_size=BATCH_SIZE, normalize=pretrained)\n",
    "\n",
    "    for rs in RANDOM_STATES:\n",
    "\n",
    "        train_df = train_df.sample(frac=1)\n",
    "\n",
    "        for N in SAMPLE_AMOUNTS:\n",
    "\n",
    "            df = train_df[:N]\n",
    "\n",
    "            train_dl = DataBatches(df, img_folder_path=IMG_FOLDER, transforms=TRANSFORMATIONS, \n",
    "                                   shuffle=True, data=DATA, batch_size=BATCH_SIZE, normalize=pretrained)\n",
    "\n",
    "            model = DenseNet121(14, pretrained=pretrained, freeze=freeze).cuda()\n",
    "\n",
    "            save_path = SAVE_DIRECTORY/f\"app1_{pretrained}-{freeze}-{grad_unfreez}-{N}-{rs}.pth\"\n",
    "\n",
    "            train(EPOCHS, train_dl, valid_dl, model, max_lr=.001, save_path=save_path, unfreeze_during_loop=(.1, .2) if grad_unfreez else None)\n",
    "\n",
    "# Evaluation\n",
    "\n",
    "test_df = pd.read_csv(PATH/\"test_df.csv\")\n",
    "\n",
    "for pretrained, freeze, grad_unfreeze in METHODS:\n",
    "    \n",
    "    losses = [[] for _ in n_samples]\n",
    "    aucs = [[] for _ in n_samples]\n",
    "    \n",
    "    test_dl = DataBatches(test_df,img_folder_path=IMG_FOLDER, transforms=TRANSFORMATIONS, \n",
    "                          shuffle=False, data=DATA, batch_size=BATCH_SIZE, normalize=pretrained)\n",
    "    \n",
    "    for i, N in enumerate(SAMPLE_AMOUNTS):\n",
    "        \n",
    "        for rs in RANDOM_STATES:\n",
    "            \n",
    "            model = DenseNet121(14, pretrained=pretrained, freeze=freeze).cuda()\n",
    "\n",
    "            load_path = SAVE_DIRECTORY/f\"app1_{pretrained}-{freeze}-{grad_unfreeze}-{N}-{rs}.pth\"\n",
    "            \n",
    "            load_model(model, load_path)\n",
    "            \n",
    "            loss, mean_auc, _ = TTA_multilabel(model, test_dl, ndl=4)\n",
    "            \n",
    "            losses[i].append(loss)\n",
    "            aucs[i].append(mean_auc)\n",
    "    \n",
    "    loss_path = SAVE_DATA/f\"losses_{pretrained}_{freeze}_{grad_unfreeze}\"\n",
    "    aucs_path = SAVE_DATA/f\"aucs_{pretrained}_{freeze}_{grad_unfreeze}\"\n",
    "    \n",
    "    numpy.save(loss_path, np.array(losses))\n",
    "    numpy.save(aucs_path, np.array(aucs))"
   ]
  },
  {
   "cell_type": "markdown",
   "metadata": {},
   "source": [
    "# Plot results"
   ]
  },
  {
   "cell_type": "code",
   "execution_count": null,
   "metadata": {
    "collapsed": true
   },
   "outputs": [],
   "source": []
  }
 ],
 "metadata": {
  "kernelspec": {
   "display_name": "Python 3",
   "language": "python",
   "name": "python3"
  },
  "language_info": {
   "codemirror_mode": {
    "name": "ipython",
    "version": 3
   },
   "file_extension": ".py",
   "mimetype": "text/x-python",
   "name": "python",
   "nbconvert_exporter": "python",
   "pygments_lexer": "ipython3",
   "version": "3.6.7"
  },
  "nav_menu": {},
  "toc": {
   "navigate_menu": true,
   "number_sections": true,
   "sideBar": true,
   "threshold": 6,
   "toc_cell": false,
   "toc_section_display": "block",
   "toc_window_display": false
  }
 },
 "nbformat": 4,
 "nbformat_minor": 2
}
