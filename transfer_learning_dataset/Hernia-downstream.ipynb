{
 "cells": [
  {
   "cell_type": "markdown",
   "metadata": {},
   "source": [
    "# Transfer learning experiments\n",
    "\n",
    "This notebook includes:\n",
    "1) Implement a transfer learning from ImageNet > 13 diseases > 1 disease. \n",
    "2) Compared performance against ImageNet > 1 disease and ImageNet > MURA > 1 disease \n",
    "\n",
    "Results for disease corresponding to index 10.\n",
    "\n",
    "## Imports & global variables"
   ]
  },
  {
   "cell_type": "markdown",
   "metadata": {},
   "source": [
    "We choose `idx=10` because from previous experiments we have detected a strong signal and a sufficient amount of positive cases. "
   ]
  },
  {
   "cell_type": "code",
   "execution_count": 1,
   "metadata": {
    "collapsed": true
   },
   "outputs": [],
   "source": [
    "%reload_ext autoreload\n",
    "%autoreload 2\n",
    "%matplotlib inline\n",
    "\n",
    "import sys; sys.path.append(\"..\")\n",
    "import warnings; warnings.filterwarnings('ignore')\n",
    "\n",
    "from core import * \n",
    "from data_manipulation import Transform, RandomRotation, Flip, RandomCrop, balance_obs, multi_label_2_binary, DataBatches\n",
    "from utils import save_model, load_model, lr_loss_plot, resize\n",
    "from architectures import DenseNet121\n",
    "from train_functions import OptimizerWrapper, TrainingPolicy, FinderPolicy, validate_multilabel, lr_finder, validate_binary, TTA_binary\n",
    "\n",
    "seed = 42\n",
    "r_pix = 8\n",
    "# IDX = 6 # Pneumonia\n",
    "BATCH_SIZE = 16\n",
    "EPOCHS = 10\n",
    "TRANSFORMATIONS = [RandomRotation(arc_width=20), Flip(), RandomCrop(r_pix=r_pix)]\n",
    "PRETRAINED = True\n",
    "NORMALIZE = True # ImageNet\n",
    "FREEZE = True\n",
    "GRADUAL_UNFREEZING = True\n",
    "DATA = 'Pneumonia'\n",
    "DISEASE = 'Hernia'\n",
    "\n",
    "\n",
    "BASE_PATH = Path('../..')\n",
    "PATH = BASE_PATH/'data'\n",
    "# SAVE_DATA = BASE_PATH/'output/real_data_experiments/multilabel/results'\n",
    "# SAVE_DIRECTORY = BASE_PATH/'output/real_data_experiments/multilabel/chexPert-model'\n",
    "IMG_FOLDER = PATH/'ChestXRay-250'\n",
    "\n",
    "idx2tgt = [ 'Atelectasis', 'Cardiomegaly', 'Effusion', 'Infiltration', 'Mass', 'Nodule', 'Pneumonia',\n",
    "               'Pneumothorax', 'Consolidation', 'Edema', 'Emphysema', 'Fibrosis', 'Pleural_Thickening', 'Hernia']\n",
    "\n",
    "tgt2idx = {disease: i for i, disease in enumerate(idx2tgt)}"
   ]
  },
  {
   "cell_type": "markdown",
   "metadata": {},
   "source": [
    "# Downstream task - 1 label (small data)"
   ]
  },
  {
   "cell_type": "markdown",
   "metadata": {},
   "source": [
    "Balance training and testing."
   ]
  },
  {
   "cell_type": "code",
   "execution_count": 2,
   "metadata": {
    "collapsed": true
   },
   "outputs": [],
   "source": [
    "# # To balance validation and testing\n",
    "# def decode_labels(df_col):\n",
    "#     return np.array(list(map(np.array, df_col.str.split(' ')))).astype(int)\n",
    "\n",
    "# def subset_df(df, amt, idx=tgt2idx[DISEASE]):\n",
    "    \n",
    "#     lbls = decode_labels(df.Label)\n",
    "    \n",
    "#     pos_idxs = lbls[:,idx].astype(bool)\n",
    "\n",
    "#     neg = df[~pos_idxs].sample(n=amt//2, replace=False)\n",
    "#     pos = df[pos_idxs].sample(n=amt//2, replace=False)\n",
    "\n",
    "#     return pd.concat([neg, pos]).reset_index(drop=True)"
   ]
  },
  {
   "cell_type": "code",
   "execution_count": 4,
   "metadata": {
    "collapsed": true,
    "scrolled": true
   },
   "outputs": [],
   "source": [
    "train_df = pd.read_csv(PATH/'train_df.csv')\n",
    "valid_df = pd.read_csv(PATH/\"val_df.csv\")\n",
    "test_df = pd.read_csv(PATH/\"test_df.csv\")\n",
    "\n",
    "train_df = multi_label_2_binary(train_df, tgt2idx[DISEASE])\n",
    "sample_train_df = balance_obs(train_df, amt=2000)\n",
    "\n",
    "valid_df = multi_label_2_binary(valid_df, tgt2idx[DISEASE])\n",
    "valid_df = balance_obs(valid_df, amt=2*len(valid_df[valid_df['Label']==1]))\n",
    "\n",
    "test_df = multi_label_2_binary(test_df, tgt2idx[DISEASE])\n",
    "test_df = balance_obs(test_df, amt=2*len(test_df[test_df['Label']==1]))"
   ]
  },
  {
   "cell_type": "code",
   "execution_count": 5,
   "metadata": {
    "collapsed": true
   },
   "outputs": [],
   "source": [
    "train_dl = DataBatches(df=sample_train_df, transforms=TRANSFORMATIONS, shuffle=True,\n",
    "                       img_folder_path=IMG_FOLDER, batch_size=BATCH_SIZE, data=DATA, \n",
    "                       r_pix=r_pix, normalize=NORMALIZE, seed=seed)\n",
    "\n",
    "valid_dl = DataBatches(df=valid_df, transforms=None, shuffle=False,\n",
    "                       img_folder_path=IMG_FOLDER, batch_size=BATCH_SIZE, data=DATA,\n",
    "                       r_pix=r_pix, normalize=NORMALIZE, seed=seed)\n",
    "\n",
    "test_dl = DataBatches(df=test_df, transforms=TRANSFORMATIONS, shuffle=False, \n",
    "                      img_folder_path=IMG_FOLDER, batch_size=BATCH_SIZE, data=DATA,\n",
    "                      r_pix=r_pix, normalize=NORMALIZE, seed=seed)"
   ]
  },
  {
   "cell_type": "code",
   "execution_count": 6,
   "metadata": {
    "scrolled": true
   },
   "outputs": [
    {
     "data": {
      "application/vnd.jupyter.widget-view+json": {
       "model_id": "c36d7e9eff88495c801491cc08152001",
       "version_major": 2,
       "version_minor": 0
      },
      "text/plain": [
       "A Jupyter Widget"
      ]
     },
     "metadata": {},
     "output_type": "display_data"
    },
    {
     "data": {
      "application/vnd.jupyter.widget-view+json": {
       "model_id": "d06881e3c33043529ae836fd6ffed6e0",
       "version_major": 2,
       "version_minor": 0
      },
      "text/plain": [
       "A Jupyter Widget"
      ]
     },
     "metadata": {},
     "output_type": "display_data"
    },
    {
     "data": {
      "image/png": "[encoded data removed]",
      "text/plain": [
       "<Figure size 432x288 with 1 Axes>"
      ]
     },
     "metadata": {},
     "output_type": "display_data"
    },
    {
     "data": {
      "application/vnd.jupyter.widget-view+json": {
       "model_id": "a1b203c61b51487b87a55bfd9da5ba88",
       "version_major": 2,
       "version_minor": 0
      },
      "text/plain": [
       "A Jupyter Widget"
      ]
     },
     "metadata": {},
     "output_type": "display_data"
    },
    {
     "data": {
      "image/png": "[encoded data removed]",
      "text/plain": [
       "<Figure size 432x288 with 1 Axes>"
      ]
     },
     "metadata": {},
     "output_type": "display_data"
    },
    {
     "data": {
      "application/vnd.jupyter.widget-view+json": {
       "model_id": "e8fd241d50564166a21b2af4f4e96857",
       "version_major": 2,
       "version_minor": 0
      },
      "text/plain": [
       "A Jupyter Widget"
      ]
     },
     "metadata": {},
     "output_type": "display_data"
    }
   ],
   "source": [
    "m = DenseNet121(out_size=1, pretrained=PRETRAINED, freeze=False).cuda()\n",
    "lrs, losses = lr_finder(m, n_epochs=7, train_dl=train_dl, min_lr=1e-8, max_lr=1e-2,early_stopping=251, plot_every=125)"
   ]
  },
  {
   "cell_type": "code",
   "execution_count": 15,
   "metadata": {
    "collapsed": true
   },
   "outputs": [],
   "source": [
    "def train(n_epochs, train_dl, valid_dl, model, max_lr=.01, wd=0, alpha=1./ 3,\n",
    "          save_path=None, unfreeze_during_loop:tuple=None):\n",
    "    \n",
    "    if unfreeze_during_loop:\n",
    "        total_iter = n_epochs*len(train_dl)\n",
    "        first_unfreeze = int(total_iter*unfreeze_during_loop[0])\n",
    "        second_unfreeze = int(total_iter*unfreeze_during_loop[1])\n",
    "\n",
    "    best_loss = np.inf\n",
    "    cnt = 0\n",
    "    \n",
    "    policy = TrainingPolicy(n_epochs=n_epochs, dl=train_dl, max_lr=max_lr)\n",
    "    optimizer = OptimizerWrapper(model, policy, wd=wd, alpha=alpha)\n",
    "\n",
    "    for epoch in tqdm_notebook(range(n_epochs), ):\n",
    "        model.train()\n",
    "        agg_div = 0\n",
    "        agg_loss = 0\n",
    "        train_dl.set_random_choices()\n",
    "        for x, y in tqdm_notebook(train_dl, leave=False):\n",
    "\n",
    "            if unfreeze_during_loop:\n",
    "                if cnt == first_unfreeze: model.unfreeze(1)\n",
    "                if cnt == second_unfreeze: model.unfreeze(0)\n",
    "\n",
    "            out = model(x).squeeze()\n",
    "            loss = F.binary_cross_entropy_with_logits(input=out.squeeze(), target=y)\n",
    "            optimizer.zero_grad()\n",
    "            loss.backward()\n",
    "            optimizer.step()\n",
    "            \n",
    "            batch = y.shape[0]\n",
    "            agg_loss += batch*loss.item()\n",
    "            agg_div += batch\n",
    "            cnt += 1\n",
    "\n",
    "\n",
    "        val_loss, measure, _ = validate_binary(model, valid_dl)\n",
    "        print(f'Ep. {epoch+1} - train loss {agg_loss/agg_div:.4f} -  val loss {val_loss:.4f} AUC {measure:.4f}')\n",
    "\n",
    "        if save_path and val_loss < best_loss:\n",
    "            save_model(model, save_path)\n",
    "            best_loss = val_loss"
   ]
  },
  {
   "cell_type": "markdown",
   "metadata": {},
   "source": [
    "# Comparison on the Downstream task\n",
    "\n",
    "\\# Samples = 2,000"
   ]
  },
  {
   "cell_type": "code",
   "execution_count": 10,
   "metadata": {
    "collapsed": true
   },
   "outputs": [],
   "source": [
    "# train_df = pd.read_csv('train_df_small.csv')\n",
    "# valid_df = pd.read_csv(PATH/\"val_df.csv\")\n",
    "# test_df = pd.read_csv(PATH/\"test_df.csv\")\n",
    "\n",
    "# train_df = multi_label_2_binary(train_df, tgt2idx['Pneumonia'])\n",
    "# sample_train_df = balance_obs(train_df, amt=2000)\n",
    "\n",
    "# valid_df = multi_label_2_binary(valid_df, tgt2idx['Pneumonia'])\n",
    "# valid_df = balance_obs(valid_df, amt=2*len(valid_df[valid_df['Label']==1]))\n",
    "\n",
    "# test_df = multi_label_2_binary(test_df, tgt2idx['Pneumonia'])\n",
    "# test_df = balance_obs(test_df, amt=2*len(test_df[test_df['Label']==1]))\n",
    "\n",
    "# train_dl = DataBatches(df=sample_train_df, transforms=TRANSFORMATIONS, shuffle=True,\n",
    "#                        img_folder_path=IMG_FOLDER, batch_size=BATCH_SIZE, data=DATA, \n",
    "#                        r_pix=r_pix, normalize=NORMALIZE, seed=seed)\n",
    "\n",
    "# valid_dl = DataBatches(df=valid_df, transforms=None, shuffle=False,\n",
    "#                        img_folder_path=IMG_FOLDER, batch_size=BATCH_SIZE, data=DATA,\n",
    "#                        r_pix=r_pix, normalize=NORMALIZE, seed=seed)\n",
    "\n",
    "# test_dl = DataBatches(df=test_df, transforms=TRANSFORMATIONS, shuffle=False, \n",
    "#                       img_folder_path=IMG_FOLDER, batch_size=BATCH_SIZE, data=DATA,\n",
    "#                       r_pix=r_pix, normalize=NORMALIZE, seed=seed)"
   ]
  },
  {
   "cell_type": "markdown",
   "metadata": {},
   "source": [
    "## ImageNet"
   ]
  },
  {
   "cell_type": "code",
   "execution_count": 27,
   "metadata": {
    "scrolled": false
   },
   "outputs": [
    {
     "data": {
      "application/vnd.jupyter.widget-view+json": {
       "model_id": "ece812f22ff7478397b8db4aae731744",
       "version_major": 2,
       "version_minor": 0
      },
      "text/plain": [
       "A Jupyter Widget"
      ]
     },
     "metadata": {},
     "output_type": "display_data"
    },
    {
     "data": {
      "application/vnd.jupyter.widget-view+json": {
       "model_id": "2d0a7ebe8a6e4928a1352af0ec81a715",
       "version_major": 2,
       "version_minor": 0
      },
      "text/plain": [
       "A Jupyter Widget"
      ]
     },
     "metadata": {},
     "output_type": "display_data"
    },
    {
     "name": "stdout",
     "output_type": "stream",
     "text": [
      "Ep. 1 - train loss 0.6974 -  val loss 0.6727 AUC 0.6438\n"
     ]
    },
    {
     "data": {
      "application/vnd.jupyter.widget-view+json": {
       "model_id": "ee31722a9d174169b6ec38081640da94",
       "version_major": 2,
       "version_minor": 0
      },
      "text/plain": [
       "A Jupyter Widget"
      ]
     },
     "metadata": {},
     "output_type": "display_data"
    },
    {
     "name": "stdout",
     "output_type": "stream",
     "text": [
      "Ep. 2 - train loss 0.5796 -  val loss 0.5312 AUC 0.8373\n"
     ]
    },
    {
     "data": {
      "application/vnd.jupyter.widget-view+json": {
       "model_id": "cd3d7bad5a5146da95fc29e49ae36456",
       "version_major": 2,
       "version_minor": 0
      },
      "text/plain": [
       "A Jupyter Widget"
      ]
     },
     "metadata": {},
     "output_type": "display_data"
    },
    {
     "name": "stdout",
     "output_type": "stream",
     "text": [
      "Ep. 3 - train loss 0.5138 -  val loss 0.6222 AUC 0.8347\n"
     ]
    },
    {
     "data": {
      "application/vnd.jupyter.widget-view+json": {
       "model_id": "e9130919ce994b88a8b1f13ef2bdfb88",
       "version_major": 2,
       "version_minor": 0
      },
      "text/plain": [
       "A Jupyter Widget"
      ]
     },
     "metadata": {},
     "output_type": "display_data"
    },
    {
     "name": "stdout",
     "output_type": "stream",
     "text": [
      "Ep. 4 - train loss 0.4792 -  val loss 0.4620 AUC 0.8760\n"
     ]
    },
    {
     "data": {
      "application/vnd.jupyter.widget-view+json": {
       "model_id": "8b1f894b65c642a89392cbecb75b544b",
       "version_major": 2,
       "version_minor": 0
      },
      "text/plain": [
       "A Jupyter Widget"
      ]
     },
     "metadata": {},
     "output_type": "display_data"
    },
    {
     "name": "stdout",
     "output_type": "stream",
     "text": [
      "Ep. 5 - train loss 0.3956 -  val loss 0.4729 AUC 0.8791\n"
     ]
    },
    {
     "data": {
      "application/vnd.jupyter.widget-view+json": {
       "model_id": "007974474ebe4354a7200e9913be5f10",
       "version_major": 2,
       "version_minor": 0
      },
      "text/plain": [
       "A Jupyter Widget"
      ]
     },
     "metadata": {},
     "output_type": "display_data"
    },
    {
     "name": "stdout",
     "output_type": "stream",
     "text": [
      "Ep. 6 - train loss 0.3587 -  val loss 0.5145 AUC 0.8669\n"
     ]
    },
    {
     "data": {
      "application/vnd.jupyter.widget-view+json": {
       "model_id": "36069c71f4494a62963f033cee2302ce",
       "version_major": 2,
       "version_minor": 0
      },
      "text/plain": [
       "A Jupyter Widget"
      ]
     },
     "metadata": {},
     "output_type": "display_data"
    },
    {
     "name": "stdout",
     "output_type": "stream",
     "text": [
      "Ep. 7 - train loss 0.2712 -  val loss 0.6556 AUC 0.8427\n"
     ]
    },
    {
     "data": {
      "application/vnd.jupyter.widget-view+json": {
       "model_id": "e9a47320af9d48e091283575a989970f",
       "version_major": 2,
       "version_minor": 0
      },
      "text/plain": [
       "A Jupyter Widget"
      ]
     },
     "metadata": {},
     "output_type": "display_data"
    },
    {
     "name": "stdout",
     "output_type": "stream",
     "text": [
      "Ep. 8 - train loss 0.2010 -  val loss 0.5827 AUC 0.8625\n"
     ]
    },
    {
     "data": {
      "application/vnd.jupyter.widget-view+json": {
       "model_id": "3863bafa45924f8a99931455c39f2eef",
       "version_major": 2,
       "version_minor": 0
      },
      "text/plain": [
       "A Jupyter Widget"
      ]
     },
     "metadata": {},
     "output_type": "display_data"
    },
    {
     "name": "stdout",
     "output_type": "stream",
     "text": [
      "Ep. 9 - train loss 0.1433 -  val loss 0.6240 AUC 0.8643\n"
     ]
    },
    {
     "data": {
      "application/vnd.jupyter.widget-view+json": {
       "model_id": "c14fdbd804be497284e9113c651a2558",
       "version_major": 2,
       "version_minor": 0
      },
      "text/plain": [
       "A Jupyter Widget"
      ]
     },
     "metadata": {},
     "output_type": "display_data"
    },
    {
     "name": "stdout",
     "output_type": "stream",
     "text": [
      "Ep. 10 - train loss 0.1104 -  val loss 0.6235 AUC 0.8625\n",
      "Testing with TTA ....\n",
      "TTA loss 0.5749  auc 0.8615  accuracy 0.7278\n"
     ]
    },
    {
     "data": {
      "text/plain": [
       "(0.574909344489353, 0.8615451065543099, 0.7278133577310155)"
      ]
     },
     "execution_count": 27,
     "metadata": {},
     "output_type": "execute_result"
    }
   ],
   "source": [
    "pretrained = True\n",
    "model = DenseNet121(1, pretrained=PRETRAINED, freeze=FREEZE).cuda()\n",
    "model_p = 'best_imagenet_{DISEASE}.pth'\n",
    "train(EPOCHS, train_dl, valid_dl, model, max_lr=.001, save_path=model_p, \n",
    "      unfreeze_during_loop=(.1, .2) if FREEZE else None)\n",
    "\n",
    "print('Testing with TTA ....')\n",
    "load_model(model, model_p)\n",
    "TTA_binary(model, test_dl)"
   ]
  },
  {
   "cell_type": "markdown",
   "metadata": {},
   "source": [
    "## MURA"
   ]
  },
  {
   "cell_type": "code",
   "execution_count": 28,
   "metadata": {
    "scrolled": false
   },
   "outputs": [
    {
     "data": {
      "application/vnd.jupyter.widget-view+json": {
       "model_id": "dafb72115a034945aa3e2932e6819422",
       "version_major": 2,
       "version_minor": 0
      },
      "text/plain": [
       "A Jupyter Widget"
      ]
     },
     "metadata": {},
     "output_type": "display_data"
    },
    {
     "data": {
      "application/vnd.jupyter.widget-view+json": {
       "model_id": "77ffd991e3f44824861eed61c24743b1",
       "version_major": 2,
       "version_minor": 0
      },
      "text/plain": [
       "A Jupyter Widget"
      ]
     },
     "metadata": {},
     "output_type": "display_data"
    },
    {
     "name": "stdout",
     "output_type": "stream",
     "text": [
      "Ep. 1 - train loss 0.7017 -  val loss 0.6568 AUC 0.6709\n"
     ]
    },
    {
     "data": {
      "application/vnd.jupyter.widget-view+json": {
       "model_id": "308823e225e346f9a6be8e669af5e556",
       "version_major": 2,
       "version_minor": 0
      },
      "text/plain": [
       "A Jupyter Widget"
      ]
     },
     "metadata": {},
     "output_type": "display_data"
    },
    {
     "name": "stdout",
     "output_type": "stream",
     "text": [
      "Ep. 2 - train loss 0.5734 -  val loss 0.5231 AUC 0.8198\n"
     ]
    },
    {
     "data": {
      "application/vnd.jupyter.widget-view+json": {
       "model_id": "75390e1ec8c44518a6a88c69220f8b36",
       "version_major": 2,
       "version_minor": 0
      },
      "text/plain": [
       "A Jupyter Widget"
      ]
     },
     "metadata": {},
     "output_type": "display_data"
    },
    {
     "name": "stdout",
     "output_type": "stream",
     "text": [
      "Ep. 3 - train loss 0.4982 -  val loss 0.7245 AUC 0.8096\n"
     ]
    },
    {
     "data": {
      "application/vnd.jupyter.widget-view+json": {
       "model_id": "e7e4d1b4ba53446ab79beb0fad944301",
       "version_major": 2,
       "version_minor": 0
      },
      "text/plain": [
       "A Jupyter Widget"
      ]
     },
     "metadata": {},
     "output_type": "display_data"
    },
    {
     "name": "stdout",
     "output_type": "stream",
     "text": [
      "Ep. 4 - train loss 0.4748 -  val loss 0.5351 AUC 0.8741\n"
     ]
    },
    {
     "data": {
      "application/vnd.jupyter.widget-view+json": {
       "model_id": "9f66ff343f7140b3b6274b92e5593037",
       "version_major": 2,
       "version_minor": 0
      },
      "text/plain": [
       "A Jupyter Widget"
      ]
     },
     "metadata": {},
     "output_type": "display_data"
    },
    {
     "name": "stdout",
     "output_type": "stream",
     "text": [
      "Ep. 5 - train loss 0.3779 -  val loss 0.5255 AUC 0.8686\n"
     ]
    },
    {
     "data": {
      "application/vnd.jupyter.widget-view+json": {
       "model_id": "399b6d5376d14e3c84b25e427667f958",
       "version_major": 2,
       "version_minor": 0
      },
      "text/plain": [
       "A Jupyter Widget"
      ]
     },
     "metadata": {},
     "output_type": "display_data"
    },
    {
     "name": "stdout",
     "output_type": "stream",
     "text": [
      "Ep. 6 - train loss 0.3441 -  val loss 0.4903 AUC 0.8850\n"
     ]
    },
    {
     "data": {
      "application/vnd.jupyter.widget-view+json": {
       "model_id": "b78d32dae4c74814a4a12b26dc968e8f",
       "version_major": 2,
       "version_minor": 0
      },
      "text/plain": [
       "A Jupyter Widget"
      ]
     },
     "metadata": {},
     "output_type": "display_data"
    },
    {
     "name": "stdout",
     "output_type": "stream",
     "text": [
      "Ep. 7 - train loss 0.2471 -  val loss 0.4804 AUC 0.8914\n"
     ]
    },
    {
     "data": {
      "application/vnd.jupyter.widget-view+json": {
       "model_id": "14eab2fc41254e0d9a575c0be557d40f",
       "version_major": 2,
       "version_minor": 0
      },
      "text/plain": [
       "A Jupyter Widget"
      ]
     },
     "metadata": {},
     "output_type": "display_data"
    },
    {
     "name": "stdout",
     "output_type": "stream",
     "text": [
      "Ep. 8 - train loss 0.1728 -  val loss 0.5443 AUC 0.8803\n"
     ]
    },
    {
     "data": {
      "application/vnd.jupyter.widget-view+json": {
       "model_id": "8a912c1c9341472f955cede96e1f3906",
       "version_major": 2,
       "version_minor": 0
      },
      "text/plain": [
       "A Jupyter Widget"
      ]
     },
     "metadata": {},
     "output_type": "display_data"
    },
    {
     "name": "stdout",
     "output_type": "stream",
     "text": [
      "Ep. 9 - train loss 0.1283 -  val loss 0.5691 AUC 0.8754\n"
     ]
    },
    {
     "data": {
      "application/vnd.jupyter.widget-view+json": {
       "model_id": "2e0262f202b244babfd79ee01d3b427e",
       "version_major": 2,
       "version_minor": 0
      },
      "text/plain": [
       "A Jupyter Widget"
      ]
     },
     "metadata": {},
     "output_type": "display_data"
    },
    {
     "name": "stdout",
     "output_type": "stream",
     "text": [
      "Ep. 10 - train loss 0.0845 -  val loss 0.5862 AUC 0.8712\n",
      "Testing with TTA ....\n",
      "TTA loss 0.5935  auc 0.8685  accuracy 0.7749\n"
     ]
    },
    {
     "data": {
      "text/plain": [
       "(0.5934741154981118, 0.8685396296317999, 0.7749313815187557)"
      ]
     },
     "execution_count": 28,
     "metadata": {},
     "output_type": "execute_result"
    }
   ],
   "source": [
    "pretrained = 'MURA'\n",
    "\n",
    "model = DenseNet121(1, pretrained=pretrained, freeze=FREEZE).cuda()\n",
    "model_p = f'best_MURA_{DISEASE}.pth'\n",
    "train(EPOCHS, train_dl, valid_dl, model, max_lr=.001, save_path=model_p, \n",
    "      unfreeze_during_loop=(.1, .2) if FREEZE else None)\n",
    "\n",
    "print('Testing with TTA ....')\n",
    "load_model(model, model_p)\n",
    "TTA_binary(model, test_dl)"
   ]
  },
  {
   "cell_type": "markdown",
   "metadata": {},
   "source": [
    "## CheXpert"
   ]
  },
  {
   "cell_type": "code",
   "execution_count": 29,
   "metadata": {
    "scrolled": false
   },
   "outputs": [
    {
     "data": {
      "application/vnd.jupyter.widget-view+json": {
       "model_id": "c90393dd90904d60ad7f247ce346c4fc",
       "version_major": 2,
       "version_minor": 0
      },
      "text/plain": [
       "A Jupyter Widget"
      ]
     },
     "metadata": {},
     "output_type": "display_data"
    },
    {
     "data": {
      "application/vnd.jupyter.widget-view+json": {
       "model_id": "f61cbfcb8a1a46019df60be5b53bf6d3",
       "version_major": 2,
       "version_minor": 0
      },
      "text/plain": [
       "A Jupyter Widget"
      ]
     },
     "metadata": {},
     "output_type": "display_data"
    },
    {
     "name": "stdout",
     "output_type": "stream",
     "text": [
      "Ep. 1 - train loss 0.6996 -  val loss 0.6781 AUC 0.6918\n"
     ]
    },
    {
     "data": {
      "application/vnd.jupyter.widget-view+json": {
       "model_id": "74a5899957854153a7c72b2864abfa2c",
       "version_major": 2,
       "version_minor": 0
      },
      "text/plain": [
       "A Jupyter Widget"
      ]
     },
     "metadata": {},
     "output_type": "display_data"
    },
    {
     "name": "stdout",
     "output_type": "stream",
     "text": [
      "Ep. 2 - train loss 0.6193 -  val loss 0.5178 AUC 0.8370\n"
     ]
    },
    {
     "data": {
      "application/vnd.jupyter.widget-view+json": {
       "model_id": "033afc6b111b416aa5d30944812ad475",
       "version_major": 2,
       "version_minor": 0
      },
      "text/plain": [
       "A Jupyter Widget"
      ]
     },
     "metadata": {},
     "output_type": "display_data"
    },
    {
     "name": "stdout",
     "output_type": "stream",
     "text": [
      "Ep. 3 - train loss 0.4949 -  val loss 0.4601 AUC 0.8687\n"
     ]
    },
    {
     "data": {
      "application/vnd.jupyter.widget-view+json": {
       "model_id": "e47289ba4091495e9d662844123d074d",
       "version_major": 2,
       "version_minor": 0
      },
      "text/plain": [
       "A Jupyter Widget"
      ]
     },
     "metadata": {},
     "output_type": "display_data"
    },
    {
     "name": "stdout",
     "output_type": "stream",
     "text": [
      "Ep. 4 - train loss 0.4270 -  val loss 0.4504 AUC 0.8911\n"
     ]
    },
    {
     "data": {
      "application/vnd.jupyter.widget-view+json": {
       "model_id": "17aea1f448c9446caac7258720bdfc5a",
       "version_major": 2,
       "version_minor": 0
      },
      "text/plain": [
       "A Jupyter Widget"
      ]
     },
     "metadata": {},
     "output_type": "display_data"
    },
    {
     "name": "stdout",
     "output_type": "stream",
     "text": [
      "Ep. 5 - train loss 0.3845 -  val loss 0.4693 AUC 0.8833\n"
     ]
    },
    {
     "data": {
      "application/vnd.jupyter.widget-view+json": {
       "model_id": "fad2bc27a1034cd39e44128edde28bb6",
       "version_major": 2,
       "version_minor": 0
      },
      "text/plain": [
       "A Jupyter Widget"
      ]
     },
     "metadata": {},
     "output_type": "display_data"
    },
    {
     "name": "stdout",
     "output_type": "stream",
     "text": [
      "Ep. 6 - train loss 0.3149 -  val loss 0.5719 AUC 0.8830\n"
     ]
    },
    {
     "data": {
      "application/vnd.jupyter.widget-view+json": {
       "model_id": "d6f7d7a27d2e4f72a8289d668dae0d04",
       "version_major": 2,
       "version_minor": 0
      },
      "text/plain": [
       "A Jupyter Widget"
      ]
     },
     "metadata": {},
     "output_type": "display_data"
    },
    {
     "name": "stdout",
     "output_type": "stream",
     "text": [
      "Ep. 7 - train loss 0.2682 -  val loss 0.5410 AUC 0.8670\n"
     ]
    },
    {
     "data": {
      "application/vnd.jupyter.widget-view+json": {
       "model_id": "c2e3569841994789aa516f3cea4492d5",
       "version_major": 2,
       "version_minor": 0
      },
      "text/plain": [
       "A Jupyter Widget"
      ]
     },
     "metadata": {},
     "output_type": "display_data"
    },
    {
     "name": "stdout",
     "output_type": "stream",
     "text": [
      "Ep. 8 - train loss 0.2177 -  val loss 0.6265 AUC 0.8543\n"
     ]
    },
    {
     "data": {
      "application/vnd.jupyter.widget-view+json": {
       "model_id": "bc7a3721d1e04c08880e1291927e4818",
       "version_major": 2,
       "version_minor": 0
      },
      "text/plain": [
       "A Jupyter Widget"
      ]
     },
     "metadata": {},
     "output_type": "display_data"
    },
    {
     "name": "stdout",
     "output_type": "stream",
     "text": [
      "Ep. 9 - train loss 0.1901 -  val loss 0.5922 AUC 0.8640\n"
     ]
    },
    {
     "data": {
      "application/vnd.jupyter.widget-view+json": {
       "model_id": "f15470e3eeec42c49dec207eb873ad77",
       "version_major": 2,
       "version_minor": 0
      },
      "text/plain": [
       "A Jupyter Widget"
      ]
     },
     "metadata": {},
     "output_type": "display_data"
    },
    {
     "name": "stdout",
     "output_type": "stream",
     "text": [
      "Ep. 10 - train loss 0.1676 -  val loss 0.5774 AUC 0.8657\n",
      "Testing with TTA ....\n",
      "TTA loss 0.5127  auc 0.8896  accuracy 0.7694\n"
     ]
    },
    {
     "data": {
      "text/plain": [
       "(0.5126525787508825, 0.8895583556341653, 0.7694419030192132)"
      ]
     },
     "execution_count": 29,
     "metadata": {},
     "output_type": "execute_result"
    }
   ],
   "source": [
    "pretrained = 'chexpert'\n",
    "\n",
    "model = DenseNet121(1, pretrained=pretrained, freeze=FREEZE).cuda()\n",
    "model_p = 'best_chexpert_{DISEASE}.pth'\n",
    "train(EPOCHS, train_dl, valid_dl, model, max_lr=.001, save_path=model_p, \n",
    "      unfreeze_during_loop=(.1, .2) if FREEZE else None)\n",
    "\n",
    "print('Testing with TTA ....')\n",
    "load_model(model, model_p)\n",
    "TTA_binary(model, test_dl)"
   ]
  },
  {
   "cell_type": "markdown",
   "metadata": {},
   "source": [
    "## 13 diseases"
   ]
  },
  {
   "cell_type": "code",
   "execution_count": 30,
   "metadata": {},
   "outputs": [
    {
     "data": {
      "application/vnd.jupyter.widget-view+json": {
       "model_id": "bef1717636d5433a92190d358b198e2e",
       "version_major": 2,
       "version_minor": 0
      },
      "text/plain": [
       "A Jupyter Widget"
      ]
     },
     "metadata": {},
     "output_type": "display_data"
    },
    {
     "data": {
      "application/vnd.jupyter.widget-view+json": {
       "model_id": "7cd8e29e30e64169a05b9337e344ed13",
       "version_major": 2,
       "version_minor": 0
      },
      "text/plain": [
       "A Jupyter Widget"
      ]
     },
     "metadata": {},
     "output_type": "display_data"
    },
    {
     "name": "stdout",
     "output_type": "stream",
     "text": [
      "Ep. 1 - train loss 0.6636 -  val loss 0.6110 AUC 0.8269\n"
     ]
    },
    {
     "data": {
      "application/vnd.jupyter.widget-view+json": {
       "model_id": "ee72f3003b084ce1ab377c6aebd21527",
       "version_major": 2,
       "version_minor": 0
      },
      "text/plain": [
       "A Jupyter Widget"
      ]
     },
     "metadata": {},
     "output_type": "display_data"
    },
    {
     "name": "stdout",
     "output_type": "stream",
     "text": [
      "Ep. 2 - train loss 0.5548 -  val loss 0.4577 AUC 0.8669\n"
     ]
    },
    {
     "data": {
      "application/vnd.jupyter.widget-view+json": {
       "model_id": "83c5729345794c12ba383a7c6de34e1c",
       "version_major": 2,
       "version_minor": 0
      },
      "text/plain": [
       "A Jupyter Widget"
      ]
     },
     "metadata": {},
     "output_type": "display_data"
    },
    {
     "name": "stdout",
     "output_type": "stream",
     "text": [
      "Ep. 3 - train loss 0.4671 -  val loss 0.4758 AUC 0.8655\n"
     ]
    },
    {
     "data": {
      "application/vnd.jupyter.widget-view+json": {
       "model_id": "4ddfc7348eba4558bc3d2cd9db32d1c4",
       "version_major": 2,
       "version_minor": 0
      },
      "text/plain": [
       "A Jupyter Widget"
      ]
     },
     "metadata": {},
     "output_type": "display_data"
    },
    {
     "name": "stdout",
     "output_type": "stream",
     "text": [
      "Ep. 4 - train loss 0.3996 -  val loss 0.4694 AUC 0.8766\n"
     ]
    },
    {
     "data": {
      "application/vnd.jupyter.widget-view+json": {
       "model_id": "9f890e2289d34c5d87a54dd751423f3c",
       "version_major": 2,
       "version_minor": 0
      },
      "text/plain": [
       "A Jupyter Widget"
      ]
     },
     "metadata": {},
     "output_type": "display_data"
    },
    {
     "name": "stdout",
     "output_type": "stream",
     "text": [
      "Ep. 5 - train loss 0.3138 -  val loss 0.4853 AUC 0.8754\n"
     ]
    },
    {
     "data": {
      "application/vnd.jupyter.widget-view+json": {
       "model_id": "0a1ad29b99ac4869b90e78466e7382a1",
       "version_major": 2,
       "version_minor": 0
      },
      "text/plain": [
       "A Jupyter Widget"
      ]
     },
     "metadata": {},
     "output_type": "display_data"
    },
    {
     "name": "stdout",
     "output_type": "stream",
     "text": [
      "Ep. 6 - train loss 0.2925 -  val loss 0.4937 AUC 0.8850\n"
     ]
    },
    {
     "data": {
      "application/vnd.jupyter.widget-view+json": {
       "model_id": "fa802e15ebcf4e6c853d050a338eee27",
       "version_major": 2,
       "version_minor": 0
      },
      "text/plain": [
       "A Jupyter Widget"
      ]
     },
     "metadata": {},
     "output_type": "display_data"
    },
    {
     "name": "stdout",
     "output_type": "stream",
     "text": [
      "Ep. 7 - train loss 0.2099 -  val loss 0.5619 AUC 0.8781\n"
     ]
    },
    {
     "data": {
      "application/vnd.jupyter.widget-view+json": {
       "model_id": "a7e6e75612954b9597a26dc59941edd9",
       "version_major": 2,
       "version_minor": 0
      },
      "text/plain": [
       "A Jupyter Widget"
      ]
     },
     "metadata": {},
     "output_type": "display_data"
    },
    {
     "name": "stdout",
     "output_type": "stream",
     "text": [
      "Ep. 8 - train loss 0.1398 -  val loss 0.6142 AUC 0.8619\n"
     ]
    },
    {
     "data": {
      "application/vnd.jupyter.widget-view+json": {
       "model_id": "e55fb35596be4e439437520f00b106ac",
       "version_major": 2,
       "version_minor": 0
      },
      "text/plain": [
       "A Jupyter Widget"
      ]
     },
     "metadata": {},
     "output_type": "display_data"
    },
    {
     "name": "stdout",
     "output_type": "stream",
     "text": [
      "Ep. 9 - train loss 0.1209 -  val loss 0.6214 AUC 0.8651\n"
     ]
    },
    {
     "data": {
      "application/vnd.jupyter.widget-view+json": {
       "model_id": "21f59a48dc5c4ce9810b7e903c345ca8",
       "version_major": 2,
       "version_minor": 0
      },
      "text/plain": [
       "A Jupyter Widget"
      ]
     },
     "metadata": {},
     "output_type": "display_data"
    },
    {
     "name": "stdout",
     "output_type": "stream",
     "text": [
      "Ep. 10 - train loss 0.1018 -  val loss 0.6615 AUC 0.8605\n",
      "Testing with TTA ....\n",
      "TTA loss 0.5056  auc 0.8640  accuracy 0.7694\n"
     ]
    },
    {
     "data": {
      "text/plain": [
       "(0.5056051797449098, 0.8640429113488565, 0.7694419030192132)"
      ]
     },
     "execution_count": 30,
     "metadata": {},
     "output_type": "execute_result"
    }
   ],
   "source": [
    "# pretrained = '13diseases'\n",
    "# model = DenseNet121(1, pretrained=pretrained, freeze=FREEZE).cuda()\n",
    "# model_p = 'best_13diseases.pth'\n",
    "# train(EPOCHS, train_dl, valid_dl, model, max_lr=.001, save_path=model_p, \n",
    "#       unfreeze_during_loop=(.1, .2) if FREEZE else None)\n",
    "\n",
    "# print('Testing with TTA ....')\n",
    "# load_model(model, model_p)\n",
    "# TTA_binary(model, test_dl)"
   ]
  },
  {
   "cell_type": "markdown",
   "metadata": {},
   "source": [
    "## Script"
   ]
  },
  {
   "cell_type": "code",
   "execution_count": 1,
   "metadata": {},
   "outputs": [
    {
     "name": "stdout",
     "output_type": "stream",
     "text": [
      "Overwriting hernia-downstream.py\n"
     ]
    }
   ],
   "source": [
    "%%writefile hernia-downstream.py\n",
    "\n",
    "import sys; sys.path.append(\"..\")\n",
    "import warnings; warnings.filterwarnings('ignore')\n",
    "\n",
    "from core import * \n",
    "from data_manipulation import Transform, RandomRotation, Flip, RandomCrop, balance_obs, multi_label_2_binary, DataBatches\n",
    "from utils import save_model, load_model, lr_loss_plot\n",
    "from architectures import DenseNet121\n",
    "from train_functions import OptimizerWrapper, TrainingPolicy, FinderPolicy, validate_multilabel, lr_finder, validate_binary, TTA_binary\n",
    "import json\n",
    "\n",
    "SEED = 42\n",
    "R_PIX = 8\n",
    "IDX = 10\n",
    "BATCH_SIZE = 16\n",
    "EPOCHS = 30\n",
    "TRANSFORMATIONS = [RandomRotation(arc_width=20), Flip(), RandomCrop(r_pix=R_PIX)]\n",
    "NORMALIZE = True # ImageNet\n",
    "FREEZE = True\n",
    "GRADUAL_UNFREEZING = True\n",
    "n_samples = [50,100,200,400,600,800,1000,1200,1400,1600,1800, 2000]\n",
    "# n_samples = [6, 12, 24, 36, 48]\n",
    "\n",
    "print(n_samples)\n",
    "BASE_PATH = Path('/data/miguel/practicum/')\n",
    "PATH = BASE_PATH/'data'\n",
    "IMG_FOLDER = PATH/'ChestXRay-250'\n",
    "DATA = 'Pneumonia' # will take advantage of the dataset structure for pneumonia \n",
    "DISEASE = 'Hernia'\n",
    "\n",
    "idx2tgt = [ 'Atelectasis', 'Cardiomegaly', 'Effusion', 'Infiltration', 'Mass', 'Nodule', 'Pneumonia',\n",
    "               'Pneumothorax', 'Consolidation', 'Edema', 'Emphysema', 'Fibrosis', 'Pleural_Thickening', 'Hernia']\n",
    "tgt2idx = {disease: i for i, disease in enumerate(idx2tgt)}\n",
    "\n",
    "# To balance validation and testing\n",
    "def decode_labels(df_col):\n",
    "    return np.array(list(map(np.array, df_col.str.split(' ')))).astype(int)\n",
    "\n",
    "def subset_df(df, amt, idx=IDX):\n",
    "    \n",
    "    lbls = decode_labels(df.Label)\n",
    "    \n",
    "    pos_idxs = lbls[:,idx].astype(bool)\n",
    "\n",
    "    neg = df[~pos_idxs].sample(n=amt//2, replace=False)\n",
    "    pos = df[pos_idxs].sample(n=amt//2, replace=False)\n",
    "\n",
    "    return pd.concat([neg, pos]).reset_index(drop=True)\n",
    "\n",
    "def train(n_epochs, train_dl, valid_dl, model, max_lr=.01, wd=0, alpha=1./ 3,\n",
    "          save_path=None, unfreeze_during_loop:tuple=None):\n",
    "    \n",
    "    if unfreeze_during_loop:\n",
    "        total_iter = n_epochs*len(train_dl)\n",
    "        first_unfreeze = int(total_iter*unfreeze_during_loop[0])\n",
    "        second_unfreeze = int(total_iter*unfreeze_during_loop[1])\n",
    "\n",
    "    best_loss = np.inf\n",
    "    cnt = 0\n",
    "    \n",
    "    policy = TrainingPolicy(n_epochs=n_epochs, dl=train_dl, max_lr=max_lr)\n",
    "    optimizer = OptimizerWrapper(model, policy, wd=wd, alpha=alpha)\n",
    "\n",
    "    for epoch in range(n_epochs):\n",
    "        model.train()\n",
    "        agg_div = 0\n",
    "        agg_loss = 0\n",
    "        train_dl.set_random_choices()\n",
    "        for x, y in train_dl:\n",
    "\n",
    "            if unfreeze_during_loop:\n",
    "                if cnt == first_unfreeze: model.unfreeze(1)\n",
    "                if cnt == second_unfreeze: model.unfreeze(0)\n",
    "\n",
    "            out = model(x)\n",
    "            loss = F.binary_cross_entropy_with_logits(input=out.squeeze(), target=y)\n",
    "            optimizer.zero_grad()\n",
    "            loss.backward()\n",
    "            optimizer.step()\n",
    "            \n",
    "            batch = y.shape[0]\n",
    "            agg_loss += batch*loss.item()\n",
    "            agg_div += batch\n",
    "            cnt += 1\n",
    "\n",
    "\n",
    "        val_loss, measure, _ = validate_binary(model, valid_dl)\n",
    "        print(f'Ep. {epoch+1} - train loss {agg_loss/agg_div:.4f} -  val loss {val_loss:.4f} AUC {measure:.4f}')\n",
    "\n",
    "        if save_path and val_loss < best_loss:\n",
    "            save_model(model, save_path)\n",
    "            best_loss = val_loss\n",
    "            \n",
    "            \n",
    "train_df = pd.read_csv(PATH/'train_df.csv')\n",
    "valid_df = pd.read_csv(PATH/\"val_df.csv\")\n",
    "test_df = pd.read_csv(PATH/\"test_df.csv\")\n",
    "\n",
    "train_df = multi_label_2_binary(train_df, tgt2idx[DISEASE])\n",
    "\n",
    "valid_df = multi_label_2_binary(valid_df, tgt2idx[DISEASE])\n",
    "valid_df = balance_obs(valid_df, amt=2*len(valid_df[valid_df['Label']==1]))\n",
    "\n",
    "test_df = multi_label_2_binary(test_df, tgt2idx[DISEASE])\n",
    "test_df = balance_obs(test_df, amt=2*len(test_df[test_df['Label']==1]))\n",
    "\n",
    "no_pretrained = {'loss': [],\n",
    "           'auc': [],\n",
    "           'accuracy': []}\n",
    "\n",
    "imagenet = {'loss': [],\n",
    "           'auc': [],\n",
    "           'accuracy': []}\n",
    "\n",
    "MURA = {'loss': [],\n",
    "           'auc': [],\n",
    "           'accuracy': []}\n",
    "\n",
    "chexpert = {'loss': [],\n",
    "           'auc': [],\n",
    "           'accuracy': []}\n",
    "\n",
    "for N in n_samples:\n",
    "    \n",
    "    train_df_balanced = balance_obs(train_df, amt=N)\n",
    "\n",
    "    train_dl = DataBatches(df=train_df_balanced, transforms=TRANSFORMATIONS, shuffle=True,\n",
    "                           img_folder_path=IMG_FOLDER, batch_size=BATCH_SIZE, data=DATA,\n",
    "                           r_pix=R_PIX, normalize=NORMALIZE, seed=SEED)\n",
    "\n",
    "    valid_dl = DataBatches(df=valid_df, transforms=None, shuffle=False,\n",
    "                           img_folder_path=IMG_FOLDER, batch_size=BATCH_SIZE, data=DATA,\n",
    "                           r_pix=R_PIX, normalize=NORMALIZE, seed=SEED)\n",
    "\n",
    "    test_dl = DataBatches(df=test_df, transforms=TRANSFORMATIONS, shuffle=False,\n",
    "                          img_folder_path=IMG_FOLDER, batch_size=BATCH_SIZE, data=DATA,\n",
    "                          r_pix=R_PIX, normalize=NORMALIZE, seed=SEED)\n",
    "    \n",
    "    print('ImageNet...')\n",
    "    pretrained = True\n",
    "    model = DenseNet121(1, pretrained=pretrained, freeze=FREEZE).cuda()\n",
    "    model_p = f'models/best_{DISEASE.lower()}_{N}_imagenet.pth'\n",
    "    train(EPOCHS, train_dl, valid_dl, model, max_lr=.001, save_path=model_p, \n",
    "          unfreeze_during_loop=(.1, .2) if GRADUAL_UNFREEZING else None)\n",
    "    \n",
    "    print('Testing with TTA ....')\n",
    "    load_model(model, model_p)\n",
    "    loss, auc, accuracy = TTA_binary(model, test_dl)\n",
    "    imagenet['loss'].append(loss)\n",
    "    imagenet['auc'].append(auc)\n",
    "    imagenet['accuracy'].append(accuracy)\n",
    "    \n",
    "    print('MURA...')\n",
    "    pretrained = 'MURA'\n",
    "    model = DenseNet121(1, pretrained=pretrained, freeze=FREEZE).cuda()\n",
    "    model_p = f'models/best_{DISEASE.lower()}_{N}_MURA.pth'\n",
    "    train(EPOCHS, train_dl, valid_dl, model, max_lr=.001, save_path=model_p, \n",
    "          unfreeze_during_loop=(.1, .2) if GRADUAL_UNFREEZING else None)\n",
    "\n",
    "    print('Testing with TTA ....')\n",
    "    load_model(model, model_p)\n",
    "    loss, auc, accuracy = TTA_binary(model, test_dl)\n",
    "    MURA['loss'].append(loss)\n",
    "    MURA['auc'].append(auc)\n",
    "    MURA['accuracy'].append(accuracy)\n",
    "    \n",
    "    print('CheXPert...')\n",
    "    pretrained = 'chexpert'\n",
    "    model = DenseNet121(1, pretrained=pretrained, freeze=FREEZE).cuda()\n",
    "    model_p = f'models/best_{DISEASE.lower()}_{N}_chexpert.pth'\n",
    "    train(EPOCHS, train_dl, valid_dl, model, max_lr=.001, save_path=model_p, \n",
    "          unfreeze_during_loop=(.1, .2) if GRADUAL_UNFREEZING else None)\n",
    "\n",
    "    print('Testing with TTA ....')\n",
    "    load_model(model, model_p)\n",
    "    loss, auc, accuracy = TTA_binary(model, test_dl)\n",
    "    chexpert['loss'].append(loss)\n",
    "    chexpert['auc'].append(auc)\n",
    "    chexpert['accuracy'].append(accuracy)\n",
    "    \n",
    "    train_dl = DataBatches(df=train_df_balanced, transforms=TRANSFORMATIONS, shuffle=True,\n",
    "                           img_folder_path=IMG_FOLDER, batch_size=BATCH_SIZE, data=DATA,\n",
    "                           r_pix=R_PIX, normalize=False, seed=SEED)\n",
    "\n",
    "    valid_dl = DataBatches(df=valid_df, transforms=None, shuffle=False,\n",
    "                           img_folder_path=IMG_FOLDER, batch_size=BATCH_SIZE, data=DATA,\n",
    "                           r_pix=R_PIX, normalize=False, seed=SEED)\n",
    "\n",
    "    test_dl = DataBatches(df=test_df, transforms=TRANSFORMATIONS, shuffle=False,\n",
    "                          img_folder_path=IMG_FOLDER, batch_size=BATCH_SIZE, data=DATA,\n",
    "                          r_pix=R_PIX, normalize=False, seed=SEED)\n",
    "\n",
    "    print('No pretrained...')\n",
    "    pretrained = True\n",
    "    model = DenseNet121(1, pretrained=False, freeze=False).cuda()\n",
    "    model_p = f'models/best_{DISEASE.lower()}_{N}_no_pretrained.pth'\n",
    "    train(EPOCHS, train_dl, valid_dl, model, max_lr=.001, save_path=model_p,\n",
    "          unfreeze_during_loop=None)\n",
    "\n",
    "    print('Testing with TTA ....')\n",
    "    load_model(model, model_p)\n",
    "    loss, auc, accuracy = TTA_binary(model, test_dl)\n",
    "    no_pretrained['loss'].append(loss)\n",
    "    no_pretrained['auc'].append(auc)\n",
    "    no_pretrained['accuracy'].append(accuracy)\n",
    "\n",
    "imagenet = json.dumps(imagenet)\n",
    "with open(f'data_plots/imagenet_{DISEASE.lower()}.json', 'w') as f:\n",
    "# with open('data_plots/imagenet_small.json', 'w') as f:\n",
    "    f.write(imagenet)\n",
    "\n",
    "MURA = json.dumps(MURA)\n",
    "with open(f'data_plots/MURA_{DISEASE.lower()}.json', 'w') as f:\n",
    "# with open('data_plots/MURA_small.json', 'w') as f:\n",
    "    f.write(MURA)\n",
    "    \n",
    "chexpert = json.dumps(chexpert)\n",
    "with open(f'data_plots/chexpert_{DISEASE.lower()}.json', 'w') as f:\n",
    "# with open('data_plots/chexpert_small.json', 'w') as f:\n",
    "    f.write(chexpert)\n",
    "\n",
    "no_pretrained = json.dumps(no_pretrained)\n",
    "with open(f'data_plots/no_pretrained_{DISEASE.lower()}.json', 'w') as f:\n",
    "# with open('data_plots/no_pretrained_small.json', 'w') as f:\n",
    "    f.write(no_pretrained)\n"
   ]
  },
  {
   "cell_type": "code",
   "execution_count": 1,
   "metadata": {},
   "outputs": [
    {
     "data": {
      "text/plain": [
       "'test'"
      ]
     },
     "execution_count": 1,
     "metadata": {},
     "output_type": "execute_result"
    }
   ],
   "source": [
    "\"Test\".lower() "
   ]
  },
  {
   "cell_type": "markdown",
   "metadata": {},
   "source": [
    "# Results\n",
    "\n",
    "## 50-2000"
   ]
  },
  {
   "cell_type": "code",
   "execution_count": 10,
   "metadata": {
    "collapsed": true
   },
   "outputs": [],
   "source": [
    "import json"
   ]
  },
  {
   "cell_type": "code",
   "execution_count": 35,
   "metadata": {
    "collapsed": true
   },
   "outputs": [],
   "source": [
    "x = [50,100,200,400,600,800,1000,1200,1400,1600,1800, 2000]\n",
    "with open('./data_plots/no_pretrained.json') as json_f:\n",
    "    no_pretrained = json.load(json_f)\n",
    "with open('./data_plots/imagenet.json') as json_f:\n",
    "    imagenet = json.load(json_f)\n",
    "with open('./data_plots/MURA.json') as json_f:\n",
    "    MURA = json.load(json_f)\n",
    "with open('./data_plots/chexpert.json') as json_f:\n",
    "    chexpert = json.load(json_f)\n",
    "with open('./data_plots/13diseases.json') as json_f:\n",
    "    diseases13 = json.load(json_f)"
   ]
  },
  {
   "cell_type": "code",
   "execution_count": 36,
   "metadata": {
    "scrolled": true
   },
   "outputs": [
    {
     "data": {
      "image/png": "[encoded data removed]",
      "text/plain": [
       "<Figure size 432x288 with 1 Axes>"
      ]
     },
     "metadata": {},
     "output_type": "display_data"
    }
   ],
   "source": [
    "plt.plot(x,imagenet['auc'], label=\"ImageNet\")\n",
    "plt.plot(x,MURA['auc'], label=\"MURA\")\n",
    "plt.plot(x,chexpert['auc'], label=\"chexpert\")\n",
    "plt.plot(x,diseases13['auc'], label=\"13 diseases\")\n",
    "plt.plot(x,no_pretrained['auc'], label=\"no pre-trained\")\n",
    "plt.legend()\n",
    "plt.ylim(.45,1)\n",
    "plt.title('AUC')\n",
    "plt.xlabel(\"# training samples\")\n",
    "plt.show()"
   ]
  },
  {
   "cell_type": "code",
   "execution_count": 37,
   "metadata": {},
   "outputs": [
    {
     "data": {
      "image/png": "[encoded data removed]",
      "text/plain": [
       "<Figure size 432x288 with 1 Axes>"
      ]
     },
     "metadata": {},
     "output_type": "display_data"
    }
   ],
   "source": [
    "plt.plot(x,imagenet['accuracy'], label=\"ImageNet\")\n",
    "plt.plot(x,MURA['accuracy'], label=\"MURA\")\n",
    "plt.plot(x,chexpert['accuracy'], label=\"chexpert\")\n",
    "plt.plot(x,diseases13['accuracy'], label=\"13 diseases\")\n",
    "plt.plot(x,no_pretrained['accuracy'], label=\"no pre-trained\")\n",
    "plt.legend()\n",
    "plt.ylim(.45,1)\n",
    "plt.title('Accuracy')\n",
    "plt.xlabel(\"# training samples\")\n",
    "plt.show()"
   ]
  },
  {
   "cell_type": "markdown",
   "metadata": {
    "collapsed": true
   },
   "source": [
    "## Spectrum 5-50"
   ]
  },
  {
   "cell_type": "code",
   "execution_count": 1,
   "metadata": {},
   "outputs": [
    {
     "name": "stdout",
     "output_type": "stream",
     "text": [
      "13diseases.json        MURA_small.json\timagenet_small.json\r\n",
      "13diseases_small.json  chexpert.json\tno_pretrained.json\r\n",
      "MURA.json\t       imagenet.json\tno_pretrained_small.json\r\n"
     ]
    }
   ],
   "source": [
    "! ls ./data_plots/"
   ]
  },
  {
   "cell_type": "code",
   "execution_count": 5,
   "metadata": {
    "collapsed": true
   },
   "outputs": [],
   "source": [
    "x = [8,  16, 24, 32, 40, 48]\n",
    "with open('./data_plots/no_pretrained_small.json') as json_f:\n",
    "    no_pretrained = json.load(json_f)\n",
    "with open('./data_plots/imagenet_small.json') as json_f:\n",
    "    imagenet = json.load(json_f)\n",
    "with open('./data_plots/MURA_small.json') as json_f:\n",
    "    MURA = json.load(json_f)\n",
    "with open('./data_plots/13diseases_small.json') as json_f:\n",
    "    diseases13 = json.load(json_f)"
   ]
  },
  {
   "cell_type": "code",
   "execution_count": 8,
   "metadata": {},
   "outputs": [
    {
     "data": {
      "image/png": "[encoded data removed]",
      "text/plain": [
       "<Figure size 432x288 with 1 Axes>"
      ]
     },
     "metadata": {},
     "output_type": "display_data"
    }
   ],
   "source": [
    "plt.plot(x,imagenet['auc'], label=\"ImageNet\")\n",
    "plt.plot(x,MURA['auc'], label=\"MURA\")\n",
    "plt.plot(x,diseases13['auc'], label=\"13 diseases\")\n",
    "plt.plot(x,no_pretrained['auc'], label=\"No pretrained\")\n",
    "plt.legend()\n",
    "plt.ylim(.4,1)\n",
    "plt.title('AUC')\n",
    "plt.xlabel(\"# training samples\")\n",
    "plt.show()"
   ]
  },
  {
   "cell_type": "code",
   "execution_count": 248,
   "metadata": {},
   "outputs": [
    {
     "data": {
      "image/png": "[encoded data removed]",
      "text/plain": [
       "<Figure size 432x288 with 1 Axes>"
      ]
     },
     "metadata": {},
     "output_type": "display_data"
    }
   ],
   "source": [
    "plt.plot(x,imagenet['accuracy'], label=\"ImageNet\")\n",
    "plt.plot(x,MURA['accuracy'], label=\"MURA\")\n",
    "plt.plot(x,diseases13['accuracy'], label=\"13 diseases\")\n",
    "plt.plot(x,no_pretrained['accuracy'], label=\"No pretrained\")\n",
    "plt.legend()\n",
    "plt.ylim(.4,1)\n",
    "plt.title('Accuracy')\n",
    "plt.xlabel(\"# training samples\")\n",
    "plt.show()"
   ]
  },
  {
   "cell_type": "code",
   "execution_count": null,
   "metadata": {
    "collapsed": true
   },
   "outputs": [],
   "source": []
  }
 ],
 "metadata": {
  "kernelspec": {
   "display_name": "Python 3",
   "language": "python",
   "name": "python3"
  },
  "language_info": {
   "codemirror_mode": {
    "name": "ipython",
    "version": 3
   },
   "file_extension": ".py",
   "mimetype": "text/x-python",
   "name": "python",
   "nbconvert_exporter": "python",
   "pygments_lexer": "ipython3",
   "version": "3.7.3"
  },
  "nav_menu": {},
  "toc": {
   "navigate_menu": true,
   "number_sections": true,
   "sideBar": true,
   "threshold": 6,
   "toc_cell": false,
   "toc_section_display": "block",
   "toc_window_display": false
  }
 },
 "nbformat": 4,
 "nbformat_minor": 2
}
