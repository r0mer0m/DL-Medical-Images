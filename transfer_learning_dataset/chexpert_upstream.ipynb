{
 "cells": [
  {
   "cell_type": "markdown",
   "metadata": {},
   "source": [
    "# Transfer learning experiments\n",
    "\n",
    "This notebook includes:\n",
    "1) Implement a transfer learning from ImageNet > 13 diseases > 1 disease. \n",
    "2) Compared performance against ImageNet > 1 disease and ImageNet > MURA > 1 disease \n",
    "\n",
    "Results for disease corresponding to index 10.\n",
    "\n",
    "## Imports & global variables"
   ]
  },
  {
   "cell_type": "markdown",
   "metadata": {},
   "source": [
    "We choose `idx=10` because from previous experiments we have detected a strong signal and a sufficient amount of positive cases. "
   ]
  },
  {
   "cell_type": "code",
   "execution_count": 27,
   "metadata": {
    "collapsed": true
   },
   "outputs": [],
   "source": [
    "%reload_ext autoreload\n",
    "%autoreload 2\n",
    "%matplotlib inline\n",
    "\n",
    "import sys; sys.path.append(\"..\")\n",
    "import warnings; warnings.filterwarnings('ignore')\n",
    "\n",
    "from core import * \n",
    "from data_manipulation import Transform, RandomRotation, Flip, RandomCrop\n",
    "from utils import save_model, load_model, lr_loss_plot, resize\n",
    "from architectures import DenseNet121\n",
    "from train_functions import OptimizerWrapper, TrainingPolicy, FinderPolicy, validate_multilabel, lr_finder, validate_binary\n",
    "\n",
    "\n",
    "\n",
    "seed = 42\n",
    "r_pix = 8\n",
    "IDX = 10\n",
    "BATCH_SIZE = 16\n",
    "EPOCHS = 10\n",
    "TRANSFORMATIONS = [RandomRotation(arc_width=20), Flip(), RandomCrop(r_pix=r_pix)]\n",
    "PRETRAINED = True\n",
    "NORMALIZE = True # ImageNet\n",
    "FREEZE = True\n",
    "GRADUAL_UNFREEZING = True\n",
    "DATA = '14diseases'\n",
    "\n",
    "\n",
    "BASE_PATH = Path('../..')\n",
    "PATH = BASE_PATH/'data'\n",
    "# SAVE_DATA = BASE_PATH/'output/real_data_experiments/multilabel/results'\n",
    "SAVE_DIRECTORY = BASE_PATH/'output/real_data_experiments/multilabel/chexPert-model'\n",
    "IMG_FOLDER = PATH/'ChesXPert-250'"
   ]
  },
  {
   "cell_type": "markdown",
   "metadata": {},
   "source": [
    "# Pre-process images"
   ]
  },
  {
   "cell_type": "code",
   "execution_count": 2,
   "metadata": {
    "collapsed": true
   },
   "outputs": [],
   "source": [
    "# ! mkdir $PATH/ChesXPert-250\n",
    "# ! mkdir $BASE_PATH/'output/real_data_experiments/multilabel/chexPert-model'"
   ]
  },
  {
   "cell_type": "code",
   "execution_count": 141,
   "metadata": {},
   "outputs": [
    {
     "name": "stdout",
     "output_type": "stream",
     "text": [
      "train  train.csv  valid  valid.csv\r\n"
     ]
    }
   ],
   "source": [
    "! ls ../../data/CheXpert-v1.0-small"
   ]
  },
  {
   "cell_type": "code",
   "execution_count": 262,
   "metadata": {
    "collapsed": true
   },
   "outputs": [],
   "source": [
    "train_df = pd.read_csv(PATH/\"CheXpert-v1.0-small/train.csv\")\n",
    "valid_df = pd.read_csv(PATH/\"CheXpert-v1.0-small/valid.csv\")"
   ]
  },
  {
   "cell_type": "code",
   "execution_count": 263,
   "metadata": {},
   "outputs": [
    {
     "data": {
      "text/plain": [
       "Index(['Path', 'Sex', 'Age', 'Frontal/Lateral', 'AP/PA', 'No Finding',\n",
       "       'Enlarged Cardiomediastinum', 'Cardiomegaly', 'Lung Opacity',\n",
       "       'Lung Lesion', 'Edema', 'Consolidation', 'Pneumonia', 'Atelectasis',\n",
       "       'Pneumothorax', 'Pleural Effusion', 'Pleural Other', 'Fracture',\n",
       "       'Support Devices'],\n",
       "      dtype='object')"
      ]
     },
     "execution_count": 263,
     "metadata": {},
     "output_type": "execute_result"
    }
   ],
   "source": [
    "train_df.columns"
   ]
  },
  {
   "cell_type": "markdown",
   "metadata": {},
   "source": [
    "We are interested in similar chest x-ray images to the down-stream task. We filter the images to only use the frontal chest x-rays. "
   ]
  },
  {
   "cell_type": "code",
   "execution_count": 264,
   "metadata": {
    "collapsed": true
   },
   "outputs": [],
   "source": [
    "train_df = train_df[train_df['Frontal/Lateral']==\"Frontal\"]\n",
    "valid_df = valid_df[valid_df['Frontal/Lateral']==\"Frontal\"]"
   ]
  },
  {
   "cell_type": "markdown",
   "metadata": {},
   "source": [
    "Target in the paper are `Atelectasis`, `Cardiomegaly`, `Consolidation`, `Edema` and `Pleural Effusion`."
   ]
  },
  {
   "cell_type": "code",
   "execution_count": 265,
   "metadata": {
    "collapsed": true
   },
   "outputs": [],
   "source": [
    "target_columns = ['Atelectasis', 'Cardiomegaly', 'Consolidation', 'Edema', 'Pleural Effusion']\n",
    "keep_columns = ['Path'] + target_columns"
   ]
  },
  {
   "cell_type": "code",
   "execution_count": 266,
   "metadata": {
    "collapsed": true
   },
   "outputs": [],
   "source": [
    "train_df = train_df[keep_columns]\n",
    "valid_df = valid_df[keep_columns]"
   ]
  },
  {
   "cell_type": "markdown",
   "metadata": {},
   "source": [
    "We will replace uncertain labels according to the best result between those two approaches in Table 3 of [CheXpert: A Large Chest Radiograph Dataset\n",
    "with Uncertainty Labels and Expert Comparison](https://arxiv.org/pdf/1901.07031.pdf). Following the approach of [Simon](https://github.com/simongrest/chexpert-entries/blob/master/replicating_chexpert.ipynb) for simplicity."
   ]
  },
  {
   "cell_type": "code",
   "execution_count": 267,
   "metadata": {
    "collapsed": true
   },
   "outputs": [],
   "source": [
    "one_na_features = ['Atelectasis', 'Edema']\n",
    "zero_na_features = ['Cardiomegaly', 'Consolidation', 'Pleural Effusion']"
   ]
  },
  {
   "cell_type": "code",
   "execution_count": 268,
   "metadata": {
    "collapsed": true
   },
   "outputs": [],
   "source": [
    "def na_imputation(df, one_features=one_na_features, zero_features=zero_na_features):\n",
    "    \n",
    "    for feature in target_columns:\n",
    "        df[feature][df[feature].isna()] = 1 if feature in one_features else 0\n",
    "        df[feature] = df[feature].astype(int)\n",
    "    \n",
    "    return df\n",
    "\n",
    "train_df = na_imputation(train_df)\n",
    "valid_df = na_imputation(valid_df)"
   ]
  },
  {
   "cell_type": "code",
   "execution_count": 269,
   "metadata": {},
   "outputs": [
    {
     "data": {
      "text/plain": [
       "Path                0\n",
       "Atelectasis         0\n",
       "Cardiomegaly        0\n",
       "Consolidation       0\n",
       "Edema               0\n",
       "Pleural Effusion    0\n",
       "dtype: int64"
      ]
     },
     "execution_count": 269,
     "metadata": {},
     "output_type": "execute_result"
    }
   ],
   "source": [
    "train_df.isna().sum()"
   ]
  },
  {
   "cell_type": "code",
   "execution_count": 270,
   "metadata": {},
   "outputs": [
    {
     "data": {
      "text/plain": [
       "(191027, 202, 191229)"
      ]
     },
     "execution_count": 270,
     "metadata": {},
     "output_type": "execute_result"
    }
   ],
   "source": [
    "len(train_df), len(valid_df), len(train_df) + len(valid_df)"
   ]
  },
  {
   "cell_type": "markdown",
   "metadata": {},
   "source": [
    "Increase validation dataset."
   ]
  },
  {
   "cell_type": "code",
   "execution_count": 271,
   "metadata": {
    "collapsed": true
   },
   "outputs": [],
   "source": [
    "train_idx = np.random.choice(train_df.index, int(len(train_df)*.9), replace=False)\n",
    "\n",
    "df_aux = train_df[np.logical_not(train_df.index.isin(train_idx))]\n",
    "train_df = train_df.loc[train_idx,:]\n",
    "valid_df = pd.concat([valid_df, df_aux])"
   ]
  },
  {
   "cell_type": "code",
   "execution_count": 272,
   "metadata": {},
   "outputs": [
    {
     "data": {
      "text/plain": [
       "(171924, 19305, 191229)"
      ]
     },
     "execution_count": 272,
     "metadata": {},
     "output_type": "execute_result"
    }
   ],
   "source": [
    "len(train_df), len(valid_df), len(train_df) + len(valid_df)"
   ]
  },
  {
   "cell_type": "markdown",
   "metadata": {},
   "source": [
    "In MURA we have:\n",
    "* 36,808 training examples \n",
    "* 3,197 validation examples\n",
    "\n",
    "For a fair comparison let's down-sample this one."
   ]
  },
  {
   "cell_type": "code",
   "execution_count": 273,
   "metadata": {
    "collapsed": true
   },
   "outputs": [],
   "source": [
    "# train_df = train_df.sample(n=36808, replace=False)\n",
    "# valid_df = valid_df.sample(n=3197, replace=False)"
   ]
  },
  {
   "cell_type": "code",
   "execution_count": 274,
   "metadata": {
    "collapsed": true
   },
   "outputs": [],
   "source": [
    "train_df.reset_index(drop=True, inplace=True)\n",
    "valid_df.reset_index(drop=True, inplace=True)"
   ]
  },
  {
   "cell_type": "markdown",
   "metadata": {},
   "source": [
    "# Resize images"
   ]
  },
  {
   "cell_type": "markdown",
   "metadata": {},
   "source": [
    "Get aspect ratio:"
   ]
  },
  {
   "cell_type": "code",
   "execution_count": 196,
   "metadata": {
    "collapsed": true
   },
   "outputs": [],
   "source": [
    "from collections import Counter"
   ]
  },
  {
   "cell_type": "code",
   "execution_count": 198,
   "metadata": {
    "collapsed": true
   },
   "outputs": [],
   "source": [
    "c = Counter()"
   ]
  },
  {
   "cell_type": "code",
   "execution_count": 203,
   "metadata": {},
   "outputs": [
    {
     "data": {
      "application/vnd.jupyter.widget-view+json": {
       "model_id": "c0ef818f215145af8a2f6c8779719d85",
       "version_major": 2,
       "version_minor": 0
      },
      "text/plain": [
       "A Jupyter Widget"
      ]
     },
     "metadata": {},
     "output_type": "display_data"
    },
    {
     "data": {
      "text/plain": [
       "[(0.8, 144030)]"
      ]
     },
     "execution_count": 203,
     "metadata": {},
     "output_type": "execute_result"
    }
   ],
   "source": [
    "def most_common_aspect_ratio(df):\n",
    "    c = []\n",
    "    for p in tqdm_notebook(df.Path):\n",
    "        path = ORIG_PATH/p\n",
    "        x = cv2.imread(str(path))#.astype(np.float32)\n",
    "        x = cv2.cvtColor(x, cv2.COLOR_BGR2RGB) #/ 255\n",
    "        h,w, _ = x.shape\n",
    "        c.append(round(h/w, 1))\n",
    "    c = Counter(c)\n",
    "    return c.most_common(1)\n",
    "\n",
    "# Run once\n",
    "# most_common = most_common_aspect_ratio(train_df)\n",
    "# most_common"
   ]
  },
  {
   "cell_type": "markdown",
   "metadata": {},
   "source": [
    "We obtain a aspect ratio of $\\frac{h}{w}=0.8$."
   ]
  },
  {
   "cell_type": "code",
   "execution_count": 211,
   "metadata": {
    "collapsed": true
   },
   "outputs": [],
   "source": [
    "ASPECT_RATIO=.8"
   ]
  },
  {
   "cell_type": "code",
   "execution_count": 275,
   "metadata": {
    "collapsed": true
   },
   "outputs": [],
   "source": [
    "def resize_all(df, dir_from, dir_to):\n",
    "    for idx in tqdm_notebook(range(len(df))):\n",
    "        path = dir_from/df.Path[idx]\n",
    "        x = cv2.imread(str(path))#.astype(np.float32)\n",
    "        x = cv2.cvtColor(x, cv2.COLOR_BGR2RGB) #/ 255\n",
    "#         'CheXpert-v1.0-small/train/patient04427/study28/view2_frontal.jpg' -> 'train_patient04427_study28_view2_frontal.jpg'\n",
    "        new_p = '_'.join(df.Path[idx].split('/')[1:])\n",
    "        x = resize(x, (250, int(250*.8)))\n",
    "        df['Path'][idx] = new_p\n",
    "        cv2.imwrite(str(dir_to/new_p), x)\n",
    "    return df"
   ]
  },
  {
   "cell_type": "code",
   "execution_count": 276,
   "metadata": {
    "collapsed": true
   },
   "outputs": [],
   "source": [
    "ORIG_PATH = PATH\n",
    "DEST_PATH = PATH/'ChesXPert-250'"
   ]
  },
  {
   "cell_type": "code",
   "execution_count": null,
   "metadata": {},
   "outputs": [
    {
     "data": {
      "application/vnd.jupyter.widget-view+json": {
       "model_id": "eef259cdfaa2468bae3ccbfcb6e1f27c",
       "version_major": 2,
       "version_minor": 0
      },
      "text/plain": [
       "A Jupyter Widget"
      ]
     },
     "metadata": {},
     "output_type": "display_data"
    }
   ],
   "source": [
    "train_df = resize_all(train_df, ORIG_PATH, DEST_PATH)\n",
    "valid_df = resize_all(valid_df, ORIG_PATH, DEST_PATH)"
   ]
  },
  {
   "cell_type": "code",
   "execution_count": 281,
   "metadata": {
    "collapsed": true
   },
   "outputs": [],
   "source": [
    "# train_df.to_csv('train_df_chexpert_resized.csv')\n",
    "# valid_df.to_csv('valid_df_chexpert_resized.csv')"
   ]
  },
  {
   "cell_type": "code",
   "execution_count": 283,
   "metadata": {
    "collapsed": true
   },
   "outputs": [],
   "source": [
    "path = DEST_PATH/train_df.Path[0]\n",
    "x = cv2.imread(str(path))#.astype(np.float32)\n",
    "x = cv2.cvtColor(x, cv2.COLOR_BGR2RGB)"
   ]
  },
  {
   "cell_type": "code",
   "execution_count": 284,
   "metadata": {},
   "outputs": [
    {
     "data": {
      "text/plain": [
       "<matplotlib.image.AxesImage at 0x7f2cee2602b0>"
      ]
     },
     "execution_count": 284,
     "metadata": {},
     "output_type": "execute_result"
    },
    {
     "data": {
      "image/png": "[encoded data removed]",
      "text/plain": [
       "<Figure size 432x288 with 1 Axes>"
      ]
     },
     "metadata": {},
     "output_type": "display_data"
    }
   ],
   "source": [
    "plt.imshow(x)"
   ]
  },
  {
   "cell_type": "markdown",
   "metadata": {},
   "source": [
    "# Algorithm itself"
   ]
  },
  {
   "cell_type": "code",
   "execution_count": 28,
   "metadata": {
    "collapsed": true
   },
   "outputs": [],
   "source": [
    "train_df = pd.read_csv('train_df_chexpert_resized.csv')\n",
    "valid_df = pd.read_csv('valid_df_chexpert_resized.csv')"
   ]
  },
  {
   "cell_type": "markdown",
   "metadata": {},
   "source": [
    "# Dataset and Dataloader"
   ]
  },
  {
   "cell_type": "code",
   "execution_count": 29,
   "metadata": {
    "collapsed": true
   },
   "outputs": [],
   "source": [
    "class CheXPertDataSet(Dataset):\n",
    "    \"\"\"\n",
    "    Basic Images DataSet\n",
    "\n",
    "    Args:\n",
    "        dataframe with data: image_file, label\n",
    "    \"\"\"\n",
    "\n",
    "    def __init__(self, df, image_path, idx):\n",
    "        self.image_files = df[\"Path\"].values\n",
    "        # self.labels = df[\"Label\"].values\n",
    "        self.lables = df[['Atelectasis', 'Cardiomegaly', 'Consolidation', 'Edema', 'Pleural Effusion']].values\n",
    "        self.lables[self.lables==-1] = 0\n",
    "        self.image_path = image_path\n",
    "\n",
    "    def __getitem__(self, index):\n",
    "        path = self.image_path / self.image_files[index]\n",
    "        x = cv2.imread(str(path)).astype(np.float32)\n",
    "        x = cv2.cvtColor(x, cv2.COLOR_BGR2RGB) / 255\n",
    "        y = self.lables[index]\n",
    "        return x, y\n",
    "\n",
    "    def __len__(self):\n",
    "        return len(self.image_files)\n",
    "    \n",
    "class DataBatches:\n",
    "    '''\n",
    "    Creates a dataloader using the specificed data frame with the dataset corresponding to \"data\".\n",
    "    '''\n",
    "\n",
    "    def __init__(self, df, idx, transforms, shuffle, img_folder_path, batch_size=16, num_workers=8,\n",
    "                 drop_last=False, r_pix=8, normalize=True, seed=42):\n",
    "\n",
    "        self.dataset = Transform(CheXPertDataSet(df, image_path=img_folder_path, idx=idx),\n",
    "                                 transforms=transforms, normalize=normalize, seed=seed, r_pix=r_pix)\n",
    "        self.dataloader = DataLoader(\n",
    "            self.dataset, batch_size=batch_size, num_workers=num_workers, pin_memory=True,\n",
    "            shuffle=shuffle, drop_last=drop_last\n",
    "        )\n",
    "       \n",
    "\n",
    "    def __iter__(self): return ((x.cuda().float(), y.cuda().float()) for (x, y) in self.dataloader)\n",
    "\n",
    "    def __len__(self): return len(self.dataloader)\n",
    "\n",
    "    def set_random_choices(self):\n",
    "        if hasattr(self.dataset, \"set_random_choices\"): self.dataset.set_random_choices()\n"
   ]
  },
  {
   "cell_type": "code",
   "execution_count": 30,
   "metadata": {
    "collapsed": true
   },
   "outputs": [],
   "source": [
    "train_dl = DataBatches(df=train_df, idx=IDX, transforms=TRANSFORMATIONS, shuffle=True,\n",
    "                       img_folder_path=IMG_FOLDER, batch_size=BATCH_SIZE, \n",
    "                       r_pix=r_pix, normalize=NORMALIZE, seed=seed)\n",
    "\n",
    "valid_dl = DataBatches(df=valid_df, idx=IDX, transforms=None, shuffle=False,\n",
    "                       img_folder_path=IMG_FOLDER, batch_size=BATCH_SIZE, \n",
    "                       r_pix=r_pix, normalize=NORMALIZE, seed=seed)"
   ]
  },
  {
   "cell_type": "code",
   "execution_count": 24,
   "metadata": {
    "collapsed": true
   },
   "outputs": [],
   "source": [
    "# train_dl.set_random_choices()\n",
    "# x,y = next(iter(train_dl))\n",
    "# x.shape, y.shape"
   ]
  },
  {
   "cell_type": "markdown",
   "metadata": {},
   "source": [
    "# Lr finder"
   ]
  },
  {
   "cell_type": "code",
   "execution_count": 25,
   "metadata": {},
   "outputs": [
    {
     "data": {
      "application/vnd.jupyter.widget-view+json": {
       "model_id": "a4c9ac06dbb54799a2c936f57ad6c597",
       "version_major": 2,
       "version_minor": 0
      },
      "text/plain": [
       "A Jupyter Widget"
      ]
     },
     "metadata": {},
     "output_type": "display_data"
    },
    {
     "data": {
      "application/vnd.jupyter.widget-view+json": {
       "model_id": "c745ba3544a94e6b89f757174fd5fb6c",
       "version_major": 2,
       "version_minor": 0
      },
      "text/plain": [
       "A Jupyter Widget"
      ]
     },
     "metadata": {},
     "output_type": "display_data"
    },
    {
     "data": {
      "image/png": "[encoded data removed]",
      "text/plain": [
       "<Figure size 432x288 with 1 Axes>"
      ]
     },
     "metadata": {},
     "output_type": "display_data"
    },
    {
     "data": {
      "image/png": "[encoded data removed]",
      "text/plain": [
       "<Figure size 432x288 with 1 Axes>"
      ]
     },
     "metadata": {},
     "output_type": "display_data"
    }
   ],
   "source": [
    "m = DenseNet121(out_size=5, pretrained=PRETRAINED, freeze=False).cuda()\n",
    "lrs, losses = lr_finder(m, n_epochs=1, train_dl=train_dl, min_lr=.1e-4, early_stopping=500)"
   ]
  },
  {
   "cell_type": "code",
   "execution_count": 13,
   "metadata": {
    "collapsed": true
   },
   "outputs": [],
   "source": [
    "def cos_annealing(start_lr, end_lr, n_iterations):\n",
    "    i = np.arange(n_iterations)\n",
    "    c_i = 1 + np.cos(i * np.pi / n_iterations)\n",
    "    return end_lr + (start_lr - end_lr) / 2 * c_i\n",
    "\n",
    "class TrainingPolicy:\n",
    "    '''Cretes the lr and momentum policy'''\n",
    "\n",
    "    def __init__(self, n_epochs, dl, max_lr, pctg=.3, moms=(.95, .85),\n",
    "                 delta=1e-4, div_factor=25.):\n",
    "        \n",
    "        total_iterations = n_epochs * len(dl)\n",
    "\n",
    "        iter1 = int(total_iterations * pctg)\n",
    "        iter2 = total_iterations - int(total_iterations * pctg)\n",
    "        iterations = (iter1, iter2)\n",
    "\n",
    "        min_start = max_lr / div_factor\n",
    "        min_end = min_start * delta\n",
    "\n",
    "        lr_segments = ((min_start, max_lr), (max_lr, min_end))\n",
    "        mom_segments = (moms, (moms[1], moms[0]))\n",
    "\n",
    "        self.lr_schedule = self._create_schedule(lr_segments, iterations)\n",
    "        self.mom_schedule = self._create_schedule(mom_segments, iterations)\n",
    "\n",
    "        self.idx = -1\n",
    "\n",
    "    def _create_schedule(self, segments, iterations):\n",
    "        '''\n",
    "        Creates a schedule given a function, behaviour and size\n",
    "        '''\n",
    "        stages = [cos_annealing(start, end, n) for ((start, end), n) in zip(segments, iterations)]\n",
    "        return np.concatenate(stages)\n",
    "\n",
    "    def step(self):\n",
    "        self.idx += 1\n",
    "        return self.lr_schedule[self.idx], self.mom_schedule[self.idx]\n",
    "    \n",
    "def train(n_epochs, train_dl, valid_dl, model, max_lr=.01, wd=0, alpha=1./ 3,\n",
    "          save_path=None, unfreeze_during_loop:tuple=None):\n",
    "    \n",
    "    if unfreeze_during_loop:\n",
    "        total_iter = n_epochs*len(train_dl)\n",
    "        first_unfreeze = int(total_iter*unfreeze_during_loop[0])\n",
    "        second_unfreeze = int(total_iter*unfreeze_during_loop[1])\n",
    "\n",
    "    best_loss = np.inf\n",
    "    cnt = 0\n",
    "    \n",
    "    policy = TrainingPolicy(n_epochs=n_epochs, dl=train_dl, max_lr=max_lr)\n",
    "    optimizer = OptimizerWrapper(model, policy, wd=wd, alpha=alpha)\n",
    "\n",
    "    for epoch in tqdm_notebook(range(n_epochs), ):\n",
    "        model.train()\n",
    "        agg_div = 0\n",
    "        agg_loss = 0\n",
    "        train_dl.set_random_choices()\n",
    "        for x, y in tqdm_notebook(train_dl, leave=False):\n",
    "\n",
    "            if unfreeze_during_loop:\n",
    "                if cnt == first_unfreeze: model.unfreeze(1)\n",
    "                if cnt == second_unfreeze: model.unfreeze(0)\n",
    "\n",
    "            out = model(x)\n",
    "            loss = F.binary_cross_entropy_with_logits(input=out, target=y)\n",
    "            optimizer.zero_grad()\n",
    "            loss.backward()\n",
    "            optimizer.step()\n",
    "            \n",
    "            batch = y.shape[0]\n",
    "            agg_loss += batch*loss.item()\n",
    "            agg_div += batch\n",
    "            cnt += 1\n",
    "\n",
    "\n",
    "        val_loss, measure, _ = validate_multilabel(model, valid_dl)\n",
    "        print(f'Ep. {epoch+1} - train loss {agg_loss/agg_div:.4f} -  val loss {val_loss:.4f} AUC {measure:.4f}')\n",
    "\n",
    "        if save_path and val_loss < best_loss:\n",
    "            save_model(model, save_path)\n",
    "            best_loss = val_loss"
   ]
  },
  {
   "cell_type": "code",
   "execution_count": null,
   "metadata": {
    "scrolled": true
   },
   "outputs": [
    {
     "data": {
      "application/vnd.jupyter.widget-view+json": {
       "model_id": "575ac6cd4505451a97e9bb605beae88c",
       "version_major": 2,
       "version_minor": 0
      },
      "text/plain": [
       "A Jupyter Widget"
      ]
     },
     "metadata": {},
     "output_type": "display_data"
    },
    {
     "data": {
      "application/vnd.jupyter.widget-view+json": {
       "model_id": "b9aaa301459b4e14ba8bebcb72f2dde6",
       "version_major": 2,
       "version_minor": 0
      },
      "text/plain": [
       "A Jupyter Widget"
      ]
     },
     "metadata": {},
     "output_type": "display_data"
    },
    {
     "name": "stdout",
     "output_type": "stream",
     "text": [
      "Ep. 1 - train loss 0.4187 -  val loss 0.4109 AUC 0.6473\n"
     ]
    },
    {
     "data": {
      "application/vnd.jupyter.widget-view+json": {
       "model_id": "94ccfea77719463daa953367db8913c8",
       "version_major": 2,
       "version_minor": 0
      },
      "text/plain": [
       "A Jupyter Widget"
      ]
     },
     "metadata": {},
     "output_type": "display_data"
    },
    {
     "name": "stdout",
     "output_type": "stream",
     "text": [
      "Ep. 2 - train loss 0.3729 -  val loss 0.3796 AUC 0.7364\n"
     ]
    },
    {
     "data": {
      "application/vnd.jupyter.widget-view+json": {
       "model_id": "458b1839a5f34169a3c583770862a5b1",
       "version_major": 2,
       "version_minor": 0
      },
      "text/plain": [
       "A Jupyter Widget"
      ]
     },
     "metadata": {},
     "output_type": "display_data"
    },
    {
     "name": "stdout",
     "output_type": "stream",
     "text": [
      "Ep. 3 - train loss 0.3649 -  val loss 0.3690 AUC 0.7448\n"
     ]
    },
    {
     "data": {
      "application/vnd.jupyter.widget-view+json": {
       "model_id": "b17ee315b325436a9564e29c1ae47f91",
       "version_major": 2,
       "version_minor": 0
      },
      "text/plain": [
       "A Jupyter Widget"
      ]
     },
     "metadata": {},
     "output_type": "display_data"
    },
    {
     "name": "stdout",
     "output_type": "stream",
     "text": [
      "Ep. 4 - train loss 0.3569 -  val loss 0.3654 AUC 0.7450\n"
     ]
    },
    {
     "data": {
      "application/vnd.jupyter.widget-view+json": {
       "model_id": "0b156c8888494db1933d3003e0ac8e79",
       "version_major": 2,
       "version_minor": 0
      },
      "text/plain": [
       "A Jupyter Widget"
      ]
     },
     "metadata": {},
     "output_type": "display_data"
    },
    {
     "name": "stdout",
     "output_type": "stream",
     "text": [
      "Ep. 5 - train loss 0.3512 -  val loss 0.3625 AUC 0.7492\n"
     ]
    },
    {
     "data": {
      "application/vnd.jupyter.widget-view+json": {
       "model_id": "78b319334f074dae93a9a2ced2702c00",
       "version_major": 2,
       "version_minor": 0
      },
      "text/plain": [
       "A Jupyter Widget"
      ]
     },
     "metadata": {},
     "output_type": "display_data"
    }
   ],
   "source": [
    "# transforms=[RandomRotation(arc_width=20), Flip(), RandomCrop(r_pix=8)]\n",
    "\n",
    "# train_dl = DataBatches(train_df, img_folder_path=img_folder_path,transforms=transforms,\n",
    "#                        shuffle=True, data=data, batch_size=batch_size, normalize=pretrained)\n",
    "\n",
    "model = DenseNet121(5, pretrained=PRETRAINED, freeze=FREEZE).cuda()\n",
    "save_path = '/data/miguel/practicum/latest_models/chexpert_densenet121.pth'\n",
    "train(EPOCHS, train_dl, valid_dl, model, max_lr=.001, save_path=save_path, \n",
    "      unfreeze_during_loop=(.1, .2) if FREEZE else None)"
   ]
  },
  {
   "cell_type": "markdown",
   "metadata": {},
   "source": [
    "## Script"
   ]
  },
  {
   "cell_type": "code",
   "execution_count": 37,
   "metadata": {},
   "outputs": [
    {
     "name": "stdout",
     "output_type": "stream",
     "text": [
      "Overwriting train_13_labels.py\n"
     ]
    }
   ],
   "source": [
    "%%writefile train_chexpert.py\n",
    "\n",
    "import sys; sys.path.append(\"..\")\n",
    "import warnings; warnings.filterwarnings('ignore')\n",
    "\n",
    "from core import * \n",
    "from data_manipulation import Transform, RandomRotation, Flip, RandomCrop\n",
    "from utils import save_model, load_model, lr_loss_plot\n",
    "from architectures import DenseNet121\n",
    "from train_functions import OptimizerWrapper, validate_multilabel, TTA_multilabel\n",
    "\n",
    "seed = 42\n",
    "r_pix = 8\n",
    "IDX = 10\n",
    "BATCH_SIZE = 16\n",
    "EPOCHS = 10\n",
    "TRANSFORMATIONS = [RandomRotation(arc_width=20), Flip(), RandomCrop(r_pix=r_pix)]\n",
    "PRETRAINED = NORMALIZE = True # ImageNet\n",
    "FREEZE = True\n",
    "GRADUAL_UNFREEZING = True\n",
    "DATA = '14diseases'\n",
    "\n",
    "BASE_PATH = Path('../..')\n",
    "PATH = BASE_PATH/'data'\n",
    "# SAVE_DATA = BASE_PATH/'output/real_data_experiments/multilabel/results'\n",
    "SAVE_DIRECTORY = BASE_PATH/'output/real_data_experiments/multilabel/chexPert-model'\n",
    "IMG_FOLDER = PATH/'ChesXPert-250'\n",
    "\n",
    "##### < --- Data set / loader ---> #####\n",
    "class CheXPertDataSet(Dataset):\n",
    "    \"\"\"\n",
    "    Basic Images DataSet\n",
    "\n",
    "    Args:\n",
    "        dataframe with data: image_file, label\n",
    "    \"\"\"\n",
    "\n",
    "    def __init__(self, df, image_path, idx):\n",
    "        self.image_files = df[\"Path\"].values\n",
    "        # self.labels = df[\"Label\"].values\n",
    "        self.lables = df[['Atelectasis', 'Cardiomegaly', 'Consolidation', 'Edema', 'Pleural Effusion']].values\n",
    "        self.image_path = image_path\n",
    "\n",
    "    def __getitem__(self, index):\n",
    "        path = self.image_path / self.image_files[index]\n",
    "        x = cv2.imread(str(path)).astype(np.float32)\n",
    "        x = cv2.cvtColor(x, cv2.COLOR_BGR2RGB) / 255\n",
    "        y = self.lables[index]\n",
    "        return x, y\n",
    "\n",
    "    def __len__(self):\n",
    "        return len(self.image_files)\n",
    "    \n",
    "class DataBatches:\n",
    "    '''\n",
    "    Creates a dataloader using the specificed data frame with the dataset corresponding to \"data\".\n",
    "    '''\n",
    "\n",
    "    def __init__(self, df, idx, transforms, shuffle, img_folder_path, batch_size=16, num_workers=8,\n",
    "                 drop_last=False, r_pix=8, normalize=True, seed=42):\n",
    "\n",
    "        self.dataset = Transform(CheXPertDataSet(df, image_path=img_folder_path, idx=idx),\n",
    "                                 transforms=transforms, normalize=normalize, seed=seed, r_pix=r_pix)\n",
    "        self.dataloader = DataLoader(\n",
    "            self.dataset, batch_size=batch_size, num_workers=num_workers, pin_memory=True,\n",
    "            shuffle=shuffle, drop_last=drop_last\n",
    "        )\n",
    "       \n",
    "\n",
    "    def __iter__(self): return ((x.cuda().float(), y.cuda().float()) for (x, y) in self.dataloader)\n",
    "\n",
    "    def __len__(self): return len(self.dataloader)\n",
    "\n",
    "    def set_random_choices(self):\n",
    "        if hasattr(self.dataset, \"set_random_choices\"): self.dataset.set_random_choices()\n",
    "\n",
    "            \n",
    "##### < --- Training ---> #####\n",
    "\n",
    "def cos_annealing(start_lr, end_lr, n_iterations):\n",
    "    i = np.arange(n_iterations)\n",
    "    c_i = 1 + np.cos(i * np.pi / n_iterations)\n",
    "    return end_lr + (start_lr - end_lr) / 2 * c_i\n",
    "\n",
    "class TrainingPolicy:\n",
    "    '''Cretes the lr and momentum policy'''\n",
    "\n",
    "    def __init__(self, n_epochs, dl, max_lr, pctg=.3, moms=(.95, .85),\n",
    "                 delta=1e-4, div_factor=25.):\n",
    "        \n",
    "        total_iterations = n_epochs * len(dl)\n",
    "\n",
    "        iter1 = int(total_iterations * pctg)\n",
    "        iter2 = total_iterations - int(total_iterations * pctg)\n",
    "        iterations = (iter1, iter2)\n",
    "\n",
    "        min_start = max_lr / div_factor\n",
    "        min_end = min_start * delta\n",
    "\n",
    "        lr_segments = ((min_start, max_lr), (max_lr, min_end))\n",
    "        mom_segments = (moms, (moms[1], moms[0]))\n",
    "\n",
    "        self.lr_schedule = self._create_schedule(lr_segments, iterations)\n",
    "        self.mom_schedule = self._create_schedule(mom_segments, iterations)\n",
    "\n",
    "        self.idx = -1\n",
    "\n",
    "    def _create_schedule(self, segments, iterations):\n",
    "        '''\n",
    "        Creates a schedule given a function, behaviour and size\n",
    "        '''\n",
    "        stages = [cos_annealing(start, end, n) for ((start, end), n) in zip(segments, iterations)]\n",
    "        return np.concatenate(stages)\n",
    "\n",
    "    def step(self):\n",
    "        self.idx += 1\n",
    "        return self.lr_schedule[self.idx], self.mom_schedule[self.idx]\n",
    "    \n",
    "def train(n_epochs, train_dl, valid_dl, model, max_lr=.01, wd=0, alpha=1./ 3,\n",
    "          save_path=None, unfreeze_during_loop:tuple=None):\n",
    "    \n",
    "    if unfreeze_during_loop:\n",
    "        total_iter = n_epochs*len(train_dl)\n",
    "        first_unfreeze = int(total_iter*unfreeze_during_loop[0])\n",
    "        second_unfreeze = int(total_iter*unfreeze_during_loop[1])\n",
    "\n",
    "    best_loss = np.inf\n",
    "    cnt = 0\n",
    "    \n",
    "    policy = TrainingPolicy(n_epochs=n_epochs, dl=train_dl, max_lr=max_lr)\n",
    "    optimizer = OptimizerWrapper(model, policy, wd=wd, alpha=alpha)\n",
    "\n",
    "    for epoch in range(n_epochs):\n",
    "        model.train()\n",
    "        agg_div = 0\n",
    "        agg_loss = 0\n",
    "        train_dl.set_random_choices()\n",
    "        for x, y in train_dl:\n",
    "\n",
    "            if unfreeze_during_loop:\n",
    "                if cnt == first_unfreeze: model.unfreeze(1)\n",
    "                if cnt == second_unfreeze: model.unfreeze(0)\n",
    "\n",
    "            out = model(x)\n",
    "            loss = F.binary_cross_entropy_with_logits(input=out, target=y)\n",
    "            optimizer.zero_grad()\n",
    "            loss.backward()\n",
    "            optimizer.step()\n",
    "            \n",
    "            batch = y.shape[0]\n",
    "            agg_loss += batch*loss.item()\n",
    "            agg_div += batch\n",
    "            cnt += 1\n",
    "\n",
    "\n",
    "        val_loss, measure, _ = validate_multilabel(model, valid_dl)\n",
    "        print(f'Ep. {epoch+1} - train loss {agg_loss/agg_div:.4f} -  val loss {val_loss:.4f} AUC {measure:.4f}')\n",
    "\n",
    "        if save_path and val_loss < best_loss:\n",
    "            save_model(model, save_path)\n",
    "            best_loss = val_loss\n",
    "\n",
    "            \n",
    "train_df = pd.read_csv('train_df_chexpert_resized.csv')\n",
    "valid_df = pd.read_csv('valid_df_chexpert_resized.csv')\n",
    "\n",
    "train_dl = DataBatches(df=train_df, idx=IDX, transforms=TRANSFORMATIONS, shuffle=True,\n",
    "                       img_folder_path=IMG_FOLDER, batch_size=BATCH_SIZE, \n",
    "                       r_pix=r_pix, normalize=NORMALIZE, seed=seed)\n",
    "\n",
    "valid_dl = DataBatches(df=valid_df, idx=IDX, transforms=None, shuffle=False,\n",
    "                       img_folder_path=IMG_FOLDER, batch_size=BATCH_SIZE, \n",
    "                       r_pix=r_pix, normalize=NORMALIZE, seed=seed)\n",
    "\n",
    "model = DenseNet121(5, pretrained=PRETRAINED, freeze=FREEZE).cuda()\n",
    "\n",
    "model_p = '/data/miguel/practicum/latest_models/chexpert_densenet121.pth'\n",
    "train(EPOCHS, train_dl, valid_dl, model, max_lr=.001, save_path=model_p, \n",
    "      unfreeze_during_loop=(.1, .2) if FREEZE else None)\n"
   ]
  },
  {
   "cell_type": "code",
   "execution_count": null,
   "metadata": {
    "collapsed": true
   },
   "outputs": [],
   "source": []
  }
 ],
 "metadata": {
  "kernelspec": {
   "display_name": "Python 3",
   "language": "python",
   "name": "python3"
  },
  "language_info": {
   "codemirror_mode": {
    "name": "ipython",
    "version": 3
   },
   "file_extension": ".py",
   "mimetype": "text/x-python",
   "name": "python",
   "nbconvert_exporter": "python",
   "pygments_lexer": "ipython3",
   "version": "3.6.7"
  },
  "nav_menu": {},
  "toc": {
   "navigate_menu": true,
   "number_sections": true,
   "sideBar": true,
   "threshold": 6,
   "toc_cell": false,
   "toc_section_display": "block",
   "toc_window_display": false
  }
 },
 "nbformat": 4,
 "nbformat_minor": 2
}
