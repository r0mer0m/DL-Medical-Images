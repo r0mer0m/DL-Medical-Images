{
 "cells": [
  {
   "cell_type": "markdown",
   "metadata": {},
   "source": [
    "In this notebook we illustrate how **one-cycle learning rate & momentum training with annealing** is performed in our experiments, write the script to train in a range of (small) training samples and plot the results of this script.\n",
    "\n",
    "## How is it organized?\n",
    "\n",
    "1. In the first section notebook we illustrate the scenario were ImageNet is used with gradual unfreezing for the whole dataset. This is useful to test how the model behaves when all the data is available. \n",
    "\n",
    "2. In the second section the script is written and we explore different alternatives in transfer learning for a range of training data. We do so by combining regular training with multiple alternatives in transfer learning:\n",
    "\n",
    "    * Is transfer learning used? If so, from what dataset?  We contemplate ImageNet and MURA (general and medical images respectively).\n",
    "    * How is transfer learning done? previous CNN as feature extractor, fine-tune CNN? If we fine-tune, do we use differential learning rates?\n",
    "    * Do we do progressive unfreezing?\n",
    "\n",
    " Some of those options are excluding and other are complementary. For instance, no transfer learning and using the previous CNN as feature extractor are excluding.\n",
    "\n",
    "3. In the last section we plot the results of running the script.\n",
    "\n",
    "## I want to dig deeper\n",
    "\n",
    "This notebook's main purpose is illustrating how one-cycle learning rate & momentum training with annealing is used. All other aspects are imported from `data_manipulation`,`utils`, `architectures` and `train_functions`. If the reader wants to dig dipper in aspects such as how data augmentation is implemented, what policy we use for the learning rate or how the optimizer is used we point them to the modules mentioned above. \n",
    "\n"
   ]
  },
  {
   "cell_type": "markdown",
   "metadata": {},
   "source": [
    "# Using all the available data\n",
    "## Imports & global variables"
   ]
  },
  {
   "cell_type": "code",
   "execution_count": 3,
   "metadata": {
    "collapsed": true
   },
   "outputs": [],
   "source": [
    "%reload_ext autoreload\n",
    "%autoreload 2\n",
    "%matplotlib inline\n",
    "\n",
    "\n",
    "import sys; sys.path.append(\"../../..\")\n",
    "import warnings; warnings.filterwarnings('ignore')\n",
    "\n",
    "from core import * \n",
    "from data_manipulation import DataBatches, RandomRotation, Flip, RandomCrop\n",
    "from utils import save_model, load_model, lr_loss_plot\n",
    "from architectures import DenseNet121\n",
    "from train_functions import OptimizerWrapper, TrainingPolicy, FinderPolicy, validate_multilabel, lr_finder\n",
    "\n",
    "BATCH_SIZE = 16\n",
    "EPOCHS = 8\n",
    "TRANSFORMATIONS = [RandomRotation(arc_width=20), Flip(), RandomCrop(r_pix=8)]\n",
    "PRETRAINED = True # ImageNet\n",
    "FREEZE = True\n",
    "GRADUAL_UNFREEZING = True\n",
    "DATA = '14diseases'\n",
    "\n",
    "\n",
    "BASE_PATH = Path('../../../..')\n",
    "PATH = BASE_PATH/'data'\n",
    "SAVE_DATA = BASE_PATH/'output/real_data_experiments/multilabel/results'\n",
    "SAVE_DIRECTORY = BASE_PATH/'output/real_data_experiments/multilabel/models'\n",
    "IMG_FOLDER = PATH/'ChestXRay-250'\n"
   ]
  },
  {
   "cell_type": "markdown",
   "metadata": {},
   "source": [
    "# MURA Pretrained"
   ]
  },
  {
   "cell_type": "markdown",
   "metadata": {},
   "source": [
    "# Data Batches"
   ]
  },
  {
   "cell_type": "code",
   "execution_count": 4,
   "metadata": {
    "collapsed": true
   },
   "outputs": [],
   "source": [
    "# data preparation\n",
    "train_df = pd.read_csv(PATH/\"train_df.csv\")\n",
    "valid_df = pd.read_csv(PATH/\"val_df.csv\")\n",
    "test_df = pd.read_csv(PATH/\"test_df.csv\")\n",
    "\n",
    "\n",
    "train_dl = DataBatches(train_df, img_folder_path=IMG_FOLDER,transforms=TRANSFORMATIONS,\n",
    "                       shuffle=True, data=DATA, batch_size=BATCH_SIZE, normalize=PRETRAINED)\n",
    "\n",
    "valid_dl = DataBatches(valid_df,img_folder_path=IMG_FOLDER, transforms=False, \n",
    "                       shuffle=False, data=DATA, batch_size=BATCH_SIZE, normalize=PRETRAINED)\n",
    "\n",
    "test_dl = DataBatches(test_df,img_folder_path=IMG_FOLDER, transforms=TRANSFORMATIONS, \n",
    "                      shuffle=False, data=DATA, batch_size=BATCH_SIZE, normalize=PRETRAINED)"
   ]
  },
  {
   "cell_type": "markdown",
   "metadata": {},
   "source": [
    "# LR Finder"
   ]
  },
  {
   "cell_type": "code",
   "execution_count": 7,
   "metadata": {
    "collapsed": true
   },
   "outputs": [],
   "source": [
    "# LR finder loop\n",
    "def lr_finder(model, n_epochs, train_dl, min_lr=1e-4, max_lr=1e-1, save_path=None, early_stopping=200):\n",
    "\n",
    "    if save_path: save_model(model, save_path)\n",
    "    model.train()\n",
    "    \n",
    "    policy = FinderPolicy(n_epochs=n_epochs, dl=train_dl, min_lr=min_lr, max_lr=max_lr)\n",
    "    optimizer = OptimizerWrapper(model, policy)\n",
    "\n",
    "    lrs = optimizer.policy.lr_schedule\n",
    "    \n",
    "    losses = []\n",
    "    cnt = 0\n",
    "\n",
    "    for _ in tqdm_notebook(range(n_epochs)):\n",
    "        train_dl.set_random_choices()\n",
    "        for it, (x, y) in enumerate(tqdm_notebook(train_dl)):\n",
    "\n",
    "            optimizer.zero_grad()\n",
    "\n",
    "            out = model(x)\n",
    "            loss = F.binary_cross_entropy_with_logits(input=out, target=y)\n",
    "\n",
    "            loss.backward()\n",
    "            optimizer.step()\n",
    "\n",
    "            losses.append(loss.item())\n",
    "\n",
    "            if it%200 == 199: lr_loss_plot(lrs, losses)\n",
    "            if cnt==early_stopping: return lrs[:cnt], losses\n",
    "            cnt +=1\n",
    "\n",
    "    if save_path: load_model(model, p)\n",
    "\n",
    "    return lrs, losses"
   ]
  },
  {
   "cell_type": "code",
   "execution_count": 8,
   "metadata": {
    "scrolled": false
   },
   "outputs": [
    {
     "data": {
      "application/vnd.jupyter.widget-view+json": {
       "model_id": "42281c2f1211494fb0568074b2a87801",
       "version_major": 2,
       "version_minor": 0
      },
      "text/plain": [
       "A Jupyter Widget"
      ]
     },
     "metadata": {},
     "output_type": "display_data"
    },
    {
     "data": {
      "application/vnd.jupyter.widget-view+json": {
       "model_id": "f593d3095f204d518de9474c4f81f263",
       "version_major": 2,
       "version_minor": 0
      },
      "text/plain": [
       "A Jupyter Widget"
      ]
     },
     "metadata": {},
     "output_type": "display_data"
    },
    {
     "data": {
      "image/png": "[encoded data removed]",
      "text/plain": [
       "<Figure size 432x288 with 1 Axes>"
      ]
     },
     "metadata": {},
     "output_type": "display_data"
    }
   ],
   "source": [
    "model = DenseNet121(14, pretrained=PRETRAINED, freeze=FREEZE).cuda()\n",
    "lrs, losses  = lr_finder(model, 1, train_dl)"
   ]
  },
  {
   "cell_type": "markdown",
   "metadata": {},
   "source": [
    "# Training definitions"
   ]
  },
  {
   "cell_type": "code",
   "execution_count": null,
   "metadata": {
    "collapsed": true
   },
   "outputs": [],
   "source": [
    "def cos_annealing(start_lr, end_lr, n_iterations):\n",
    "    i = np.arange(n_iterations)\n",
    "    c_i = 1 + np.cos(i * np.pi / n_iterations)\n",
    "    return end_lr + (start_lr - end_lr) / 2 * c_i\n",
    "\n",
    "\n",
    "class TrainingPolicy:\n",
    "    '''Cretes the lr and momentum policy'''\n",
    "\n",
    "    def __init__(self, n_epochs, dl, max_lr, pctg=.3, moms=(.95, .85),\n",
    "                 delta=1e-4, div_factor=25.):\n",
    "        \n",
    "        total_iterations = n_epochs * len(dl)\n",
    "\n",
    "        iter1 = int(total_iterations * pctg)\n",
    "        iter2 = total_iterations - int(total_iterations * pctg)\n",
    "        iterations = (iter1, iter2)\n",
    "\n",
    "        min_start = max_lr / div_factor\n",
    "        min_end = min_start * delta\n",
    "\n",
    "        lr_segments = ((min_start, max_lr), (max_lr, min_end))\n",
    "        mom_segments = (moms, (moms[1], moms[0]))\n",
    "\n",
    "        self.lr_schedule = self._create_schedule(lr_segments, iterations)\n",
    "        self.mom_schedule = self._create_schedule(mom_segments, iterations)\n",
    "\n",
    "        self.idx = -1\n",
    "\n",
    "    def _create_schedule(self, segments, iterations):\n",
    "        '''\n",
    "        Creates a schedule given a function, behaviour and size\n",
    "        '''\n",
    "        stages = [cos_annealing(start, end, n) for ((start, end), n) in zip(segments, iterations)]\n",
    "        return np.concatenate(stages)\n",
    "\n",
    "    def step(self):\n",
    "        self.idx += 1\n",
    "        return self.lr_schedule[self.idx], self.mom_schedule[self.idx]"
   ]
  },
  {
   "cell_type": "code",
   "execution_count": 2,
   "metadata": {},
   "outputs": [
    {
     "ename": "NameError",
     "evalue": "name 'train_dl' is not defined",
     "output_type": "error",
     "traceback": [
      "\u001b[0;31m---------------------------------------------------------------------------\u001b[0m",
      "\u001b[0;31mNameError\u001b[0m                                 Traceback (most recent call last)",
      "\u001b[0;32m<ipython-input-2-566adb0b5703>\u001b[0m in \u001b[0;36m<module>\u001b[0;34m()\u001b[0m\n\u001b[0;32m----> 1\u001b[0;31m \u001b[0mpolicy\u001b[0m \u001b[0;34m=\u001b[0m \u001b[0mTrainingPolicy\u001b[0m\u001b[0;34m(\u001b[0m\u001b[0;36m10\u001b[0m\u001b[0;34m,\u001b[0m \u001b[0mtrain_dl\u001b[0m\u001b[0;34m,\u001b[0m \u001b[0mmax_lr\u001b[0m\u001b[0;34m=\u001b[0m\u001b[0;36m.01\u001b[0m\u001b[0;34m)\u001b[0m\u001b[0;34m\u001b[0m\u001b[0;34m\u001b[0m\u001b[0m\n\u001b[0m\u001b[1;32m      2\u001b[0m \u001b[0;34m\u001b[0m\u001b[0m\n\u001b[1;32m      3\u001b[0m \u001b[0;34m\u001b[0m\u001b[0m\n\u001b[1;32m      4\u001b[0m \u001b[0mplt\u001b[0m\u001b[0;34m.\u001b[0m\u001b[0msubplot\u001b[0m\u001b[0;34m(\u001b[0m\u001b[0;36m1\u001b[0m\u001b[0;34m,\u001b[0m\u001b[0;36m2\u001b[0m\u001b[0;34m,\u001b[0m\u001b[0;36m0\u001b[0m\u001b[0;34m)\u001b[0m\u001b[0;34m\u001b[0m\u001b[0;34m\u001b[0m\u001b[0m\n\u001b[1;32m      5\u001b[0m \u001b[0mplt\u001b[0m\u001b[0;34m.\u001b[0m\u001b[0mplot\u001b[0m\u001b[0;34m(\u001b[0m\u001b[0mpolicy\u001b[0m\u001b[0;34m.\u001b[0m\u001b[0mlr_schedule\u001b[0m\u001b[0;34m)\u001b[0m\u001b[0;34m\u001b[0m\u001b[0;34m\u001b[0m\u001b[0m\n",
      "\u001b[0;31mNameError\u001b[0m: name 'train_dl' is not defined"
     ]
    }
   ],
   "source": [
    "policy = TrainingPolicy(10, train_dl, max_lr=.01)\n",
    "\n",
    "\n",
    "plt.subplot(1,2,0)\n",
    "plt.plot(policy.lr_schedule)\n",
    "plt.title(\"learning rate policy\")\n",
    "\n",
    "plt.subplot(1,2,1)\n",
    "plt.plot(policy.lr_schedule)\n",
    "plt.title(\"momentum policy\")"
   ]
  },
  {
   "cell_type": "code",
   "execution_count": 12,
   "metadata": {
    "collapsed": true
   },
   "outputs": [],
   "source": [
    "def train(n_epochs, train_dl, valid_dl, model, max_lr=.01, wd=0, alpha=1./ 3,\n",
    "          save_path=None, unfreeze_during_loop:tuple=None):\n",
    "    \n",
    "    if unfreeze_during_loop:\n",
    "        total_iter = n_epochs*len(train_dl)\n",
    "        first_unfreeze = int(total_iter*unfreeze_during_loop[0])\n",
    "        second_unfreeze = int(total_iter*unfreeze_during_loop[1])\n",
    "\n",
    "    best_loss = np.inf\n",
    "    cnt = 0\n",
    "    \n",
    "    policy = TrainingPolicy(n_epochs=n_epochs, dl=train_dl, max_lr=max_lr)\n",
    "    optimizer = OptimizerWrapper(model, policy, wd=wd, alpha=alpha)\n",
    "\n",
    "    for epoch in tqdm_notebook(range(n_epochs), ):\n",
    "        model.train()\n",
    "        agg_div = 0\n",
    "        agg_loss = 0\n",
    "        train_dl.set_random_choices()\n",
    "        for x, y in tqdm_notebook(train_dl, leave=False):\n",
    "\n",
    "            if unfreeze_during_loop:\n",
    "                if cnt == first_unfreeze: model.unfreeze(1)\n",
    "                if cnt == second_unfreeze: model.unfreeze(0)\n",
    "\n",
    "            out = model(x)\n",
    "            loss = F.binary_cross_entropy_with_logits(input=out, target=y)\n",
    "            optimizer.zero_grad()\n",
    "            loss.backward()\n",
    "            optimizer.step()\n",
    "            \n",
    "            batch = y.shape[0]\n",
    "            agg_loss += batch*loss.item()\n",
    "            agg_div += batch\n",
    "            cnt += 1\n",
    "\n",
    "\n",
    "        val_loss, measure, _ = validate_multilabel(model, valid_dl)\n",
    "        print(f'Ep. {epoch+1} - train loss {agg_loss/agg_div:.4f} -  val loss {val_loss:.4f} AUC {measure:.4f}')\n",
    "\n",
    "        if save_path and val_loss < best_loss:\n",
    "            save_model(model, save_path)\n",
    "            best_loss = val_loss"
   ]
  },
  {
   "cell_type": "markdown",
   "metadata": {},
   "source": [
    "# Training"
   ]
  },
  {
   "cell_type": "code",
   "execution_count": 16,
   "metadata": {},
   "outputs": [
    {
     "data": {
      "application/vnd.jupyter.widget-view+json": {
       "model_id": "0f03cefd1bbb41d19cc7cc81246fd30f",
       "version_major": 2,
       "version_minor": 0
      },
      "text/plain": [
       "A Jupyter Widget"
      ]
     },
     "metadata": {},
     "output_type": "display_data"
    },
    {
     "data": {
      "application/vnd.jupyter.widget-view+json": {
       "model_id": "2dfe97206d0f48eda594b9052f703f18",
       "version_major": 2,
       "version_minor": 0
      },
      "text/plain": [
       "A Jupyter Widget"
      ]
     },
     "metadata": {},
     "output_type": "display_data"
    },
    {
     "name": "stdout",
     "output_type": "stream",
     "text": [
      "Ep. 1 - train loss 0.1663 -  val loss 0.1519 AUC 0.7481\n"
     ]
    },
    {
     "data": {
      "application/vnd.jupyter.widget-view+json": {
       "model_id": "78dfda997427442da03d89967ff3cd8d",
       "version_major": 2,
       "version_minor": 0
      },
      "text/plain": [
       "A Jupyter Widget"
      ]
     },
     "metadata": {},
     "output_type": "display_data"
    },
    {
     "name": "stdout",
     "output_type": "stream",
     "text": [
      "Ep. 2 - train loss 0.1424 -  val loss 0.1477 AUC 0.7915\n"
     ]
    },
    {
     "data": {
      "application/vnd.jupyter.widget-view+json": {
       "model_id": "e9a73fc6f0db4b2bbb822301f658c140",
       "version_major": 2,
       "version_minor": 0
      },
      "text/plain": [
       "A Jupyter Widget"
      ]
     },
     "metadata": {},
     "output_type": "display_data"
    },
    {
     "name": "stdout",
     "output_type": "stream",
     "text": [
      "Ep. 3 - train loss 0.1389 -  val loss 0.1430 AUC 0.8061\n"
     ]
    },
    {
     "data": {
      "application/vnd.jupyter.widget-view+json": {
       "model_id": "6c6876f0a62c4a3fbb3cb22cca3c1732",
       "version_major": 2,
       "version_minor": 0
      },
      "text/plain": [
       "A Jupyter Widget"
      ]
     },
     "metadata": {},
     "output_type": "display_data"
    },
    {
     "name": "stdout",
     "output_type": "stream",
     "text": [
      "Ep. 4 - train loss 0.1347 -  val loss 0.1455 AUC 0.8083\n"
     ]
    },
    {
     "data": {
      "application/vnd.jupyter.widget-view+json": {
       "model_id": "7f5ff58734c742dbae11c5fa6ff0bb24",
       "version_major": 2,
       "version_minor": 0
      },
      "text/plain": [
       "A Jupyter Widget"
      ]
     },
     "metadata": {},
     "output_type": "display_data"
    },
    {
     "name": "stdout",
     "output_type": "stream",
     "text": [
      "Ep. 5 - train loss 0.1308 -  val loss 0.1413 AUC 0.8180\n"
     ]
    },
    {
     "data": {
      "application/vnd.jupyter.widget-view+json": {
       "model_id": "b8e4f47343034769aaa096207284b6fa",
       "version_major": 2,
       "version_minor": 0
      },
      "text/plain": [
       "A Jupyter Widget"
      ]
     },
     "metadata": {},
     "output_type": "display_data"
    },
    {
     "name": "stdout",
     "output_type": "stream",
     "text": [
      "Ep. 6 - train loss 0.1266 -  val loss 0.1407 AUC 0.8240\n"
     ]
    },
    {
     "data": {
      "application/vnd.jupyter.widget-view+json": {
       "model_id": "242202d653b643d7b9dd718f7fc69414",
       "version_major": 2,
       "version_minor": 0
      },
      "text/plain": [
       "A Jupyter Widget"
      ]
     },
     "metadata": {},
     "output_type": "display_data"
    },
    {
     "name": "stdout",
     "output_type": "stream",
     "text": [
      "Ep. 7 - train loss 0.1222 -  val loss 0.1401 AUC 0.8246\n"
     ]
    },
    {
     "data": {
      "application/vnd.jupyter.widget-view+json": {
       "model_id": "4d3ed4b3f14a47239dae14008067e524",
       "version_major": 2,
       "version_minor": 0
      },
      "text/plain": [
       "A Jupyter Widget"
      ]
     },
     "metadata": {},
     "output_type": "display_data"
    },
    {
     "name": "stdout",
     "output_type": "stream",
     "text": [
      "Ep. 8 - train loss 0.1190 -  val loss 0.1408 AUC 0.8234\n"
     ]
    }
   ],
   "source": [
    "# Whole dataset\n",
    "freeze = True\n",
    "\n",
    "transforms=[RandomRotation(arc_width=20), Flip(), RandomCrop(r_pix=8)]\n",
    "\n",
    "train_dl = DataBatches(train_df, img_folder_path=img_folder_path,transforms=transforms,\n",
    "                       shuffle=True, data=data, batch_size=batch_size, normalize=pretrained)\n",
    "\n",
    "model = DenseNet121(14, pretrained=pretrained, freeze=freeze).cuda()\n",
    "\n",
    "train(epochs, train_dl, valid_dl, model, max_lr=.001, save_path=None, unfreeze_during_loop=(.1, .2) if freeze else None)"
   ]
  },
  {
   "cell_type": "code",
   "execution_count": null,
   "metadata": {
    "collapsed": true
   },
   "outputs": [],
   "source": [
    "test_dl = DataBatches(test_df,img_folder_path=img_folder_path, transforms = True, \n",
    "                      shuffle = False, data=data, batch_size = batch_size, normalize=pretrained)\n",
    "TTA_multilabel(model, test_dl)"
   ]
  },
  {
   "cell_type": "markdown",
   "metadata": {},
   "source": [
    "# Training script"
   ]
  },
  {
   "cell_type": "code",
   "execution_count": 8,
   "metadata": {
    "scrolled": false
   },
   "outputs": [
    {
     "name": "stdout",
     "output_type": "stream",
     "text": [
      "Overwriting disease14_aprx2.py\n"
     ]
    }
   ],
   "source": [
    "%%writefile ../scripts/disease14_aprx2.py\n",
    "\n",
    "import sys; sys.path.append(\"../../..\")\n",
    "\n",
    "from core import * \n",
    "from data_manipulation import DataBatches, RandomRotation, Flip, RandomCrop\n",
    "from utils import save_model, load_model, lr_loss_plot\n",
    "from architectures import DenseNet121\n",
    "from train_functions import OptimizerWrapper, TrainingPolicy, FinderPolicy, validate_multilabel, TTA_multilabel\n",
    "\n",
    "\n",
    "BATCH_SIZE = 16\n",
    "EPOCHS = 50\n",
    "TRANSFORMATIONS = [RandomRotation(arc_width=20), Flip(), RandomCrop(r_pix=8)]\n",
    "DATA = '14diseases'\n",
    "\n",
    "# (pretrained, freeze first blocks, prog_unfreezing)\n",
    "METHODS = [(False, False, False), \n",
    "           (True, True, False), (True, False, False), (True, True, True),\n",
    "           ('MURA', True, False), ('MURA', False, False), ('MURA', True, True)] \n",
    "\n",
    "RANDOM_STATES = range(10)\n",
    "SAMPLE_AMOUNTS = [50,100,200,400,600,800,1000,1200,1400,1600,1800,2000]\n",
    "\n",
    "BASE_PATH = Path('../../../../')\n",
    "PATH = BASE_PATH/'data'\n",
    "SAVE_DIRECTORY = BASE_PATH/'output/real_data_experiments/multilabel/models'\n",
    "SAVE_DATA = BASE_PATH/'output/real_data_experiments/multilabel/results'\n",
    "IMG_FOLDER = PATH/'ChestXRay-250'\n",
    "\n",
    "\n",
    "def train(n_epochs, train_dl, valid_dl, model, div_factor=25., max_lr=.01, wd=0, alpha=1./ 3,\n",
    "          save_path=None, unfreeze_during_loop:tuple=None):\n",
    "    \n",
    "    if unfreeze_during_loop:\n",
    "        total_iter = n_epochs*len(train_dl)\n",
    "        first_unfreeze = int(total_iter*unfreeze_during_loop[0])\n",
    "        second_unfreeze = int(total_iter*unfreeze_during_loop[1])\n",
    "\n",
    "    best_loss = np.inf\n",
    "    cnt = 0\n",
    "    \n",
    "    policy = TrainingPolicy(n_epochs=n_epochs, dl=train_dl, max_lr=max_lr)\n",
    "    optimizer = OptimizerWrapper(model, policy, wd=wd, alpha=alpha)\n",
    "\n",
    "    for epoch in range(n_epochs):\n",
    "        model.train()\n",
    "        agg_div = 0\n",
    "        agg_loss = 0\n",
    "        train_dl.set_random_choices()\n",
    "        for x, y in train_dl:\n",
    "\n",
    "            if unfreeze_during_loop:\n",
    "                if cnt == first_unfreeze: model.unfreeze(1)\n",
    "                if cnt == second_unfreeze: model.unfreeze(0)\n",
    "\n",
    "            out = model(x)\n",
    "            loss = F.binary_cross_entropy_with_logits(input=out, target=y)\n",
    "            optimizer.zero_grad()\n",
    "            loss.backward()\n",
    "            optimizer.step()\n",
    "            \n",
    "            batch = y.shape[0]\n",
    "            agg_loss += batch*loss.item()\n",
    "            agg_div += batch\n",
    "            cnt += 1\n",
    "\n",
    "\n",
    "        val_loss, measure, _ = validate_multilabel(model, valid_dl)\n",
    "        print(f'Ep. {epoch+1} - train loss {agg_loss/agg_div:.4f} -  val loss {val_loss:.4f} AUC {measure:.4f}')\n",
    "\n",
    "        if save_path and val_loss < best_loss:\n",
    "            save_model(model, save_path)\n",
    "            best_loss = val_loss\n",
    "\n",
    "\n",
    "train_df = pd.read_csv(PATH/\"train_df.csv\")\n",
    "valid_df = pd.read_csv(PATH/\"val_df.csv\")\n",
    "test_df = pd.read_csv(PATH/\"test_df.csv\")\n",
    "\n",
    "# train\n",
    "for pretrained, freeze, grad_unfreeze in methods:\n",
    "    \n",
    "    valid_dl = DataBatches(valid_df,img_folder_path=IMG_FOLDER, transforms=False, \n",
    "                           shuffle=False, data=DATA, batch_size=BATCH_SIZE, normalize=pretrained)\n",
    "\n",
    "    for rs in random_states:\n",
    "\n",
    "        train_df = train_df.sample(frac=1)\n",
    "\n",
    "        for N in n_samples:\n",
    "\n",
    "            df = train_df[:N]\n",
    "\n",
    "            train_dl = DataBatches(df, img_folder_path=IMG_FOLDER, transforms=transforms, shuffle=TRANSFORMATIONS,\n",
    "                                   data=DATA, batch_size=BATCH_SIZE, normalize=pretrained)\n",
    "\n",
    "            model = DenseNet121(14, pretrained=pretrained, freeze=freeze).cuda()\n",
    "\n",
    "            save_path = SAVE_DIRECTORY/f\"app2_{pretrained}-{freeze}-{grad_unfreeze}-{N}-{rs}.pth\"\n",
    "\n",
    "            train(epochs, train_dl, valid_dl, model, max_lr=.001, save_path=save_path, unfreeze_during_loop=(.1, .2) if grad_unfreeze else None)\n",
    "            \n",
    "\n",
    "\n",
    "# evalutation\n",
    "for pretrained, freeze, grad_unfreeze in methods:\n",
    "    \n",
    "    losses = [[] for _ in n_samples]\n",
    "    aucs = [[] for _ in n_samples]\n",
    "    \n",
    "    test_dl = DataBatches(test_df, img_folder_path=IMG_FOLDER, transforms=TRANSFORMATIONS,\n",
    "                          shuffle = False, data=DATA, batch_size=BATCH_SIZE, normalize=pretrained)\n",
    "    \n",
    "    for i, N in enumerate(n_samples):\n",
    "        \n",
    "        for rs in random_states:\n",
    "            \n",
    "            model = DenseNet121(14, pretrained=pretrained, freeze=freeze).cuda()\n",
    "\n",
    "            load_path = SAVE_DIRECTORY/f\"app2_{pretrained}-{freeze}-{grad_unfreeze}-{N}-{rs}.pth\"\n",
    "            \n",
    "            load_model(model, load_path)\n",
    "            \n",
    "            loss, mean_auc, _ = TTA_multilabel(model, test_dl, ndl=4)\n",
    "            \n",
    "            losses[i].append(loss)\n",
    "            aucs[i].append(mean_auc)\n",
    "    \n",
    "    # save results\n",
    "    loss_path = SAVE_DATA/f\"losses_{pretrained}_{freeze}_{grad_unfreeze}\"\n",
    "    aucs_path = SAVE_DATA/f\"aucs_{pretrained}_{freeze}_{grad_unfreeze}\"\n",
    "    \n",
    "    numpy.save(loss_path, np.array(losses))\n",
    "    numpy.save(aucs_path, np.array(aucs))"
   ]
  }
 ],
 "metadata": {
  "kernelspec": {
   "display_name": "Python 3",
   "language": "python",
   "name": "python3"
  },
  "language_info": {
   "codemirror_mode": {
    "name": "ipython",
    "version": 3
   },
   "file_extension": ".py",
   "mimetype": "text/x-python",
   "name": "python",
   "nbconvert_exporter": "python",
   "pygments_lexer": "ipython3",
   "version": "3.6.7"
  },
  "nav_menu": {},
  "toc": {
   "navigate_menu": true,
   "number_sections": true,
   "sideBar": true,
   "threshold": 6,
   "toc_cell": false,
   "toc_section_display": "block",
   "toc_window_display": false
  }
 },
 "nbformat": 4,
 "nbformat_minor": 2
}
